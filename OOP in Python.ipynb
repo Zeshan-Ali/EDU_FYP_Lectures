{
 "cells": [
  {
   "cell_type": "code",
   "execution_count": 71,
   "id": "a61aad34",
   "metadata": {},
   "outputs": [],
   "source": [
    "class student:\n",
    "    def __init__(self,math,phy,chem,urdu,eng):\n",
    "        self.math=math\n",
    "        self.phy=phy\n",
    "        self.chem=chem\n",
    "        self.urdu=urdu\n",
    "        self.eng=eng\n",
    "\n",
    "    def calculate_total(self):\n",
    "        self.total= self.math + self.phy+self.chem+self.urdu+self.eng\n",
    "        return self.total\n",
    "    \n",
    "    def calculate_perc(self,total):\n",
    "        total_marks = 500\n",
    "        self.perce = (self.total/total_marks) * 100\n",
    "        return self.perce\n",
    "    def calculate_grade(self,perce):\n",
    "        self.g=''\n",
    "        if(self.perce > 80):\n",
    "            self.g='A'\n",
    "            #print(\"your grade is A\")\n",
    "        elif (self.perce > 70):\n",
    "            self.g='B'\n",
    "            #print(\"your grade is B\")\n",
    "        elif (self.perce > 60):\n",
    "            self.g='C'\n",
    "            #print(\"your grade is C\")\n",
    "        elif (perce > 50):\n",
    "            self.g='D'\n",
    "            #print(\"your grade is D\")\n",
    "        elif (self.perce > 40):\n",
    "            self.g='E'\n",
    "            #print(\"your grade is E\")\n",
    "        else:\n",
    "            self.g='F'\n",
    "            #print(\"your Grade is F\")\n",
    "        return self.g"
   ]
  },
  {
   "cell_type": "code",
   "execution_count": 75,
   "id": "0b875e94",
   "metadata": {},
   "outputs": [
    {
     "name": "stdout",
     "output_type": "stream",
     "text": [
      "your grade is: C\n"
     ]
    }
   ],
   "source": [
    "s1 = student(45,87,60,67,56)\n",
    "total = s1.calculate_total()\n",
    "p = s1.calculate_perc(total)\n",
    "g=s1.calculate_grade(p)\n",
    "print(\"your grade is:\",g)"
   ]
  },
  {
   "cell_type": "code",
   "execution_count": 76,
   "id": "951fee7a",
   "metadata": {},
   "outputs": [
    {
     "name": "stdout",
     "output_type": "stream",
     "text": [
      "you total marks is : 388\n",
      "you percetnage is : 77.60000000000001\n",
      "your grade is: B\n"
     ]
    }
   ],
   "source": [
    "s2 = student(78,87,80,87,56)\n",
    "total = s2.calculate_total()\n",
    "print(\"you total marks is :\",total)\n",
    "p = s2.calculate_perc(total)\n",
    "print(\"you percetnage is :\",p)\n",
    "g=s2.calculate_grade(p)\n",
    "\n",
    "print(\"your grade is:\",g)"
   ]
  },
  {
   "cell_type": "code",
   "execution_count": 77,
   "id": "010cbc2b",
   "metadata": {},
   "outputs": [],
   "source": [
    "students = {\"phy\":67,\"chem\":68,\"math\":45,\"eng\":78,\"urdu\":78}"
   ]
  },
  {
   "cell_type": "code",
   "execution_count": 78,
   "id": "3a224242",
   "metadata": {},
   "outputs": [
    {
     "data": {
      "text/plain": [
       "dict_keys(['phy', 'chem', 'math', 'eng', 'urdu'])"
      ]
     },
     "execution_count": 78,
     "metadata": {},
     "output_type": "execute_result"
    }
   ],
   "source": [
    "students.keys()"
   ]
  },
  {
   "cell_type": "code",
   "execution_count": 79,
   "id": "a30a3e88",
   "metadata": {},
   "outputs": [
    {
     "data": {
      "text/plain": [
       "dict_values([67, 68, 45, 78, 78])"
      ]
     },
     "execution_count": 79,
     "metadata": {},
     "output_type": "execute_result"
    }
   ],
   "source": [
    "students.values()"
   ]
  },
  {
   "cell_type": "code",
   "execution_count": 80,
   "id": "2ef8ec33",
   "metadata": {},
   "outputs": [
    {
     "data": {
      "text/plain": [
       "67"
      ]
     },
     "execution_count": 80,
     "metadata": {},
     "output_type": "execute_result"
    }
   ],
   "source": [
    "students[\"phy\"]"
   ]
  },
  {
   "cell_type": "code",
   "execution_count": null,
   "id": "4957160d",
   "metadata": {},
   "outputs": [],
   "source": []
  },
  {
   "cell_type": "code",
   "execution_count": null,
   "id": "73e6aa58",
   "metadata": {},
   "outputs": [],
   "source": []
  },
  {
   "cell_type": "code",
   "execution_count": 83,
   "id": "8597ca5b",
   "metadata": {},
   "outputs": [],
   "source": [
    "class student:\n",
    "    def __init__(self,list):\n",
    "        self.math= [0]\n",
    "        self.phy= [1]\n",
    "        self.chem= marks[2]\n",
    "        self.urdu= marks[3]\n",
    "        self.eng= marks[4]\n",
    "    def calculate_total(self):\n",
    "        self.total= self.math + self.phy+self.chem+self.urdu+self.eng\n",
    "        return self.total\n",
    "    \n",
    "    def calculate_perc(self,total):\n",
    "        total_marks = 500\n",
    "        self.perce = (self.total/total_marks) * 100\n",
    "        return self.perce\n",
    "    def calculate_grade(self,perce):\n",
    "        self.g=''\n",
    "        if(self.perce > 80):\n",
    "            self.g='A'\n",
    "            #print(\"your grade is A\")\n",
    "        elif (self.perce > 70):\n",
    "            self.g='B'\n",
    "            #print(\"your grade is B\")\n",
    "        elif (self.perce > 60):\n",
    "            self.g='C'\n",
    "            #print(\"your grade is C\")\n",
    "        elif (perce > 50):\n",
    "            self.g='D'\n",
    "            #print(\"your grade is D\")\n",
    "        elif (self.perce > 40):\n",
    "            self.g='E'\n",
    "            #print(\"your grade is E\")\n",
    "        else:\n",
    "            self.g='F'\n",
    "            #print(\"your Grade is F\")\n",
    "        return self.g"
   ]
  },
  {
   "cell_type": "code",
   "execution_count": 85,
   "id": "4e89ac0f",
   "metadata": {},
   "outputs": [
    {
     "ename": "NameError",
     "evalue": "name 'marks' is not defined",
     "output_type": "error",
     "traceback": [
      "\u001b[1;31m---------------------------------------------------------------------------\u001b[0m",
      "\u001b[1;31mNameError\u001b[0m                                 Traceback (most recent call last)",
      "Cell \u001b[1;32mIn[85], line 1\u001b[0m\n\u001b[1;32m----> 1\u001b[0m s1 \u001b[38;5;241m=\u001b[39m student([\u001b[38;5;241m23\u001b[39m,\u001b[38;5;241m6\u001b[39m,\u001b[38;5;241m87\u001b[39m,\u001b[38;5;241m98\u001b[39m,\u001b[38;5;241m67\u001b[39m])\n",
      "Cell \u001b[1;32mIn[83], line 3\u001b[0m, in \u001b[0;36mstudent.__init__\u001b[1;34m(self, list)\u001b[0m\n\u001b[0;32m      2\u001b[0m \u001b[38;5;28;01mdef\u001b[39;00m \u001b[38;5;21m__init__\u001b[39m(\u001b[38;5;28mself\u001b[39m,\u001b[38;5;28mlist\u001b[39m):\n\u001b[1;32m----> 3\u001b[0m     \u001b[38;5;28mself\u001b[39m\u001b[38;5;241m.\u001b[39mmath\u001b[38;5;241m=\u001b[39m marks[\u001b[38;5;241m0\u001b[39m]\n\u001b[0;32m      4\u001b[0m     \u001b[38;5;28mself\u001b[39m\u001b[38;5;241m.\u001b[39mphy\u001b[38;5;241m=\u001b[39m marks[\u001b[38;5;241m1\u001b[39m]\n\u001b[0;32m      5\u001b[0m     \u001b[38;5;28mself\u001b[39m\u001b[38;5;241m.\u001b[39mchem\u001b[38;5;241m=\u001b[39m marks[\u001b[38;5;241m2\u001b[39m]\n",
      "\u001b[1;31mNameError\u001b[0m: name 'marks' is not defined"
     ]
    }
   ],
   "source": [
    "s1 = student([23,6,87,98,67])"
   ]
  },
  {
   "cell_type": "code",
   "execution_count": null,
   "id": "fe537aab",
   "metadata": {},
   "outputs": [],
   "source": []
  }
 ],
 "metadata": {
  "kernelspec": {
   "display_name": "Python 3 (ipykernel)",
   "language": "python",
   "name": "python3"
  },
  "language_info": {
   "codemirror_mode": {
    "name": "ipython",
    "version": 3
   },
   "file_extension": ".py",
   "mimetype": "text/x-python",
   "name": "python",
   "nbconvert_exporter": "python",
   "pygments_lexer": "ipython3",
   "version": "3.11.5"
  }
 },
 "nbformat": 4,
 "nbformat_minor": 5
}
