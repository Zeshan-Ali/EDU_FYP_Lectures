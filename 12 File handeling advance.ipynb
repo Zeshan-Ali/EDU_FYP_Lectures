{
 "cells": [
  {
   "cell_type": "code",
   "execution_count": 3,
   "id": "ef441d65",
   "metadata": {},
   "outputs": [],
   "source": [
    "file = open(\"guest.txt\",\"w\")\n",
    "file.write(\"helo\")\n",
    "file.close()"
   ]
  },
  {
   "cell_type": "code",
   "execution_count": 7,
   "id": "873b152d",
   "metadata": {},
   "outputs": [],
   "source": [
    "with open(\"teachers.txt\",\"w\") as f:\n",
    "    f.write(\"helo i am with open function\")\n",
    "    f.write(\"\\n i am second limne\")\n",
    "    "
   ]
  },
  {
   "cell_type": "code",
   "execution_count": 8,
   "id": "8aa04e8e",
   "metadata": {},
   "outputs": [],
   "source": [
    "with open(\"teachers.txt\",\"r\") as f:\n",
    "    teachers=f.readlines()"
   ]
  },
  {
   "cell_type": "code",
   "execution_count": 9,
   "id": "7a5a1117",
   "metadata": {},
   "outputs": [
    {
     "data": {
      "text/plain": [
       "['helo i am with open function\\n', ' i am second limne']"
      ]
     },
     "execution_count": 9,
     "metadata": {},
     "output_type": "execute_result"
    }
   ],
   "source": [
    "teachers"
   ]
  },
  {
   "cell_type": "code",
   "execution_count": 10,
   "id": "700c0e5a",
   "metadata": {},
   "outputs": [
    {
     "data": {
      "text/plain": [
       "list"
      ]
     },
     "execution_count": 10,
     "metadata": {},
     "output_type": "execute_result"
    }
   ],
   "source": [
    "type(teachers)"
   ]
  },
  {
   "cell_type": "markdown",
   "id": "258b89a1",
   "metadata": {},
   "source": [
    "# Creating to do list app\n",
    "\n",
    "1. write a function that create a file and add task in it\n",
    "2. write a function that can read task from our created file in previous function "
   ]
  },
  {
   "cell_type": "code",
   "execution_count": 47,
   "id": "501fbbdb",
   "metadata": {},
   "outputs": [],
   "source": [
    "#write a function to that add task\n",
    "\n",
    "def add_task():\n",
    "    t = input(\"enter your task:\")\n",
    "    with open(\"tasks.txt\",\"a\") as at:\n",
    "        at.write(f\"{t}\")\n"
   ]
  },
  {
   "cell_type": "code",
   "execution_count": null,
   "id": "70845e93",
   "metadata": {},
   "outputs": [],
   "source": []
  },
  {
   "cell_type": "code",
   "execution_count": 44,
   "id": "c608eeb4",
   "metadata": {},
   "outputs": [],
   "source": [
    "\n",
    "def read_task():\n",
    "    with open(\"tasks.txt\",\"r\") as tr:\n",
    "        tsks = tr.readlines()\n",
    "        for i in tsks:\n",
    "            print(i)"
   ]
  },
  {
   "cell_type": "code",
   "execution_count": 49,
   "id": "35e8a56f",
   "metadata": {},
   "outputs": [
    {
     "name": "stdout",
     "output_type": "stream",
     "text": [
      "enter 1 for adding task \n",
      " 2 for Viewing task:2\n",
      "task 12nd task\n"
     ]
    }
   ],
   "source": [
    "choice= input(\"enter 1 for adding task \\n 2 for Viewing task:\")\n",
    "if choice == \"1\":\n",
    "    add_task()\n",
    "elif choice == '2':\n",
    "    read_task()\n",
    "else:\n",
    "    print(\"invalid choice\")"
   ]
  },
  {
   "cell_type": "code",
   "execution_count": 50,
   "id": "7ba64870",
   "metadata": {},
   "outputs": [
    {
     "ename": "NameError",
     "evalue": "name 'tsks' is not defined",
     "output_type": "error",
     "traceback": [
      "\u001b[1;31m---------------------------------------------------------------------------\u001b[0m",
      "\u001b[1;31mNameError\u001b[0m                                 Traceback (most recent call last)",
      "Cell \u001b[1;32mIn[50], line 1\u001b[0m\n\u001b[1;32m----> 1\u001b[0m tsks\n",
      "\u001b[1;31mNameError\u001b[0m: name 'tsks' is not defined"
     ]
    }
   ],
   "source": [
    "tsks"
   ]
  },
  {
   "cell_type": "code",
   "execution_count": 51,
   "id": "0ce3deb1",
   "metadata": {},
   "outputs": [
    {
     "data": {
      "text/plain": [
       "['helo i am with open function\\n', ' i am second limne']"
      ]
     },
     "execution_count": 51,
     "metadata": {},
     "output_type": "execute_result"
    }
   ],
   "source": [
    "teachers"
   ]
  },
  {
   "cell_type": "code",
   "execution_count": 53,
   "id": "6602ad40",
   "metadata": {},
   "outputs": [],
   "source": [
    "teachers.append(\"zeeshan\")"
   ]
  },
  {
   "cell_type": "code",
   "execution_count": 54,
   "id": "6cab9087",
   "metadata": {},
   "outputs": [
    {
     "data": {
      "text/plain": [
       "['helo i am with open function\\n', ' i am second limne', 'zeeshan']"
      ]
     },
     "execution_count": 54,
     "metadata": {},
     "output_type": "execute_result"
    }
   ],
   "source": [
    "teachers"
   ]
  },
  {
   "cell_type": "code",
   "execution_count": null,
   "id": "54e95df5",
   "metadata": {},
   "outputs": [],
   "source": []
  }
 ],
 "metadata": {
  "kernelspec": {
   "display_name": "Python 3 (ipykernel)",
   "language": "python",
   "name": "python3"
  },
  "language_info": {
   "codemirror_mode": {
    "name": "ipython",
    "version": 3
   },
   "file_extension": ".py",
   "mimetype": "text/x-python",
   "name": "python",
   "nbconvert_exporter": "python",
   "pygments_lexer": "ipython3",
   "version": "3.11.5"
  }
 },
 "nbformat": 4,
 "nbformat_minor": 5
}
