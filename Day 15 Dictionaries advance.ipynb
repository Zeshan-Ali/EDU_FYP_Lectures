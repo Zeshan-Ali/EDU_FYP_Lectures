{
 "cells": [
  {
   "cell_type": "code",
   "execution_count": 59,
   "id": "89e7244c",
   "metadata": {},
   "outputs": [
    {
     "name": "stdout",
     "output_type": "stream",
     "text": [
      "enter 1 for add detail:\n",
      " , Enter 2 for see detail : 2\n",
      "{'ahmad': '282882', 'rizan': '45678', 'raja': '288292', 'addel': '282982', 'raheel': '299292', 'hamid': '287282', 'ahsana': '2892892', 'akasha': '29292', 'ahamd': '3983983', 'anas': '93839839', 'kamran': '93839839', 'hashir': '91898'}\n"
     ]
    }
   ],
   "source": [
    "def add_acc():\n",
    "    title = input(\"Enter account tilte:\")\n",
    "    with open(\"account_title3.txt\", \"a\") as at:\n",
    "        at.writelines(f\"{title}\\n\")\n",
    "    acc_number = int(input(\"Emter Account number\"))\n",
    "    with open(\"account_number3.txt\",\"a\") as an:\n",
    "        an.writelines(f\"{acc_number}\\n\")\n",
    "def merging():   \n",
    "    with open(\"account_title3.txt\", \"r\") as ad:\n",
    "        tt=ad.readlines()\n",
    "        tt = [x.strip() for x in tt]\n",
    "    with open(\"account_number3.txt\",\"r\") as af:\n",
    "        nn=af.readlines()\n",
    "        nn = [x.strip() for x in nn]\n",
    "    a=len(tt)\n",
    "    b=len(nn)\n",
    "\n",
    "    merged ={}\n",
    "    if a == b:\n",
    "        for i in range(0,a):\n",
    "            merged[tt[i]] = nn[i]\n",
    "        \n",
    "    else:\n",
    "        if a>b:\n",
    "            with open(\"account_number3.txt\",\"a\") as an:\n",
    "                an.writelines(f\"{acc_number}\\n\")\n",
    "        else:\n",
    "            with open(\"account_title3.txt\", \"a\") as at:\n",
    "                at.writelines(f\"{title}\\n\")\n",
    "\n",
    "    print(merged)\n",
    "    \n",
    "choice= input(\"enter 1 for add detail:\\n , Enter 2 for see detail : \")\n",
    "if choice == \"1\":\n",
    "    add_acc()\n",
    "elif choice == \"2\":\n",
    "    merging()\n",
    "else:\n",
    "    print(\"invalid choice\")\n"
   ]
  },
  {
   "cell_type": "code",
   "execution_count": null,
   "id": "ba2155ce",
   "metadata": {},
   "outputs": [],
   "source": []
  },
  {
   "cell_type": "code",
   "execution_count": 34,
   "id": "c9630d9a",
   "metadata": {},
   "outputs": [
    {
     "data": {
      "text/plain": [
       "{'zeesha\\n': '288228\\n',\n",
       " 'zeeshan\\n': '878728\\n',\n",
       " 'yasir\\n': '3773837\\n',\n",
       " 'ahmad\\n': '878728\\n',\n",
       " 'ahhah\\n': '27272\\n',\n",
       " 'hamza\\n': '28928928\\n',\n",
       " 'ramzan\\n': '373873873\\n',\n",
       " 'sohail': '2772272'}"
      ]
     },
     "execution_count": 34,
     "metadata": {},
     "output_type": "execute_result"
    }
   ],
   "source": [
    "merged"
   ]
  },
  {
   "cell_type": "code",
   "execution_count": 26,
   "id": "e40b58ac",
   "metadata": {},
   "outputs": [],
   "source": [
    "student_data = {\"roll_Num\":1,\"First_name\":\"zeshan Ali\",\"address\":\"fsd\"}"
   ]
  },
  {
   "cell_type": "code",
   "execution_count": 4,
   "id": "152be966",
   "metadata": {},
   "outputs": [
    {
     "data": {
      "text/plain": [
       "{'roll_Num': 1, 'First_name': 'zeshan Ali', 'address': 'fsd'}"
      ]
     },
     "execution_count": 4,
     "metadata": {},
     "output_type": "execute_result"
    }
   ],
   "source": [
    "student_data"
   ]
  },
  {
   "cell_type": "code",
   "execution_count": 5,
   "id": "5c692ccf",
   "metadata": {},
   "outputs": [
    {
     "data": {
      "text/plain": [
       "dict_values([1, 'zeshan Ali', 'fsd'])"
      ]
     },
     "execution_count": 5,
     "metadata": {},
     "output_type": "execute_result"
    }
   ],
   "source": [
    "student_data.values()"
   ]
  },
  {
   "cell_type": "code",
   "execution_count": 7,
   "id": "198da665",
   "metadata": {},
   "outputs": [
    {
     "data": {
      "text/plain": [
       "dict_keys(['roll_Num', 'First_name', 'address'])"
      ]
     },
     "execution_count": 7,
     "metadata": {},
     "output_type": "execute_result"
    }
   ],
   "source": [
    "student_data.keys()"
   ]
  },
  {
   "cell_type": "code",
   "execution_count": 8,
   "id": "a1fdc111",
   "metadata": {},
   "outputs": [
    {
     "data": {
      "text/plain": [
       "dict_items([('roll_Num', 1), ('First_name', 'zeshan Ali'), ('address', 'fsd')])"
      ]
     },
     "execution_count": 8,
     "metadata": {},
     "output_type": "execute_result"
    }
   ],
   "source": [
    "student_data.items()"
   ]
  },
  {
   "cell_type": "code",
   "execution_count": 15,
   "id": "a51f7601",
   "metadata": {},
   "outputs": [
    {
     "name": "stdout",
     "output_type": "stream",
     "text": [
      "1\n",
      "roll_Num\n",
      "zeshan Ali\n",
      "First_name\n",
      "fsd\n",
      "address\n"
     ]
    }
   ],
   "source": [
    "for v,k in student_data.items():\n",
    "    print(k)\n",
    "    print(v)"
   ]
  },
  {
   "cell_type": "code",
   "execution_count": 11,
   "id": "1dd02d8a",
   "metadata": {},
   "outputs": [
    {
     "name": "stdout",
     "output_type": "stream",
     "text": [
      "1\n",
      "zeshan Ali\n",
      "fsd\n"
     ]
    }
   ],
   "source": [
    "for k,v in student_data.items():\n",
    "    print(v)"
   ]
  },
  {
   "cell_type": "code",
   "execution_count": 12,
   "id": "030bf94b",
   "metadata": {},
   "outputs": [
    {
     "name": "stdout",
     "output_type": "stream",
     "text": [
      "roll_Num\n",
      "First_name\n",
      "address\n"
     ]
    }
   ],
   "source": [
    "for k in student_data.keys():\n",
    "    print(k)"
   ]
  },
  {
   "cell_type": "code",
   "execution_count": 13,
   "id": "b8c5071d",
   "metadata": {},
   "outputs": [
    {
     "name": "stdout",
     "output_type": "stream",
     "text": [
      "1\n",
      "zeshan Ali\n",
      "fsd\n"
     ]
    }
   ],
   "source": [
    "for v in student_data.values():\n",
    "    print(v)"
   ]
  },
  {
   "cell_type": "code",
   "execution_count": 17,
   "id": "d8c09e9e",
   "metadata": {},
   "outputs": [
    {
     "data": {
      "text/plain": [
       "9"
      ]
     },
     "execution_count": 17,
     "metadata": {},
     "output_type": "execute_result"
    }
   ],
   "source": [
    "len(\"title3.xt\")"
   ]
  },
  {
   "cell_type": "code",
   "execution_count": 18,
   "id": "0f4fa4d4",
   "metadata": {},
   "outputs": [
    {
     "data": {
      "text/plain": [
       "7"
      ]
     },
     "execution_count": 18,
     "metadata": {},
     "output_type": "execute_result"
    }
   ],
   "source": [
    "len(\"zeeshan\")"
   ]
  },
  {
   "cell_type": "code",
   "execution_count": 19,
   "id": "33197f50",
   "metadata": {},
   "outputs": [
    {
     "data": {
      "text/plain": [
       "11"
      ]
     },
     "execution_count": 19,
     "metadata": {},
     "output_type": "execute_result"
    }
   ],
   "source": [
    "len(\"zzeshan.txt\")"
   ]
  },
  {
   "cell_type": "code",
   "execution_count": 20,
   "id": "b401ea5d",
   "metadata": {},
   "outputs": [],
   "source": [
    "add_file=\"account_title3.txt\"+\"account_number3.txt\""
   ]
  },
  {
   "cell_type": "code",
   "execution_count": 21,
   "id": "5bf0598e",
   "metadata": {},
   "outputs": [
    {
     "data": {
      "text/plain": [
       "'account_title3.txtaccount_number3.txt'"
      ]
     },
     "execution_count": 21,
     "metadata": {},
     "output_type": "execute_result"
    }
   ],
   "source": [
    "add_file"
   ]
  },
  {
   "cell_type": "code",
   "execution_count": 63,
   "id": "a723adaa",
   "metadata": {},
   "outputs": [
    {
     "data": {
      "text/plain": [
       "dict_keys(['ahmad', 'raja', 'addel', 'raheel', 'hamid', 'ahsana', 'akasha', 'ahamd', 'anas'])"
      ]
     },
     "execution_count": 63,
     "metadata": {},
     "output_type": "execute_result"
    }
   ],
   "source": [
    "k=merged.keys()"
   ]
  },
  {
   "cell_type": "code",
   "execution_count": 66,
   "id": "8b0a3360",
   "metadata": {},
   "outputs": [
    {
     "ename": "RuntimeError",
     "evalue": "dictionary changed size during iteration",
     "output_type": "error",
     "traceback": [
      "\u001b[1;31m---------------------------------------------------------------------------\u001b[0m",
      "\u001b[1;31mRuntimeError\u001b[0m                              Traceback (most recent call last)",
      "Cell \u001b[1;32mIn[66], line 1\u001b[0m\n\u001b[1;32m----> 1\u001b[0m \u001b[38;5;28;01mfor\u001b[39;00m i \u001b[38;5;129;01min\u001b[39;00m merged\u001b[38;5;241m.\u001b[39mkeys():\n\u001b[0;32m      2\u001b[0m     \u001b[38;5;28;01mif\u001b[39;00m i \u001b[38;5;241m==\u001b[39m \u001b[38;5;124m\"\u001b[39m\u001b[38;5;124mahmad\u001b[39m\u001b[38;5;124m\"\u001b[39m:\n\u001b[0;32m      3\u001b[0m         \u001b[38;5;28;01mdel\u001b[39;00m merged[\u001b[38;5;124m\"\u001b[39m\u001b[38;5;124mahmad\u001b[39m\u001b[38;5;124m\"\u001b[39m]\n",
      "\u001b[1;31mRuntimeError\u001b[0m: dictionary changed size during iteration"
     ]
    }
   ],
   "source": [
    "for i in merged.keys():\n",
    "    if i == \"ahmad\":\n",
    "        del merged[\"ahmad\"]\n",
    "        "
   ]
  },
  {
   "cell_type": "code",
   "execution_count": 67,
   "id": "b61937eb",
   "metadata": {},
   "outputs": [
    {
     "data": {
      "text/plain": [
       "{'raja': '288292',\n",
       " 'addel': '282982',\n",
       " 'raheel': '299292',\n",
       " 'hamid': '287282',\n",
       " 'ahsana': '2892892',\n",
       " 'akasha': '29292',\n",
       " 'ahamd': '3983983',\n",
       " 'anas': '93839839'}"
      ]
     },
     "execution_count": 67,
     "metadata": {},
     "output_type": "execute_result"
    }
   ],
   "source": [
    "merged"
   ]
  },
  {
   "cell_type": "code",
   "execution_count": 68,
   "id": "fffb1354",
   "metadata": {},
   "outputs": [],
   "source": [
    "merged[\"raja\"] = 171671"
   ]
  },
  {
   "cell_type": "code",
   "execution_count": 69,
   "id": "5bda80b4",
   "metadata": {},
   "outputs": [
    {
     "data": {
      "text/plain": [
       "{'raja': 171671,\n",
       " 'addel': '282982',\n",
       " 'raheel': '299292',\n",
       " 'hamid': '287282',\n",
       " 'ahsana': '2892892',\n",
       " 'akasha': '29292',\n",
       " 'ahamd': '3983983',\n",
       " 'anas': '93839839'}"
      ]
     },
     "execution_count": 69,
     "metadata": {},
     "output_type": "execute_result"
    }
   ],
   "source": [
    "merged"
   ]
  },
  {
   "cell_type": "code",
   "execution_count": 70,
   "id": "a4301c5c",
   "metadata": {},
   "outputs": [],
   "source": [
    "students = [{\"roll_Num\":1,\"first_name\":\"ali\",\"address\":\"abc\",\"gpa\":3.78},\n",
    "            {\"roll_Num\":2,\"first_name\":\"rizwan\",\"address\":\"cde\",\"gpa\":3.98},\n",
    "            {\"roll_Num\":3,\"first_name\":\"usman\",\"address\":\"efg\",\"gpa\":3.4}  ]"
   ]
  },
  {
   "cell_type": "code",
   "execution_count": 71,
   "id": "a4d50654",
   "metadata": {},
   "outputs": [
    {
     "data": {
      "text/plain": [
       "[{'roll_Num': 1, 'first_name': 'ali', 'address': 'abc', 'gpa': 3.78},\n",
       " {'roll_Num': 2, 'first_name': 'rizwan', 'address': 'cde', 'gpa': 3.98},\n",
       " {'roll_Num': 3, 'first_name': 'usman', 'address': 'efg', 'gpa': 3.4}]"
      ]
     },
     "execution_count": 71,
     "metadata": {},
     "output_type": "execute_result"
    }
   ],
   "source": [
    "students"
   ]
  },
  {
   "cell_type": "code",
   "execution_count": 72,
   "id": "db028af5",
   "metadata": {},
   "outputs": [
    {
     "data": {
      "text/plain": [
       "{'roll_Num': 2, 'first_name': 'rizwan', 'address': 'cde', 'gpa': 3.98}"
      ]
     },
     "execution_count": 72,
     "metadata": {},
     "output_type": "execute_result"
    }
   ],
   "source": [
    "students[1]"
   ]
  },
  {
   "cell_type": "code",
   "execution_count": 77,
   "id": "9a2583f5",
   "metadata": {},
   "outputs": [
    {
     "name": "stdout",
     "output_type": "stream",
     "text": [
      "1\n",
      "2\n",
      "3\n"
     ]
    }
   ],
   "source": [
    "for i in students:\n",
    "    print(i[\"roll_Num\"])"
   ]
  },
  {
   "cell_type": "code",
   "execution_count": 87,
   "id": "2f2dfe05",
   "metadata": {},
   "outputs": [],
   "source": [
    "s1=students[0]"
   ]
  },
  {
   "cell_type": "code",
   "execution_count": 90,
   "id": "15d23b52",
   "metadata": {},
   "outputs": [
    {
     "data": {
      "text/plain": [
       "1"
      ]
     },
     "execution_count": 90,
     "metadata": {},
     "output_type": "execute_result"
    }
   ],
   "source": [
    "s1[\"roll_Num\"]"
   ]
  },
  {
   "cell_type": "code",
   "execution_count": null,
   "id": "50bfd4b5",
   "metadata": {},
   "outputs": [],
   "source": []
  }
 ],
 "metadata": {
  "kernelspec": {
   "display_name": "Python 3 (ipykernel)",
   "language": "python",
   "name": "python3"
  },
  "language_info": {
   "codemirror_mode": {
    "name": "ipython",
    "version": 3
   },
   "file_extension": ".py",
   "mimetype": "text/x-python",
   "name": "python",
   "nbconvert_exporter": "python",
   "pygments_lexer": "ipython3",
   "version": "3.11.5"
  }
 },
 "nbformat": 4,
 "nbformat_minor": 5
}
