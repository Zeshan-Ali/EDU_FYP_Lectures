{
 "cells": [
  {
   "cell_type": "code",
   "execution_count": 2,
   "id": "6a6ac477",
   "metadata": {},
   "outputs": [],
   "source": [
    "def greeting_print():   # defoining a function \n",
    "    print(\"hey good morning how are you ?\")   # body of function"
   ]
  },
  {
   "cell_type": "code",
   "execution_count": 3,
   "id": "7bfb8467",
   "metadata": {},
   "outputs": [
    {
     "name": "stdout",
     "output_type": "stream",
     "text": [
      "hey good morning how are you ?\n"
     ]
    }
   ],
   "source": [
    "# calling a function \n",
    "greeting_print()"
   ]
  },
  {
   "cell_type": "code",
   "execution_count": 7,
   "id": "e337fabe",
   "metadata": {},
   "outputs": [
    {
     "name": "stdout",
     "output_type": "stream",
     "text": [
      "enter a number:3\n",
      "odd\n"
     ]
    }
   ],
   "source": [
    "def even_odd():\n",
    "    num = int(input(\"enter a number:\"))\n",
    "    if num%2 == 0 :\n",
    "        print(\"even\")\n",
    "    else:\n",
    "        print(\"odd\")"
   ]
  },
  {
   "cell_type": "code",
   "execution_count": 17,
   "id": "d53433f7",
   "metadata": {},
   "outputs": [],
   "source": [
    "def inputt():\n",
    "    num = int(input(\"enter a number:\"))\n",
    "    return num\n",
    "\n",
    "def sq(num):\n",
    "    square = num*num\n",
    "    return square\n"
   ]
  },
  {
   "cell_type": "code",
   "execution_count": 18,
   "id": "8d8ec10c",
   "metadata": {},
   "outputs": [
    {
     "name": "stdout",
     "output_type": "stream",
     "text": [
      "enter a number:4\n",
      "the square is: 16\n"
     ]
    }
   ],
   "source": [
    "n = inputt()\n",
    "s = sq(n)\n",
    "print(\"the square is:\",s)"
   ]
  },
  {
   "cell_type": "code",
   "execution_count": 19,
   "id": "d5ee96bf",
   "metadata": {},
   "outputs": [],
   "source": [
    "n2 = sq(5)"
   ]
  },
  {
   "cell_type": "code",
   "execution_count": 37,
   "id": "4a514b88",
   "metadata": {},
   "outputs": [
    {
     "name": "stdout",
     "output_type": "stream",
     "text": [
      "enter a number:4\n",
      "enter a number:3\n",
      "sum: 7\n"
     ]
    }
   ],
   "source": [
    "def sum():\n",
    "    n1 = inputt()\n",
    "    n2 = inputt()\n",
    "\n",
    "    sum = n1+n2\n",
    "    print(\"sum:\",sum)\n",
    "sum()"
   ]
  },
  {
   "cell_type": "code",
   "execution_count": 22,
   "id": "6292ec0b",
   "metadata": {},
   "outputs": [],
   "source": [
    "def greater(a,b):\n",
    "    if a>b:\n",
    "        print(\"a is greater\")\n",
    "    else:\n",
    "        print(\"b is greater\")\n",
    "    "
   ]
  },
  {
   "cell_type": "code",
   "execution_count": 25,
   "id": "12826e42",
   "metadata": {},
   "outputs": [
    {
     "name": "stdout",
     "output_type": "stream",
     "text": [
      "enter a number:5\n",
      "enter a number:7\n",
      "b is greater\n"
     ]
    }
   ],
   "source": [
    "a = inputt()\n",
    "b = inputt()\n",
    "greater(a,b) # call"
   ]
  },
  {
   "cell_type": "code",
   "execution_count": 24,
   "id": "63c2039b",
   "metadata": {},
   "outputs": [
    {
     "name": "stdout",
     "output_type": "stream",
     "text": [
      "a is greater\n"
     ]
    }
   ],
   "source": [
    "greater (6,5)"
   ]
  },
  {
   "cell_type": "code",
   "execution_count": 34,
   "id": "68257c5d",
   "metadata": {},
   "outputs": [],
   "source": [
    "def printMessage(msg):\n",
    "    print(msg)"
   ]
  },
  {
   "cell_type": "code",
   "execution_count": 35,
   "id": "5cec004d",
   "metadata": {},
   "outputs": [
    {
     "name": "stdout",
     "output_type": "stream",
     "text": [
      "yes\n"
     ]
    }
   ],
   "source": [
    "printMessage(\"yes\")"
   ]
  },
  {
   "cell_type": "code",
   "execution_count": null,
   "id": "e70d991e",
   "metadata": {},
   "outputs": [],
   "source": []
  }
 ],
 "metadata": {
  "kernelspec": {
   "display_name": "Python 3 (ipykernel)",
   "language": "python",
   "name": "python3"
  },
  "language_info": {
   "codemirror_mode": {
    "name": "ipython",
    "version": 3
   },
   "file_extension": ".py",
   "mimetype": "text/x-python",
   "name": "python",
   "nbconvert_exporter": "python",
   "pygments_lexer": "ipython3",
   "version": "3.11.5"
  }
 },
 "nbformat": 4,
 "nbformat_minor": 5
}
