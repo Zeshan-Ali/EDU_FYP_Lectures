{
 "cells": [
  {
   "cell_type": "code",
   "execution_count": 2,
   "id": "e4d1b426",
   "metadata": {},
   "outputs": [],
   "source": [
    "def greeting_print():   # defoining a function \n",
    "    print(\"hey good morning how are you ?\")   # body of function"
   ]
  },
  {
   "cell_type": "code",
   "execution_count": 3,
   "id": "88a82e1c",
   "metadata": {},
   "outputs": [
    {
     "name": "stdout",
     "output_type": "stream",
     "text": [
      "hey good morning how are you ?\n"
     ]
    }
   ],
   "source": [
    "# calling a function \n",
    "greeting_print()"
   ]
  },
  {
   "cell_type": "code",
   "execution_count": 7,
   "id": "5e1c4447",
   "metadata": {},
   "outputs": [
    {
     "name": "stdout",
     "output_type": "stream",
     "text": [
      "enter a number:3\n",
      "odd\n"
     ]
    }
   ],
   "source": [
    "def even_odd():\n",
    "    num = int(input(\"enter a number:\"))\n",
    "    if num%2 == 0 :\n",
    "        print(\"even\")\n",
    "    else:\n",
    "        print(\"odd\")"
   ]
  },
  {
   "cell_type": "code",
   "execution_count": 17,
   "id": "eaae9067",
   "metadata": {},
   "outputs": [],
   "source": [
    "def inputt():\n",
    "    num = int(input(\"enter a number:\"))\n",
    "    return num\n",
    "\n",
    "def sq(num):\n",
    "    square = num*num\n",
    "    return square\n"
   ]
  },
  {
   "cell_type": "code",
   "execution_count": 18,
   "id": "553117e1",
   "metadata": {},
   "outputs": [
    {
     "name": "stdout",
     "output_type": "stream",
     "text": [
      "enter a number:4\n",
      "the square is: 16\n"
     ]
    }
   ],
   "source": [
    "n = inputt()\n",
    "s = sq(n)\n",
    "print(\"the square is:\",s)"
   ]
  },
  {
   "cell_type": "code",
   "execution_count": 19,
   "id": "c9f57ade",
   "metadata": {},
   "outputs": [],
   "source": [
    "n2 = sq(5)"
   ]
  },
  {
   "cell_type": "code",
   "execution_count": 37,
   "id": "c15687a8",
   "metadata": {},
   "outputs": [
    {
     "name": "stdout",
     "output_type": "stream",
     "text": [
      "enter a number:4\n",
      "enter a number:3\n",
      "sum: 7\n"
     ]
    }
   ],
   "source": [
    "def sum():\n",
    "    n1 = inputt()\n",
    "    n2 = inputt()\n",
    "\n",
    "    sum = n1+n2\n",
    "    print(\"sum:\",sum)\n",
    "sum()"
   ]
  },
  {
   "cell_type": "code",
   "execution_count": 22,
   "id": "53a9ae73",
   "metadata": {},
   "outputs": [],
   "source": [
    "def greater(a,b):\n",
    "    if a>b:\n",
    "        print(\"a is greater\")\n",
    "    else:\n",
    "        print(\"b is greater\")\n",
    "    "
   ]
  },
  {
   "cell_type": "code",
   "execution_count": 25,
   "id": "378457c8",
   "metadata": {},
   "outputs": [
    {
     "name": "stdout",
     "output_type": "stream",
     "text": [
      "enter a number:5\n",
      "enter a number:7\n",
      "b is greater\n"
     ]
    }
   ],
   "source": [
    "a = inputt()\n",
    "b = inputt()\n",
    "greater(a,b) # call"
   ]
  },
  {
   "cell_type": "code",
   "execution_count": 24,
   "id": "de28df9d",
   "metadata": {},
   "outputs": [
    {
     "name": "stdout",
     "output_type": "stream",
     "text": [
      "a is greater\n"
     ]
    }
   ],
   "source": [
    "greater (6,5)"
   ]
  },
  {
   "cell_type": "code",
   "execution_count": 34,
   "id": "9a0085d6",
   "metadata": {},
   "outputs": [],
   "source": [
    "def printMessage(msg):\n",
    "    print(msg)"
   ]
  },
  {
   "cell_type": "code",
   "execution_count": 35,
   "id": "417153d5",
   "metadata": {},
   "outputs": [
    {
     "name": "stdout",
     "output_type": "stream",
     "text": [
      "yes\n"
     ]
    }
   ],
   "source": [
    "printMessage(\"yes\")"
   ]
  },
  {
   "cell_type": "code",
   "execution_count": 44,
   "id": "48412053",
   "metadata": {},
   "outputs": [],
   "source": [
    "def l_w():\n",
    "    length = float(input(\"enter length:\"))\n",
    "    width = float(input(\"enter width:\"))\n",
    "    return length,width\n",
    "def longer_side(length,width):\n",
    "    if length > width:\n",
    "        print(\"length is longer\")\n",
    "    else:\n",
    "        print(\"width is longer\")"
   ]
  },
  {
   "cell_type": "code",
   "execution_count": 45,
   "id": "895a076c",
   "metadata": {},
   "outputs": [
    {
     "name": "stdout",
     "output_type": "stream",
     "text": [
      "enter length:3\n",
      "enter width:4\n"
     ]
    }
   ],
   "source": [
    "l,w = l_w()"
   ]
  },
  {
   "cell_type": "code",
   "execution_count": 46,
   "id": "1307b495",
   "metadata": {},
   "outputs": [
    {
     "data": {
      "text/plain": [
       "5.0"
      ]
     },
     "execution_count": 46,
     "metadata": {},
     "output_type": "execute_result"
    }
   ],
   "source": [
    "length"
   ]
  },
  {
   "cell_type": "code",
   "execution_count": 42,
   "id": "3a5a43b7",
   "metadata": {},
   "outputs": [
    {
     "data": {
      "text/plain": [
       "6.0"
      ]
     },
     "execution_count": 42,
     "metadata": {},
     "output_type": "execute_result"
    }
   ],
   "source": [
    "width"
   ]
  },
  {
   "cell_type": "code",
   "execution_count": 47,
   "id": "298d29b2",
   "metadata": {},
   "outputs": [
    {
     "name": "stdout",
     "output_type": "stream",
     "text": [
      "width is longer\n"
     ]
    }
   ],
   "source": [
    "longer_side(l,w)"
   ]
  },
  {
   "cell_type": "code",
   "execution_count": null,
   "id": "80065e12",
   "metadata": {},
   "outputs": [],
   "source": []
  }
 ],
 "metadata": {
  "kernelspec": {
   "display_name": "Python 3 (ipykernel)",
   "language": "python",
   "name": "python3"
  },
  "language_info": {
   "codemirror_mode": {
    "name": "ipython",
    "version": 3
   },
   "file_extension": ".py",
   "mimetype": "text/x-python",
   "name": "python",
   "nbconvert_exporter": "python",
   "pygments_lexer": "ipython3",
   "version": "3.11.5"
  }
 },
 "nbformat": 4,
 "nbformat_minor": 5
}
