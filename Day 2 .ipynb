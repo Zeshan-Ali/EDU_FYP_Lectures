{
 "cells": [
  {
   "cell_type": "code",
   "execution_count": 1,
   "id": "7d244f6d",
   "metadata": {},
   "outputs": [
    {
     "data": {
      "text/plain": [
       "6"
      ]
     },
     "execution_count": 1,
     "metadata": {},
     "output_type": "execute_result"
    }
   ],
   "source": [
    "2+4 # sum of two numbers"
   ]
  },
  {
   "cell_type": "code",
   "execution_count": 11,
   "id": "fc59d217",
   "metadata": {},
   "outputs": [
    {
     "data": {
      "text/plain": [
       "1"
      ]
     },
     "execution_count": 11,
     "metadata": {},
     "output_type": "execute_result"
    }
   ],
   "source": [
    "a= 3/2 # division  \n",
    "int(a)"
   ]
  },
  {
   "cell_type": "code",
   "execution_count": 3,
   "id": "b0251183",
   "metadata": {},
   "outputs": [
    {
     "data": {
      "text/plain": [
       "6"
      ]
     },
     "execution_count": 3,
     "metadata": {},
     "output_type": "execute_result"
    }
   ],
   "source": [
    "3*2"
   ]
  },
  {
   "cell_type": "code",
   "execution_count": 14,
   "id": "497e4428",
   "metadata": {},
   "outputs": [
    {
     "data": {
      "text/plain": [
       "256"
      ]
     },
     "execution_count": 14,
     "metadata": {},
     "output_type": "execute_result"
    }
   ],
   "source": [
    "x = 4\n",
    "x**4"
   ]
  },
  {
   "cell_type": "markdown",
   "id": "a74cf326",
   "metadata": {},
   "source": [
    "#### "
   ]
  },
  {
   "cell_type": "code",
   "execution_count": 18,
   "id": "3bd1327b",
   "metadata": {},
   "outputs": [
    {
     "name": "stdout",
     "output_type": "stream",
     "text": [
      "this is reminder : 0\n",
      "this is division: 2.0\n"
     ]
    }
   ],
   "source": [
    "print(\"this is reminder :\",4%2)  # reminder or modulus operarote return reminder \n",
    "print(\"this is division:\",4/2) # division operator return answer , quoteint\n"
   ]
  },
  {
   "cell_type": "code",
   "execution_count": 22,
   "id": "0d408c60",
   "metadata": {},
   "outputs": [
    {
     "data": {
      "text/plain": [
       "4"
      ]
     },
     "execution_count": 22,
     "metadata": {},
     "output_type": "execute_result"
    }
   ],
   "source": [
    "256 % 6"
   ]
  },
  {
   "cell_type": "markdown",
   "id": "090b1c5c",
   "metadata": {},
   "source": [
    "# how to take value from user in python\n",
    "- we use input function () ,\n",
    "- this function always return a string even a number is entered by user "
   ]
  },
  {
   "cell_type": "code",
   "execution_count": 37,
   "id": "4d91f8cd",
   "metadata": {},
   "outputs": [
    {
     "name": "stdout",
     "output_type": "stream",
     "text": [
      "Enter you age: (in numbers)32\n"
     ]
    }
   ],
   "source": [
    "age  = int(input(\"Enter you age: (in numbers)\"))"
   ]
  },
  {
   "cell_type": "code",
   "execution_count": 38,
   "id": "a19a4ed6",
   "metadata": {},
   "outputs": [
    {
     "data": {
      "text/plain": [
       "32"
      ]
     },
     "execution_count": 38,
     "metadata": {},
     "output_type": "execute_result"
    }
   ],
   "source": [
    "age"
   ]
  },
  {
   "cell_type": "code",
   "execution_count": 39,
   "id": "8ac43c5c",
   "metadata": {},
   "outputs": [
    {
     "data": {
      "text/plain": [
       "int"
      ]
     },
     "execution_count": 39,
     "metadata": {},
     "output_type": "execute_result"
    }
   ],
   "source": [
    "type(age)"
   ]
  },
  {
   "cell_type": "code",
   "execution_count": 40,
   "id": "5703584f",
   "metadata": {},
   "outputs": [
    {
     "data": {
      "text/plain": [
       "64"
      ]
     },
     "execution_count": 40,
     "metadata": {},
     "output_type": "execute_result"
    }
   ],
   "source": [
    "age *2"
   ]
  },
  {
   "cell_type": "code",
   "execution_count": 46,
   "id": "92efd948",
   "metadata": {},
   "outputs": [
    {
     "name": "stdout",
     "output_type": "stream",
     "text": [
      "enter your salary:45000\n",
      "enter your bonus50000\n"
     ]
    }
   ],
   "source": [
    "salary  = float(input(\"enter your salary:\"))\n",
    "bonus = float(input(\"enter your bonus\"))\n",
    "\n",
    "tot_sal = salary + bonus"
   ]
  },
  {
   "cell_type": "code",
   "execution_count": 47,
   "id": "ce0c19d9",
   "metadata": {},
   "outputs": [
    {
     "name": "stdout",
     "output_type": "stream",
     "text": [
      "this is your total salary: 95000.0\n"
     ]
    }
   ],
   "source": [
    "print(\"this is your total salary:\",tot_sal)"
   ]
  },
  {
   "cell_type": "markdown",
   "id": "62a27373",
   "metadata": {},
   "source": [
    "# Task 1 \n",
    "> take height and width from user find area of rectangle , print the are with message \" here we haev area\""
   ]
  },
  {
   "cell_type": "markdown",
   "id": "04c16285",
   "metadata": {},
   "source": [
    "# task2 \n",
    "> take a number from user and find its square\n",
    "# task 3\n",
    "> take two numbers from user apply these operators on them  usi a single print onnoly to display resuly of all operators\n",
    " - addition \n",
    " - subtraction\n",
    " - multiplication\n",
    " - division\n",
    " \n",
    " "
   ]
  },
  {
   "cell_type": "code",
   "execution_count": 51,
   "id": "e307b3cf",
   "metadata": {},
   "outputs": [],
   "source": [
    "a = 9\n",
    "b = 3\n",
    "\n",
    "sum = a+b\n",
    "sub= a-b\n",
    "mul = a*b\n",
    "div = a/b\n"
   ]
  },
  {
   "cell_type": "code",
   "execution_count": 53,
   "id": "cb3875b6",
   "metadata": {},
   "outputs": [
    {
     "name": "stdout",
     "output_type": "stream",
     "text": [
      "theh sum is:  \n",
      " 12 the subtraction is:\n",
      " 6 the multiplivation is:\n",
      " 27 the division is 3.0\n"
     ]
    }
   ],
   "source": [
    "print(\"theh sum is:  \\n\",sum,\"the subtraction is:\\n\",sub,\"the multiplivation is:\\n\",mul,\"the division is\",div)"
   ]
  },
  {
   "cell_type": "code",
   "execution_count": 54,
   "id": "3add4b4f",
   "metadata": {},
   "outputs": [
    {
     "name": "stdout",
     "output_type": "stream",
     "text": [
      "enter a number:12\n",
      "enter a second number:3\n",
      "the sum is: 15\n"
     ]
    }
   ],
   "source": [
    "a = int(input(\"enter a number:\"))\n",
    "b = int(input(\"enter a second number:\"))\n",
    "\n",
    "sum = a+b\n",
    "sub = a-b\n",
    "mul = a*b\n",
    "div = a/b\n",
    "\n",
    "\n",
    "\n",
    "\n",
    "\n",
    "\n",
    "\n",
    "\n",
    "\n",
    "\n",
    "\n",
    "\n",
    "\n",
    "\n",
    "\n",
    "\n",
    "\n",
    "\n",
    "\n",
    "\n",
    "\n",
    "\n",
    "\n",
    "print(\"the sum is:\",sum)"
   ]
  },
  {
   "cell_type": "markdown",
   "id": "85607837",
   "metadata": {},
   "source": [
    "### "
   ]
  }
 ],
 "metadata": {
  "kernelspec": {
   "display_name": "Python 3 (ipykernel)",
   "language": "python",
   "name": "python3"
  },
  "language_info": {
   "codemirror_mode": {
    "name": "ipython",
    "version": 3
   },
   "file_extension": ".py",
   "mimetype": "text/x-python",
   "name": "python",
   "nbconvert_exporter": "python",
   "pygments_lexer": "ipython3",
   "version": "3.11.5"
  }
 },
 "nbformat": 4,
 "nbformat_minor": 5
}
