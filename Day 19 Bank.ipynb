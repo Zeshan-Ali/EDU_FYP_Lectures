{
 "cells": [
  {
   "cell_type": "code",
   "execution_count": 1,
   "id": "10c812dd",
   "metadata": {},
   "outputs": [],
   "source": [
    "class bank:\n",
    "    def __init__(self,initial_balance,file_name):\n",
    "        self.balance=initial_balance\n",
    "        self.file_name = file_name\n",
    "        \n",
    "        with open(self.file_name+\".txt\",\"w\") as file:\n",
    "            file.write(f\"The initial balance is:{self.balance}\\n\")\n",
    "    \n",
    "    def credit(self,amount):\n",
    "     \n",
    "        self.balance += amount\n",
    "        with open(self.file_name+\".txt\",\"a\") as fi:\n",
    "            fi.write(f\"The amount after credit is:{amount}\\n\")\n",
    "            fi.write(f\"Balance after credit: {self.balance}\\n\")\n",
    "        return self.balance\n",
    "    def debit(self,amount):\n",
    "        if amount > self.balance:\n",
    "            print(\"Insufficient balance!\")\n",
    "            with open(self.file_name+\".txt\", \"a\") as fl:\n",
    "                fl.write(\"Debit attempt failed due to insufficient balance.\\n\")\n",
    "        else:\n",
    "            self.balance -= amount\n",
    "            with open(self.file_name+\".txt\", \"a\") as fe:\n",
    "                fe.write(f\"Debited: {amount}\\n\")\n",
    "                fe.write(f\"Balance after debit: {self.balance}\\n\")\n",
    "        return self.balance\n",
    "    def view_transactions(self):\n",
    "        print(\"Transaction History:\")\n",
    "        with open(self.file_name+\".txt\", \"r\") as file:\n",
    "            trans = file.readlines()\n",
    "        for i  in trans:\n",
    "            print(i.strip())\n"
   ]
  },
  {
   "cell_type": "code",
   "execution_count": 3,
   "id": "85264918",
   "metadata": {},
   "outputs": [
    {
     "name": "stdout",
     "output_type": "stream",
     "text": [
      "1 Account Creation \n",
      "                2.View Current balanace\n",
      "                3.Credit  \n",
      "                4.Debit \n",
      "                5.Exit : 2\n"
     ]
    },
    {
     "ename": "NameError",
     "evalue": "name 'acc' is not defined",
     "output_type": "error",
     "traceback": [
      "\u001b[1;31m---------------------------------------------------------------------------\u001b[0m",
      "\u001b[1;31mNameError\u001b[0m                                 Traceback (most recent call last)",
      "Cell \u001b[1;32mIn[3], line 14\u001b[0m\n\u001b[0;32m     12\u001b[0m     acc \u001b[38;5;241m=\u001b[39m bank(ini_bal,f_name)\n\u001b[0;32m     13\u001b[0m \u001b[38;5;28;01melif\u001b[39;00m choice \u001b[38;5;241m==\u001b[39m \u001b[38;5;241m2\u001b[39m:\n\u001b[1;32m---> 14\u001b[0m     acc\u001b[38;5;241m.\u001b[39mview_transactions()\n\u001b[0;32m     15\u001b[0m \u001b[38;5;28;01melif\u001b[39;00m choice \u001b[38;5;241m==\u001b[39m \u001b[38;5;241m3\u001b[39m:\n\u001b[0;32m     16\u001b[0m     cr_am \u001b[38;5;241m=\u001b[39m \u001b[38;5;28mint\u001b[39m(\u001b[38;5;28minput\u001b[39m(\u001b[38;5;124m\"\u001b[39m\u001b[38;5;124menter a amount for credit:\u001b[39m\u001b[38;5;124m\"\u001b[39m))\n",
      "\u001b[1;31mNameError\u001b[0m: name 'acc' is not defined"
     ]
    }
   ],
   "source": [
    "while True:\n",
    "    choice = int(input(\"\"\"1 Account Creation \n",
    "                2.View Current balanace\n",
    "                3.Credit  \n",
    "                4.Debit \n",
    "                5.Exit : \"\"\"))\n",
    "    if choice == 1:\n",
    "        name = input(\"Enter you name:\")\n",
    "        ini_bal = int(input(\"Enter you initial balance:\"))\n",
    "        f_name =name\n",
    "        #print(f_name)\n",
    "        acc = bank(ini_bal,f_name)\n",
    "    elif choice == 2:\n",
    "        acc.view_transactions()\n",
    "    elif choice == 3:\n",
    "        cr_am = int(input(\"enter a amount for credit:\"))\n",
    "        cr=acc.credit(cr_am)\n",
    "        print(\"the balance is:\",cr)\n",
    "    elif choice ==4:\n",
    "        dr_am = int(input(\"enter a amount for debit:\"))\n",
    "        dr=acc.debit(dr_am)\n",
    "        print(\"the balance is:\",dr)\n",
    "    elif choice == 5:\n",
    "        break\n",
    "    else:\n",
    "        print(\"invalid choice\")\n",
    "            "
   ]
  },
  {
   "cell_type": "code",
   "execution_count": null,
   "id": "2db250f6",
   "metadata": {},
   "outputs": [],
   "source": []
  }
 ],
 "metadata": {
  "kernelspec": {
   "display_name": "Python 3 (ipykernel)",
   "language": "python",
   "name": "python3"
  },
  "language_info": {
   "codemirror_mode": {
    "name": "ipython",
    "version": 3
   },
   "file_extension": ".py",
   "mimetype": "text/x-python",
   "name": "python",
   "nbconvert_exporter": "python",
   "pygments_lexer": "ipython3",
   "version": "3.11.5"
  }
 },
 "nbformat": 4,
 "nbformat_minor": 5
}
