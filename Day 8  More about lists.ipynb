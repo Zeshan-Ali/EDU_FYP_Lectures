{
 "cells": [
  {
   "cell_type": "markdown",
   "id": "6581dcf6",
   "metadata": {},
   "source": [
    "# more lists \n",
    "## slicing in list"
   ]
  },
  {
   "cell_type": "code",
   "execution_count": 15,
   "id": "b554389e",
   "metadata": {},
   "outputs": [],
   "source": [
    "name = ['ahmad','ali','usman','khalil',1,1]"
   ]
  },
  {
   "cell_type": "code",
   "execution_count": 16,
   "id": "b3181f6e",
   "metadata": {},
   "outputs": [],
   "source": [
    "without_first=name[1:-1]"
   ]
  },
  {
   "cell_type": "code",
   "execution_count": 17,
   "id": "31d26495",
   "metadata": {},
   "outputs": [
    {
     "data": {
      "text/plain": [
       "['ali', 'usman', 'khalil', 1]"
      ]
     },
     "execution_count": 17,
     "metadata": {},
     "output_type": "execute_result"
    }
   ],
   "source": [
    "without_first"
   ]
  },
  {
   "cell_type": "code",
   "execution_count": 50,
   "id": "c4b1e896",
   "metadata": {},
   "outputs": [
    {
     "data": {
      "text/plain": [
       "[67, 'zeeshan', 'ali', 'ali', 'khalil', 1]"
      ]
     },
     "execution_count": 50,
     "metadata": {},
     "output_type": "execute_result"
    }
   ],
   "source": [
    "name[:-1]"
   ]
  },
  {
   "cell_type": "markdown",
   "id": "c8ba8157",
   "metadata": {},
   "source": [
    "name[1:]"
   ]
  },
  {
   "cell_type": "code",
   "execution_count": 20,
   "id": "b0ffdd81",
   "metadata": {},
   "outputs": [],
   "source": [
    "name[0]='zeeshan'   update"
   ]
  },
  {
   "cell_type": "code",
   "execution_count": 21,
   "id": "9fc8241f",
   "metadata": {},
   "outputs": [
    {
     "data": {
      "text/plain": [
       "['zeeshan', 'ali', 'usman', 'khalil', 1, 1]"
      ]
     },
     "execution_count": 21,
     "metadata": {},
     "output_type": "execute_result"
    }
   ],
   "source": [
    "name"
   ]
  },
  {
   "cell_type": "code",
   "execution_count": 23,
   "id": "82b1c96e",
   "metadata": {},
   "outputs": [],
   "source": [
    "del name[2]"
   ]
  },
  {
   "cell_type": "code",
   "execution_count": 24,
   "id": "cf8d57af",
   "metadata": {},
   "outputs": [
    {
     "data": {
      "text/plain": [
       "['zeeshan', 'ali', 'khalil', 1, 1]"
      ]
     },
     "execution_count": 24,
     "metadata": {},
     "output_type": "execute_result"
    }
   ],
   "source": [
    "name"
   ]
  },
  {
   "cell_type": "code",
   "execution_count": 25,
   "id": "83ed92b2",
   "metadata": {},
   "outputs": [],
   "source": [
    "name.remove(1)"
   ]
  },
  {
   "cell_type": "code",
   "execution_count": 26,
   "id": "a87ffe48",
   "metadata": {},
   "outputs": [
    {
     "data": {
      "text/plain": [
       "['zeeshan', 'ali', 'khalil', 1]"
      ]
     },
     "execution_count": 26,
     "metadata": {},
     "output_type": "execute_result"
    }
   ],
   "source": [
    "name"
   ]
  },
  {
   "cell_type": "code",
   "execution_count": 27,
   "id": "df27ca47",
   "metadata": {},
   "outputs": [],
   "source": [
    "name.append(3)"
   ]
  },
  {
   "cell_type": "code",
   "execution_count": 28,
   "id": "cc20f44e",
   "metadata": {},
   "outputs": [
    {
     "data": {
      "text/plain": [
       "['zeeshan', 'ali', 'khalil', 1, 3]"
      ]
     },
     "execution_count": 28,
     "metadata": {},
     "output_type": "execute_result"
    }
   ],
   "source": [
    "name"
   ]
  },
  {
   "cell_type": "code",
   "execution_count": 30,
   "id": "143d575a",
   "metadata": {},
   "outputs": [],
   "source": [
    "name.insert(1,'ali')"
   ]
  },
  {
   "cell_type": "code",
   "execution_count": 31,
   "id": "3fcab6b6",
   "metadata": {},
   "outputs": [
    {
     "data": {
      "text/plain": [
       "['zeeshan', 'ali', 'ali', 'khalil', 1, 3]"
      ]
     },
     "execution_count": 31,
     "metadata": {},
     "output_type": "execute_result"
    }
   ],
   "source": [
    "name"
   ]
  },
  {
   "cell_type": "code",
   "execution_count": 32,
   "id": "8a4d514b",
   "metadata": {},
   "outputs": [],
   "source": [
    "name.insert(0,67)"
   ]
  },
  {
   "cell_type": "code",
   "execution_count": 33,
   "id": "f65860db",
   "metadata": {},
   "outputs": [
    {
     "data": {
      "text/plain": [
       "[67, 'zeeshan', 'ali', 'ali', 'khalil', 1, 3]"
      ]
     },
     "execution_count": 33,
     "metadata": {},
     "output_type": "execute_result"
    }
   ],
   "source": [
    "name"
   ]
  },
  {
   "cell_type": "code",
   "execution_count": 34,
   "id": "29168b90",
   "metadata": {},
   "outputs": [
    {
     "name": "stdout",
     "output_type": "stream",
     "text": [
      "7\n"
     ]
    }
   ],
   "source": [
    "s=0\n",
    "for n in name:\n",
    "    s=s+1\n",
    "\n",
    "print(s)"
   ]
  },
  {
   "cell_type": "code",
   "execution_count": 35,
   "id": "096d49fa",
   "metadata": {},
   "outputs": [
    {
     "data": {
      "text/plain": [
       "7"
      ]
     },
     "execution_count": 35,
     "metadata": {},
     "output_type": "execute_result"
    }
   ],
   "source": [
    "len(name "
   ]
  },
  {
   "cell_type": "code",
   "execution_count": 36,
   "id": "d1e8f0b2",
   "metadata": {},
   "outputs": [
    {
     "data": {
      "text/plain": [
       "[67,\n",
       " 'zeeshan',\n",
       " 'ali',\n",
       " 'ali',\n",
       " 'khalil',\n",
       " 1,\n",
       " 3,\n",
       " 67,\n",
       " 'zeeshan',\n",
       " 'ali',\n",
       " 'ali',\n",
       " 'khalil',\n",
       " 1,\n",
       " 3,\n",
       " 67,\n",
       " 'zeeshan',\n",
       " 'ali',\n",
       " 'ali',\n",
       " 'khalil',\n",
       " 1,\n",
       " 3,\n",
       " 67,\n",
       " 'zeeshan',\n",
       " 'ali',\n",
       " 'ali',\n",
       " 'khalil',\n",
       " 1,\n",
       " 3]"
      ]
     },
     "execution_count": 36,
     "metadata": {},
     "output_type": "execute_result"
    }
   ],
   "source": [
    "name *4"
   ]
  },
  {
   "cell_type": "code",
   "execution_count": 37,
   "id": "5f705b9b",
   "metadata": {},
   "outputs": [],
   "source": [
    "age = [1,2,3,4,5]"
   ]
  },
  {
   "cell_type": "code",
   "execution_count": 45,
   "id": "32b57f7c",
   "metadata": {},
   "outputs": [],
   "source": [
    "age_2=age*2"
   ]
  },
  {
   "cell_type": "code",
   "execution_count": 39,
   "id": "d47bf67d",
   "metadata": {},
   "outputs": [
    {
     "data": {
      "text/plain": [
       "True"
      ]
     },
     "execution_count": 39,
     "metadata": {},
     "output_type": "execute_result"
    }
   ],
   "source": [
    "3 in age"
   ]
  },
  {
   "cell_type": "code",
   "execution_count": 40,
   "id": "0af44b0d",
   "metadata": {},
   "outputs": [
    {
     "data": {
      "text/plain": [
       "False"
      ]
     },
     "execution_count": 40,
     "metadata": {},
     "output_type": "execute_result"
    }
   ],
   "source": [
    "6 in age"
   ]
  },
  {
   "cell_type": "code",
   "execution_count": 41,
   "id": "caff92d6",
   "metadata": {},
   "outputs": [
    {
     "data": {
      "text/plain": [
       "1"
      ]
     },
     "execution_count": 41,
     "metadata": {},
     "output_type": "execute_result"
    }
   ],
   "source": [
    "name.count(3)"
   ]
  },
  {
   "cell_type": "code",
   "execution_count": 47,
   "id": "ba8f839b",
   "metadata": {},
   "outputs": [
    {
     "data": {
      "text/plain": [
       "2"
      ]
     },
     "execution_count": 47,
     "metadata": {},
     "output_type": "execute_result"
    }
   ],
   "source": [
    "age_2.count(4)"
   ]
  },
  {
   "cell_type": "code",
   "execution_count": 49,
   "id": "13481f40",
   "metadata": {},
   "outputs": [
    {
     "name": "stdout",
     "output_type": "stream",
     "text": [
      "1\n",
      "2\n",
      "3\n",
      "4\n",
      "5\n"
     ]
    }
   ],
   "source": [
    "for a in age:\n",
    "    print(a)"
   ]
  },
  {
   "cell_type": "code",
   "execution_count": 51,
   "id": "ebc0b1a7",
   "metadata": {},
   "outputs": [
    {
     "data": {
      "text/plain": [
       "[67, 'zeeshan', 'ali', 'ali', 'khalil', 1, 3]"
      ]
     },
     "execution_count": 51,
     "metadata": {},
     "output_type": "execute_result"
    }
   ],
   "source": [
    "name"
   ]
  },
  {
   "cell_type": "code",
   "execution_count": 52,
   "id": "a534e4c0",
   "metadata": {},
   "outputs": [
    {
     "data": {
      "text/plain": [
       "'zeeshan'"
      ]
     },
     "execution_count": 52,
     "metadata": {},
     "output_type": "execute_result"
    }
   ],
   "source": [
    "name[1]"
   ]
  },
  {
   "cell_type": "code",
   "execution_count": 53,
   "id": "12c3456e",
   "metadata": {},
   "outputs": [
    {
     "data": {
      "text/plain": [
       "['zeeshan', 'ali', 'ali', 'khalil', 1, 3]"
      ]
     },
     "execution_count": 53,
     "metadata": {},
     "output_type": "execute_result"
    }
   ],
   "source": [
    "name[1:]"
   ]
  },
  {
   "cell_type": "code",
   "execution_count": 54,
   "id": "904ff0b8",
   "metadata": {},
   "outputs": [
    {
     "data": {
      "text/plain": [
       "3"
      ]
     },
     "execution_count": 54,
     "metadata": {},
     "output_type": "execute_result"
    }
   ],
   "source": [
    "name[-1]"
   ]
  },
  {
   "cell_type": "code",
   "execution_count": 56,
   "id": "f0fffba9",
   "metadata": {},
   "outputs": [
    {
     "data": {
      "text/plain": [
       "[67]"
      ]
     },
     "execution_count": 56,
     "metadata": {},
     "output_type": "execute_result"
    }
   ],
   "source": [
    "name[:1]"
   ]
  },
  {
   "cell_type": "code",
   "execution_count": 57,
   "id": "f1546c0a",
   "metadata": {},
   "outputs": [
    {
     "data": {
      "text/plain": [
       "['zeeshan', 'ali', 'ali', 'khalil']"
      ]
     },
     "execution_count": 57,
     "metadata": {},
     "output_type": "execute_result"
    }
   ],
   "source": [
    "name[1:5]"
   ]
  },
  {
   "cell_type": "code",
   "execution_count": 62,
   "id": "26475da5",
   "metadata": {},
   "outputs": [
    {
     "data": {
      "text/plain": [
       "[]"
      ]
     },
     "execution_count": 62,
     "metadata": {},
     "output_type": "execute_result"
    }
   ],
   "source": [
    "name[-1:2]"
   ]
  },
  {
   "cell_type": "markdown",
   "id": "4e81594c",
   "metadata": {},
   "source": []
  },
  {
   "cell_type": "code",
   "execution_count": 63,
   "id": "1fe02ec2",
   "metadata": {},
   "outputs": [
    {
     "ename": "NameError",
     "evalue": "name 'cmp' is not defined",
     "output_type": "error",
     "traceback": [
      "\u001b[1;31m---------------------------------------------------------------------------\u001b[0m",
      "\u001b[1;31mNameError\u001b[0m                                 Traceback (most recent call last)",
      "Cell \u001b[1;32mIn[63], line 1\u001b[0m\n\u001b[1;32m----> 1\u001b[0m cmp(age,age_2)\n",
      "\u001b[1;31mNameError\u001b[0m: name 'cmp' is not defined"
     ]
    }
   ],
   "source": [
    "cmp(age,age_2)"
   ]
  },
  {
   "cell_type": "code",
   "execution_count": 64,
   "id": "be961106",
   "metadata": {},
   "outputs": [
    {
     "data": {
      "text/plain": [
       "5"
      ]
     },
     "execution_count": 64,
     "metadata": {},
     "output_type": "execute_result"
    }
   ],
   "source": [
    "max(age)"
   ]
  },
  {
   "cell_type": "code",
   "execution_count": 67,
   "id": "9c283f18",
   "metadata": {},
   "outputs": [
    {
     "data": {
      "text/plain": [
       "1"
      ]
     },
     "execution_count": 67,
     "metadata": {},
     "output_type": "execute_result"
    }
   ],
   "source": [
    "min(age_2)"
   ]
  },
  {
   "cell_type": "code",
   "execution_count": 69,
   "id": "19347313",
   "metadata": {},
   "outputs": [
    {
     "data": {
      "text/plain": [
       "5"
      ]
     },
     "execution_count": 69,
     "metadata": {},
     "output_type": "execute_result"
    }
   ],
   "source": [
    "age.pop(4)"
   ]
  },
  {
   "cell_type": "code",
   "execution_count": 70,
   "id": "8e210565",
   "metadata": {},
   "outputs": [
    {
     "data": {
      "text/plain": [
       "[1, 2, 3, 4]"
      ]
     },
     "execution_count": 70,
     "metadata": {},
     "output_type": "execute_result"
    }
   ],
   "source": [
    "age"
   ]
  },
  {
   "cell_type": "code",
   "execution_count": 72,
   "id": "6e55c359",
   "metadata": {},
   "outputs": [
    {
     "data": {
      "text/plain": [
       "[1, 2, 3, 4, 5, 1, 2, 3, 4, 5]"
      ]
     },
     "execution_count": 72,
     "metadata": {},
     "output_type": "execute_result"
    }
   ],
   "source": [
    "age_2"
   ]
  },
  {
   "cell_type": "code",
   "execution_count": 73,
   "id": "4a3b257f",
   "metadata": {},
   "outputs": [
    {
     "data": {
      "text/plain": [
       "2"
      ]
     },
     "execution_count": 73,
     "metadata": {},
     "output_type": "execute_result"
    }
   ],
   "source": [
    "age_2.pop(1)"
   ]
  },
  {
   "cell_type": "code",
   "execution_count": 74,
   "id": "86763579",
   "metadata": {},
   "outputs": [
    {
     "data": {
      "text/plain": [
       "[1, 3, 4, 5, 1, 2, 3, 4, 5]"
      ]
     },
     "execution_count": 74,
     "metadata": {},
     "output_type": "execute_result"
    }
   ],
   "source": [
    "age_2"
   ]
  },
  {
   "cell_type": "code",
   "execution_count": 75,
   "id": "612c35a6",
   "metadata": {},
   "outputs": [],
   "source": [
    "age.remove(2)"
   ]
  },
  {
   "cell_type": "code",
   "execution_count": 76,
   "id": "9f048960",
   "metadata": {},
   "outputs": [
    {
     "data": {
      "text/plain": [
       "[1, 3, 4]"
      ]
     },
     "execution_count": 76,
     "metadata": {},
     "output_type": "execute_result"
    }
   ],
   "source": [
    "age"
   ]
  },
  {
   "cell_type": "code",
   "execution_count": 77,
   "id": "4b6378e9",
   "metadata": {},
   "outputs": [
    {
     "ename": "ValueError",
     "evalue": "list.remove(x): x not in list",
     "output_type": "error",
     "traceback": [
      "\u001b[1;31m---------------------------------------------------------------------------\u001b[0m",
      "\u001b[1;31mValueError\u001b[0m                                Traceback (most recent call last)",
      "Cell \u001b[1;32mIn[77], line 1\u001b[0m\n\u001b[1;32m----> 1\u001b[0m age\u001b[38;5;241m.\u001b[39mremove(\u001b[38;5;241m6\u001b[39m)\n",
      "\u001b[1;31mValueError\u001b[0m: list.remove(x): x not in list"
     ]
    }
   ],
   "source": [
    "age.remove(6)"
   ]
  },
  {
   "cell_type": "code",
   "execution_count": 78,
   "id": "90167768",
   "metadata": {},
   "outputs": [
    {
     "ename": "SyntaxError",
     "evalue": "invalid syntax (3656215556.py, line 4)",
     "output_type": "error",
     "traceback": [
      "\u001b[1;36m  Cell \u001b[1;32mIn[78], line 4\u001b[1;36m\u001b[0m\n\u001b[1;33m    for in range(1,100000000)\u001b[0m\n\u001b[1;37m        ^\u001b[0m\n\u001b[1;31mSyntaxError\u001b[0m\u001b[1;31m:\u001b[0m invalid syntax\n"
     ]
    }
   ],
   "source": [
    "list = []\n",
    "c = input(\"eneter y for yes and n for no\")\n",
    "while c != 'yes':\n",
    "    for in range(1,100000000):\n",
    "        \n",
    "    "
   ]
  },
  {
   "cell_type": "code",
   "execution_count": null,
   "id": "190c6f89",
   "metadata": {},
   "outputs": [],
   "source": []
  }
 ],
 "metadata": {
  "kernelspec": {
   "display_name": "Python 3 (ipykernel)",
   "language": "python",
   "name": "python3"
  },
  "language_info": {
   "codemirror_mode": {
    "name": "ipython",
    "version": 3
   },
   "file_extension": ".py",
   "mimetype": "text/x-python",
   "name": "python",
   "nbconvert_exporter": "python",
   "pygments_lexer": "ipython3",
   "version": "3.11.5"
  }
 },
 "nbformat": 4,
 "nbformat_minor": 5
}
