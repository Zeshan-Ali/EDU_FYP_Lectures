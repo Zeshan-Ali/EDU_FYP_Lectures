{
 "cells": [
  {
   "cell_type": "markdown",
   "id": "fc82e6be",
   "metadata": {},
   "source": [
    "# Data Structures in Python \n",
    "Data structues are memeory structures that stores data in different ways and are helpful in Data manipulation in different Problems\n",
    "> in python we have four data structurres mainly\n",
    "1. Lists \n",
    "2. Tuple\n",
    "3. Dictionary\n",
    "4. Set\n",
    "> the can be devided in to mutable and un mutable "
   ]
  },
  {
   "cell_type": "markdown",
   "id": "ea28acb0",
   "metadata": {},
   "source": [
    "# Lists  []\n",
    "its just like adn array, all the elements of lists are changaeble, and they are accesssed by their indexes, index start from 0 from left side."
   ]
  },
  {
   "cell_type": "code",
   "execution_count": 4,
   "id": "b00cfc4a",
   "metadata": {},
   "outputs": [],
   "source": [
    "fruits = ['magoes','bananas','guava',34,7,8.9]"
   ]
  },
  {
   "cell_type": "code",
   "execution_count": 5,
   "id": "02c742c6",
   "metadata": {},
   "outputs": [
    {
     "data": {
      "text/plain": [
       "['magoes', 'bananas', 'guava', 34, 7, 8.9]"
      ]
     },
     "execution_count": 5,
     "metadata": {},
     "output_type": "execute_result"
    }
   ],
   "source": [
    "fruits"
   ]
  },
  {
   "cell_type": "code",
   "execution_count": 3,
   "id": "b48dac7c",
   "metadata": {},
   "outputs": [
    {
     "data": {
      "text/plain": [
       "list"
      ]
     },
     "execution_count": 3,
     "metadata": {},
     "output_type": "execute_result"
    }
   ],
   "source": [
    "type(fruits)"
   ]
  },
  {
   "cell_type": "code",
   "execution_count": 6,
   "id": "cfb0c54c",
   "metadata": {},
   "outputs": [],
   "source": [
    "guests = []"
   ]
  },
  {
   "cell_type": "code",
   "execution_count": 7,
   "id": "e28c4b33",
   "metadata": {},
   "outputs": [
    {
     "data": {
      "text/plain": [
       "[]"
      ]
     },
     "execution_count": 7,
     "metadata": {},
     "output_type": "execute_result"
    }
   ],
   "source": [
    "guests"
   ]
  },
  {
   "cell_type": "code",
   "execution_count": 8,
   "id": "be28ca2d",
   "metadata": {},
   "outputs": [],
   "source": [
    "scores = [12,23,45,7,78]"
   ]
  },
  {
   "cell_type": "code",
   "execution_count": 12,
   "id": "7b43105e",
   "metadata": {},
   "outputs": [
    {
     "name": "stdout",
     "output_type": "stream",
     "text": [
      "45\n"
     ]
    }
   ],
   "source": [
    "print(scores[2])"
   ]
  },
  {
   "cell_type": "code",
   "execution_count": 16,
   "id": "8bce7a62",
   "metadata": {},
   "outputs": [
    {
     "name": "stdout",
     "output_type": "stream",
     "text": [
      "12\n",
      "78\n"
     ]
    }
   ],
   "source": [
    "for i in scores:\n",
    "    if i%2==0:\n",
    "        print(i)"
   ]
  },
  {
   "cell_type": "code",
   "execution_count": 15,
   "id": "430cd7ef",
   "metadata": {},
   "outputs": [
    {
     "data": {
      "text/plain": [
       "[12, 23, 45, 7, 78]"
      ]
     },
     "execution_count": 15,
     "metadata": {},
     "output_type": "execute_result"
    }
   ],
   "source": [
    "scores"
   ]
  },
  {
   "cell_type": "code",
   "execution_count": 17,
   "id": "2c20a009",
   "metadata": {},
   "outputs": [
    {
     "data": {
      "text/plain": [
       "5"
      ]
     },
     "execution_count": 17,
     "metadata": {},
     "output_type": "execute_result"
    }
   ],
   "source": [
    "len(scores)"
   ]
  },
  {
   "cell_type": "code",
   "execution_count": 18,
   "id": "cac456cb",
   "metadata": {},
   "outputs": [
    {
     "data": {
      "text/plain": [
       "23"
      ]
     },
     "execution_count": 18,
     "metadata": {},
     "output_type": "execute_result"
    }
   ],
   "source": [
    "scores[1]"
   ]
  },
  {
   "cell_type": "code",
   "execution_count": 20,
   "id": "6e11bbe6",
   "metadata": {},
   "outputs": [
    {
     "data": {
      "text/plain": [
       "7"
      ]
     },
     "execution_count": 20,
     "metadata": {},
     "output_type": "execute_result"
    }
   ],
   "source": [
    "scores[-2]"
   ]
  },
  {
   "cell_type": "code",
   "execution_count": 21,
   "id": "a561dd64",
   "metadata": {},
   "outputs": [],
   "source": [
    "scores[0]='new value'  #updating current element of list"
   ]
  },
  {
   "cell_type": "code",
   "execution_count": 22,
   "id": "070f5860",
   "metadata": {},
   "outputs": [
    {
     "data": {
      "text/plain": [
       "['new value', 23, 45, 7, 78]"
      ]
     },
     "execution_count": 22,
     "metadata": {},
     "output_type": "execute_result"
    }
   ],
   "source": [
    "scores"
   ]
  },
  {
   "cell_type": "code",
   "execution_count": 26,
   "id": "18e74e3c",
   "metadata": {},
   "outputs": [],
   "source": [
    "scores.append(67)  # adding new element , append function always put added element at last of list"
   ]
  },
  {
   "cell_type": "code",
   "execution_count": null,
   "id": "033d687b",
   "metadata": {},
   "outputs": [],
   "source": []
  },
  {
   "cell_type": "code",
   "execution_count": 27,
   "id": "4295ffc3",
   "metadata": {},
   "outputs": [
    {
     "data": {
      "text/plain": [
       "['new value', 23, 45, 7, 78, 67, 67]"
      ]
     },
     "execution_count": 27,
     "metadata": {},
     "output_type": "execute_result"
    }
   ],
   "source": [
    "scores"
   ]
  },
  {
   "cell_type": "code",
   "execution_count": 30,
   "id": "2856681f",
   "metadata": {},
   "outputs": [],
   "source": [
    "scores.remove(67) # removing element from list"
   ]
  },
  {
   "cell_type": "code",
   "execution_count": 31,
   "id": "08a0ca79",
   "metadata": {},
   "outputs": [
    {
     "data": {
      "text/plain": [
       "['new value', 23, 45, 7, 78]"
      ]
     },
     "execution_count": 31,
     "metadata": {},
     "output_type": "execute_result"
    }
   ],
   "source": [
    "scores"
   ]
  },
  {
   "cell_type": "code",
   "execution_count": 32,
   "id": "19d42927",
   "metadata": {},
   "outputs": [],
   "source": [
    "del scores[0]"
   ]
  },
  {
   "cell_type": "code",
   "execution_count": 33,
   "id": "e75567f3",
   "metadata": {},
   "outputs": [
    {
     "data": {
      "text/plain": [
       "[23, 45, 7, 78]"
      ]
     },
     "execution_count": 33,
     "metadata": {},
     "output_type": "execute_result"
    }
   ],
   "source": [
    "scores"
   ]
  },
  {
   "cell_type": "code",
   "execution_count": 34,
   "id": "9416af04",
   "metadata": {},
   "outputs": [],
   "source": [
    "scores[0]=24"
   ]
  },
  {
   "cell_type": "code",
   "execution_count": 35,
   "id": "474c2cf1",
   "metadata": {},
   "outputs": [
    {
     "data": {
      "text/plain": [
       "[24, 45, 7, 78]"
      ]
     },
     "execution_count": 35,
     "metadata": {},
     "output_type": "execute_result"
    }
   ],
   "source": [
    "scores"
   ]
  },
  {
   "cell_type": "code",
   "execution_count": 42,
   "id": "16ae3008",
   "metadata": {},
   "outputs": [
    {
     "data": {
      "text/plain": [
       "1"
      ]
     },
     "execution_count": 42,
     "metadata": {},
     "output_type": "execute_result"
    }
   ],
   "source": [
    "scores.index(45)  # finding index of given value"
   ]
  },
  {
   "cell_type": "markdown",
   "id": "ef8dfd0b",
   "metadata": {},
   "source": [
    "#### "
   ]
  },
  {
   "cell_type": "code",
   "execution_count": 49,
   "id": "4f30efd1",
   "metadata": {},
   "outputs": [
    {
     "name": "stdout",
     "output_type": "stream",
     "text": [
      "24\n",
      "45\n",
      "7\n",
      "78\n"
     ]
    }
   ],
   "source": [
    "for s in scores:\n",
    "    print(s)"
   ]
  },
  {
   "cell_type": "code",
   "execution_count": 51,
   "id": "c1903a73",
   "metadata": {},
   "outputs": [],
   "source": [
    "guests=['Christopher','Susan','Bill','Satya']"
   ]
  },
  {
   "cell_type": "code",
   "execution_count": 56,
   "id": "b0558dfb",
   "metadata": {},
   "outputs": [],
   "source": [
    "guests.sort()"
   ]
  },
  {
   "cell_type": "code",
   "execution_count": 57,
   "id": "f1a04784",
   "metadata": {},
   "outputs": [
    {
     "data": {
      "text/plain": [
       "['Bill', 'Christopher', 'Satya', 'Susan']"
      ]
     },
     "execution_count": 57,
     "metadata": {},
     "output_type": "execute_result"
    }
   ],
   "source": [
    "guests"
   ]
  },
  {
   "cell_type": "code",
   "execution_count": 59,
   "id": "0e7358b0",
   "metadata": {},
   "outputs": [
    {
     "name": "stdout",
     "output_type": "stream",
     "text": [
      "enter a name:ali\n",
      "enter a name:ahamd\n",
      "enter a name:usman\n",
      "enter a name:umer\n",
      "enter a name:rizwan\n",
      "['ali', 'ahamd', 'usman', 'umer', 'rizwan']\n"
     ]
    }
   ],
   "source": [
    "guests = []\n",
    "for i in range(1,6):\n",
    "    name = input(\"enter a name:\")\n",
    "    guests.append(name)\n",
    "print(guests)"
   ]
  },
  {
   "cell_type": "code",
   "execution_count": 63,
   "id": "a0c38eba",
   "metadata": {},
   "outputs": [
    {
     "name": "stdout",
     "output_type": "stream",
     "text": [
      "enter name of mehman:ali\n",
      "enter name of mehman:usman\n",
      "enter name of mehman:ahmad\n",
      "enter name of mehman:ramzan\n",
      "enter name of mehman:usama\n",
      "enter name of mehman:done\n",
      "['ahmad', 'ali', 'ramzan', 'usama', 'usman']\n"
     ]
    }
   ],
   "source": [
    "mehman = []\n",
    "name = ''\n",
    "\n",
    "while name != \"done\":\n",
    "    name = input(\"enter name of mehman:\")\n",
    "    mehman.append(name)\n",
    "del mehman[-1]  \n",
    "mehman.sort()\n",
    "print(mehman)"
   ]
  },
  {
   "cell_type": "code",
   "execution_count": 70,
   "id": "30174971",
   "metadata": {},
   "outputs": [],
   "source": [
    "mehman.sort(reverse=True)"
   ]
  },
  {
   "cell_type": "code",
   "execution_count": 71,
   "id": "9d2451c2",
   "metadata": {},
   "outputs": [
    {
     "data": {
      "text/plain": [
       "['usman', 'usama', 'ramzan', 'ali', 'ahmad']"
      ]
     },
     "execution_count": 71,
     "metadata": {},
     "output_type": "execute_result"
    }
   ],
   "source": [
    "mehman"
   ]
  },
  {
   "cell_type": "code",
   "execution_count": null,
   "id": "611a4235",
   "metadata": {},
   "outputs": [],
   "source": []
  }
 ],
 "metadata": {
  "kernelspec": {
   "display_name": "Python 3 (ipykernel)",
   "language": "python",
   "name": "python3"
  },
  "language_info": {
   "codemirror_mode": {
    "name": "ipython",
    "version": 3
   },
   "file_extension": ".py",
   "mimetype": "text/x-python",
   "name": "python",
   "nbconvert_exporter": "python",
   "pygments_lexer": "ipython3",
   "version": "3.11.5"
  }
 },
 "nbformat": 4,
 "nbformat_minor": 5
}
