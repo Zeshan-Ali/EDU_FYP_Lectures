{
 "cells": [
  {
   "cell_type": "code",
   "execution_count": 7,
   "id": "f700425c",
   "metadata": {},
   "outputs": [
    {
     "name": "stdout",
     "output_type": "stream",
     "text": [
      "<class 'NameError'>\n"
     ]
    }
   ],
   "source": [
    "import sys\n",
    "try:\n",
    "    prnt(\"hello\")\n",
    "except:\n",
    "    e=sys.exc_info()[0]\n",
    "    print(e)"
   ]
  },
  {
   "cell_type": "code",
   "execution_count": 4,
   "id": "434d5b5e",
   "metadata": {},
   "outputs": [
    {
     "ename": "NameError",
     "evalue": "name 'prnt' is not defined",
     "output_type": "error",
     "traceback": [
      "\u001b[1;31m---------------------------------------------------------------------------\u001b[0m",
      "\u001b[1;31mNameError\u001b[0m                                 Traceback (most recent call last)",
      "Cell \u001b[1;32mIn[4], line 1\u001b[0m\n\u001b[1;32m----> 1\u001b[0m prnt(\u001b[38;5;124m\"\u001b[39m\u001b[38;5;124mhello\u001b[39m\u001b[38;5;124m\"\u001b[39m)\n",
      "\u001b[1;31mNameError\u001b[0m: name 'prnt' is not defined"
     ]
    }
   ],
   "source": [
    "prnt(\"hello\")"
   ]
  },
  {
   "cell_type": "code",
   "execution_count": 26,
   "id": "d04c2d02",
   "metadata": {},
   "outputs": [
    {
     "name": "stdout",
     "output_type": "stream",
     "text": [
      "enter a number:4\n",
      "Enter second number:55\n",
      "the default except: unsupported operand type(s) for /: 'int' and 'str'\n",
      "always display\n"
     ]
    }
   ],
   "source": [
    "a=int(input(\"enter a number:\"))\n",
    "b=input(\"Enter second number:\")\n",
    "try:\n",
    "    print(\"the div is:\",a/b)\n",
    "except ZeroDivisionError:\n",
    "    print(\"the second number is 0 \")\n",
    "except NameError:\n",
    "    print(\"there must be an speelling  mistake\")\n",
    "except:\n",
    "    e = sys.exc_info()[1]\n",
    "    print(\"the default except:\",e)   \n",
    "\n",
    "print(\"always display\")\n"
   ]
  },
  {
   "cell_type": "code",
   "execution_count": 23,
   "id": "8eb5e133",
   "metadata": {},
   "outputs": [
    {
     "ename": "TypeError",
     "evalue": "unsupported operand type(s) for /: 'int' and 'str'",
     "output_type": "error",
     "traceback": [
      "\u001b[1;31m---------------------------------------------------------------------------\u001b[0m",
      "\u001b[1;31mTypeError\u001b[0m                                 Traceback (most recent call last)",
      "Cell \u001b[1;32mIn[23], line 1\u001b[0m\n\u001b[1;32m----> 1\u001b[0m \u001b[38;5;241m3\u001b[39m\u001b[38;5;241m/\u001b[39m\u001b[38;5;124m\"\u001b[39m\u001b[38;5;124ma\u001b[39m\u001b[38;5;124m\"\u001b[39m\n",
      "\u001b[1;31mTypeError\u001b[0m: unsupported operand type(s) for /: 'int' and 'str'"
     ]
    }
   ],
   "source": [
    "3/\"a\""
   ]
  },
  {
   "cell_type": "code",
   "execution_count": 41,
   "id": "c722e077",
   "metadata": {},
   "outputs": [
    {
     "name": "stdout",
     "output_type": "stream",
     "text": [
      "enter a number:s\n",
      "message: <class 'type'>\n"
     ]
    }
   ],
   "source": [
    "try:\n",
    "    n1= int(input(\"enter a number:\"))\n",
    "    n2= int(input(\"enter a  2nd number:\"))\n",
    "    if n1>n2:\n",
    "        print(\"n1 is greater\")\n",
    "    else:\n",
    "        print(\"n2 is greater\")\n",
    "except:\n",
    "    msg=sys.exc_info()[0]\n",
    "    if msg =='ValueError':\n",
    "        print(\"this is value error\")\n",
    "    print(\"message:\",type(msg))\n"
   ]
  },
  {
   "cell_type": "markdown",
   "id": "f467bcc7",
   "metadata": {},
   "source": [
    "### try:\n",
    "    "
   ]
  },
  {
   "cell_type": "code",
   "execution_count": null,
   "id": "5b46afba",
   "metadata": {},
   "outputs": [],
   "source": []
  }
 ],
 "metadata": {
  "kernelspec": {
   "display_name": "Python 3 (ipykernel)",
   "language": "python",
   "name": "python3"
  },
  "language_info": {
   "codemirror_mode": {
    "name": "ipython",
    "version": 3
   },
   "file_extension": ".py",
   "mimetype": "text/x-python",
   "name": "python",
   "nbconvert_exporter": "python",
   "pygments_lexer": "ipython3",
   "version": "3.11.5"
  }
 },
 "nbformat": 4,
 "nbformat_minor": 5
}
