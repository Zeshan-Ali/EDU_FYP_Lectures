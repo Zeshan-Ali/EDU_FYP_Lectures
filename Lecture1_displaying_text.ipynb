{
 "cells": [
  {
   "cell_type": "code",
   "execution_count": null,
   "id": "ae091c5f",
   "metadata": {},
   "outputs": [],
   "source": [
    "  print(\"helo bacho ksy ho \\n ky seekha\")  "
   ]
  },
  {
   "cell_type": "code",
   "execution_count": null,
   "id": "1f076e51",
   "metadata": {},
   "outputs": [],
   "source": [
    "     print(\"helo bacho ksy ho\")"
   ]
  },
  {
   "cell_type": "code",
   "execution_count": null,
   "id": "8dac0d81",
   "metadata": {},
   "outputs": [],
   "source": [
    "print('''helo bacho ksy ho \n",
    "kya seekha             \n",
    "                    hshshs\n",
    "                                  hshshs\n",
    "                                  \n",
    "                                              hshshssh''')"
   ]
  },
  {
   "cell_type": "code",
   "execution_count": null,
   "id": "358e02a8",
   "metadata": {},
   "outputs": [],
   "source": [
    "print(\"\"\"helo bacho ksy ho \n",
    "kya seekha             \n",
    "                    hshshs\n",
    "                                  hshshs\n",
    "                                  \n",
    "                                              hshshssh\"\"\")"
   ]
  },
  {
   "cell_type": "code",
   "execution_count": null,
   "id": "b4c5ebf5",
   "metadata": {},
   "outputs": [],
   "source": [
    "print(\"it's very beautiful day out there\")"
   ]
  },
  {
   "cell_type": "code",
   "execution_count": null,
   "id": "9c98b6ba",
   "metadata": {},
   "outputs": [],
   "source": [
    "print(\"my country name is\",\"Pakistan\")"
   ]
  },
  {
   "cell_type": "code",
   "execution_count": null,
   "id": "64def8cf",
   "metadata": {},
   "outputs": [],
   "source": [
    "a  = 12"
   ]
  },
  {
   "cell_type": "code",
   "execution_count": null,
   "id": "75de4014",
   "metadata": {},
   "outputs": [],
   "source": [
    "type(a)     "
   ]
  },
  {
   "cell_type": "code",
   "execution_count": null,
   "id": "0af89a90",
   "metadata": {},
   "outputs": [],
   "source": [
    "print(a)"
   ]
  },
  {
   "cell_type": "code",
   "execution_count": null,
   "id": "43cb3d87",
   "metadata": {},
   "outputs": [],
   "source": [
    "print(\"halleo \\n \",'ksy ho \\n jj ', \"\"\"jnab \n",
    "jj\"\"\")"
   ]
  },
  {
   "cell_type": "code",
   "execution_count": null,
   "id": "8db1f2cb",
   "metadata": {},
   "outputs": [],
   "source": [
    "msg = "
   ]
  },
  {
   "cell_type": "code",
   "execution_count": 2,
   "id": "a1a80ee7",
   "metadata": {},
   "outputs": [
    {
     "name": "stdout",
     "output_type": "stream",
     "text": [
      "msg\n"
     ]
    }
   ],
   "source": [
    "print('msg')"
   ]
  },
  {
   "cell_type": "code",
   "execution_count": 14,
   "id": "e6b269ce",
   "metadata": {},
   "outputs": [],
   "source": [
    "age =12\n",
    "age_plus_2= age*2"
   ]
  },
  {
   "cell_type": "code",
   "execution_count": 15,
   "id": "84e96401",
   "metadata": {},
   "outputs": [
    {
     "name": "stdout",
     "output_type": "stream",
     "text": [
      "the age is : 12 years old the doubel age is: 24\n"
     ]
    }
   ],
   "source": [
    "print(\"the age is :\", age,\"years old\",\"the doubel age is:\",age_plus_2)"
   ]
  },
  {
   "cell_type": "code",
   "execution_count": 16,
   "id": "d34cbc64",
   "metadata": {},
   "outputs": [],
   "source": [
    "age = 80"
   ]
  },
  {
   "cell_type": "code",
   "execution_count": 17,
   "id": "e0d55229",
   "metadata": {},
   "outputs": [
    {
     "data": {
      "text/plain": [
       "80"
      ]
     },
     "execution_count": 17,
     "metadata": {},
     "output_type": "execute_result"
    }
   ],
   "source": [
    "age"
   ]
  },
  {
   "cell_type": "code",
   "execution_count": null,
   "id": "fbb44bd9",
   "metadata": {},
   "outputs": [],
   "source": []
  }
 ],
 "metadata": {
  "kernelspec": {
   "display_name": "Python 3 (ipykernel)",
   "language": "python",
   "name": "python3"
  },
  "language_info": {
   "codemirror_mode": {
    "name": "ipython",
    "version": 3
   },
   "file_extension": ".py",
   "mimetype": "text/x-python",
   "name": "python",
   "nbconvert_exporter": "python",
   "pygments_lexer": "ipython3",
   "version": "3.11.5"
  }
 },
 "nbformat": 4,
 "nbformat_minor": 5
}
