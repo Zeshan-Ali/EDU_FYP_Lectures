{
 "cells": [
  {
   "cell_type": "markdown",
   "id": "b5123890",
   "metadata": {},
   "source": [
    "# Vice versa\n",
    "\n",
    "c ------> F\n",
    "F ------ C"
   ]
  },
  {
   "cell_type": "code",
   "execution_count": 7,
   "id": "e07fb19f",
   "metadata": {},
   "outputs": [
    {
     "name": "stdout",
     "output_type": "stream",
     "text": [
      "enter 1 for coverting F to C : \n",
      " enter 2 for converting C to F :3\n",
      "invalid choice\n"
     ]
    }
   ],
   "source": [
    "choice = int(input(\"enter 1 for coverting F to C : \\n enter 2 for converting C to F :\"))\n",
    "\n",
    "if choice == 1:\n",
    "    print(\"you are going to convert F to C\")\n",
    "elif choice == 2 :\n",
    "    print(\"you are going to convert C to F\")\n",
    "else:\n",
    "    print(\"invalid choice\")\n",
    "    "
   ]
  },
  {
   "cell_type": "code",
   "execution_count": 8,
   "id": "07d2d850",
   "metadata": {},
   "outputs": [
    {
     "name": "stdout",
     "output_type": "stream",
     "text": [
      "ot is change for github\n"
     ]
    }
   ],
   "source": [
    "print(\"ot is change for github\")"
   ]
  },
  {
   "cell_type": "code",
   "execution_count": 17,
   "id": "a26e4565",
   "metadata": {},
   "outputs": [
    {
     "name": "stdout",
     "output_type": "stream",
     "text": [
      "do you win the lottery? enter y for yes n for no:n\n",
      "enter you lotter ammount50000000\n",
      "chal mera putt km ty\n"
     ]
    }
   ],
   "source": [
    "lottry_win = input(\"do you win the lottery? enter y for yes n for no:\")\n",
    "\n",
    "bigwin = int(input(\"enter you lotter ammount\"))\n",
    "\n",
    "\n",
    "if lottry_win == 'y' and bigwin >= 50000:\n",
    "    print(\"i can enjoy my life no\")\n",
    "else:\n",
    "    print(\"chal mera putt km ty\")"
   ]
  },
  {
   "cell_type": "code",
   "execution_count": 16,
   "id": "279bd59e",
   "metadata": {},
   "outputs": [
    {
     "name": "stdout",
     "output_type": "stream",
     "text": [
      "hello\n"
     ]
    }
   ],
   "source": [
    "a = 6\n",
    "b  = 4\n",
    "if a >b:\n",
    "    print(\"hello\")"
   ]
  },
  {
   "cell_type": "code",
   "execution_count": 11,
   "id": "69bf2c2c",
   "metadata": {},
   "outputs": [
    {
     "data": {
      "text/plain": [
       "True"
      ]
     },
     "execution_count": 11,
     "metadata": {},
     "output_type": "execute_result"
    }
   ],
   "source": [
    "a >b"
   ]
  },
  {
   "cell_type": "code",
   "execution_count": 23,
   "id": "2bb95b4a",
   "metadata": {},
   "outputs": [
    {
     "ename": "SyntaxError",
     "evalue": "invalid syntax (1830928497.py, line 8)",
     "output_type": "error",
     "traceback": [
      "\u001b[1;36m  Cell \u001b[1;32mIn[23], line 8\u001b[1;36m\u001b[0m\n\u001b[1;33m    else:\u001b[0m\n\u001b[1;37m    ^\u001b[0m\n\u001b[1;31mSyntaxError\u001b[0m\u001b[1;31m:\u001b[0m invalid syntax\n"
     ]
    }
   ],
   "source": [
    "lottry_win = input(\"do you win the lottery? enter y for yes n for no:\")\n",
    "if lottry_win == 'y':\n",
    "    bigwin = int(input(\"enter you lotter ammount\"))\n",
    "    if bigwin >= 500000:\n",
    "        print(\"you can enjoy your life\")\n",
    "    else:\n",
    "        print(\"your win amount is less\")\n",
    "else:\n",
    "    print(\"try again later\")"
   ]
  },
  {
   "cell_type": "code",
   "execution_count": 27,
   "id": "e0954996",
   "metadata": {},
   "outputs": [
    {
     "name": "stdout",
     "output_type": "stream",
     "text": [
      "enter month name: like sep , aug , nov nov\n",
      "there are 30 days in month\n"
     ]
    }
   ],
   "source": [
    "month = input(\"enter month name: like sep , aug , nov \")\n",
    "if  month == 'sep' or month=='apr' or month =='jun' or month == 'nov':\n",
    "    print(\"there are 30 days in month\")\n",
    "else:\n",
    "    print(\"there are 31 days in month\")"
   ]
  },
  {
   "cell_type": "code",
   "execution_count": null,
   "id": "b4a154e6",
   "metadata": {},
   "outputs": [],
   "source": []
  }
 ],
 "metadata": {
  "kernelspec": {
   "display_name": "Python 3 (ipykernel)",
   "language": "python",
   "name": "python3"
  },
  "language_info": {
   "codemirror_mode": {
    "name": "ipython",
    "version": 3
   },
   "file_extension": ".py",
   "mimetype": "text/x-python",
   "name": "python",
   "nbconvert_exporter": "python",
   "pygments_lexer": "ipython3",
   "version": "3.11.5"
  }
 },
 "nbformat": 4,
 "nbformat_minor": 5
}
