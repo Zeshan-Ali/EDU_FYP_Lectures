{
 "cells": [
  {
   "cell_type": "code",
   "execution_count": 2,
   "id": "f2484176",
   "metadata": {},
   "outputs": [
    {
     "name": "stdout",
     "output_type": "stream",
     "text": [
      "Enter:\n",
      " 1 for add Account:\n",
      " 2 for view account:2\n",
      "Zeshan Ali\n",
      "\n"
     ]
    },
    {
     "ename": "FileNotFoundError",
     "evalue": "[Errno 2] No such file or directory: 'Account_number.txt'",
     "output_type": "error",
     "traceback": [
      "\u001b[1;31m---------------------------------------------------------------------------\u001b[0m",
      "\u001b[1;31mFileNotFoundError\u001b[0m                         Traceback (most recent call last)",
      "Cell \u001b[1;32mIn[2], line 27\u001b[0m\n\u001b[0;32m     24\u001b[0m     \u001b[38;5;28;01melse\u001b[39;00m:\n\u001b[0;32m     25\u001b[0m         \u001b[38;5;28mprint\u001b[39m(\u001b[38;5;124m\"\u001b[39m\u001b[38;5;124mInalid instructions\u001b[39m\u001b[38;5;124m\"\u001b[39m)\n\u001b[1;32m---> 27\u001b[0m account_title()\n",
      "Cell \u001b[1;32mIn[2], line 20\u001b[0m, in \u001b[0;36maccount_title\u001b[1;34m()\u001b[0m\n\u001b[0;32m     18\u001b[0m     \u001b[38;5;28;01mfor\u001b[39;00m i \u001b[38;5;129;01min\u001b[39;00m a:\n\u001b[0;32m     19\u001b[0m         \u001b[38;5;28mprint\u001b[39m(i)\n\u001b[1;32m---> 20\u001b[0m \u001b[38;5;28;01mwith\u001b[39;00m \u001b[38;5;28mopen\u001b[39m (\u001b[38;5;124m\"\u001b[39m\u001b[38;5;124mAccount_number.txt\u001b[39m\u001b[38;5;124m\"\u001b[39m,\u001b[38;5;124m\"\u001b[39m\u001b[38;5;124mr\u001b[39m\u001b[38;5;124m\"\u001b[39m) \u001b[38;5;28;01mas\u001b[39;00m rn:\n\u001b[0;32m     21\u001b[0m     b\u001b[38;5;241m=\u001b[39mrn\u001b[38;5;241m.\u001b[39mreadlines()\n\u001b[0;32m     22\u001b[0m     \u001b[38;5;28;01mfor\u001b[39;00m i \u001b[38;5;129;01min\u001b[39;00m b:\n",
      "File \u001b[1;32m~\\anaconda3\\Lib\\site-packages\\IPython\\core\\interactiveshell.py:286\u001b[0m, in \u001b[0;36m_modified_open\u001b[1;34m(file, *args, **kwargs)\u001b[0m\n\u001b[0;32m    279\u001b[0m \u001b[38;5;28;01mif\u001b[39;00m file \u001b[38;5;129;01min\u001b[39;00m {\u001b[38;5;241m0\u001b[39m, \u001b[38;5;241m1\u001b[39m, \u001b[38;5;241m2\u001b[39m}:\n\u001b[0;32m    280\u001b[0m     \u001b[38;5;28;01mraise\u001b[39;00m \u001b[38;5;167;01mValueError\u001b[39;00m(\n\u001b[0;32m    281\u001b[0m         \u001b[38;5;124mf\u001b[39m\u001b[38;5;124m\"\u001b[39m\u001b[38;5;124mIPython won\u001b[39m\u001b[38;5;124m'\u001b[39m\u001b[38;5;124mt let you open fd=\u001b[39m\u001b[38;5;132;01m{\u001b[39;00mfile\u001b[38;5;132;01m}\u001b[39;00m\u001b[38;5;124m by default \u001b[39m\u001b[38;5;124m\"\u001b[39m\n\u001b[0;32m    282\u001b[0m         \u001b[38;5;124m\"\u001b[39m\u001b[38;5;124mas it is likely to crash IPython. If you know what you are doing, \u001b[39m\u001b[38;5;124m\"\u001b[39m\n\u001b[0;32m    283\u001b[0m         \u001b[38;5;124m\"\u001b[39m\u001b[38;5;124myou can use builtins\u001b[39m\u001b[38;5;124m'\u001b[39m\u001b[38;5;124m open.\u001b[39m\u001b[38;5;124m\"\u001b[39m\n\u001b[0;32m    284\u001b[0m     )\n\u001b[1;32m--> 286\u001b[0m \u001b[38;5;28;01mreturn\u001b[39;00m io_open(file, \u001b[38;5;241m*\u001b[39margs, \u001b[38;5;241m*\u001b[39m\u001b[38;5;241m*\u001b[39mkwargs)\n",
      "\u001b[1;31mFileNotFoundError\u001b[0m: [Errno 2] No such file or directory: 'Account_number.txt'"
     ]
    }
   ],
   "source": [
    "def account_title():\n",
    "    choice=input(\"Enter:\\n 1 for add Account:\\n 2 for view account:\") \n",
    "    if choice==\"1\":\n",
    "        detail=input(\" Enter:\\na for account title:\\nb for account number:\")\n",
    "        if detail== \"a\":\n",
    "            title=input(\"Enter the account title:\")\n",
    "            with open (\"Account_Title.txt\",\"a\") as at:\n",
    "                at.writelines(f\"{title}\\n\")\n",
    "        elif detail==\"b\":            \n",
    "            number=int(input(\"Enter th account number:\"))\n",
    "            with open(\"Account_number.txt\",\"a\") as an:\n",
    "                an.writelines(f\"{number}\\n\")\n",
    "        else:\n",
    "            print(\"Plz press 2 for see your account detail\")\n",
    "    elif choice==\"2\":\n",
    "        with open (\"Account_Title.txt\",\"r\") as rf:\n",
    "            a=rf.readlines()\n",
    "            for i in a:\n",
    "                print(i)\n",
    "        with open (\"Account_number.txt\",\"r\") as rn:\n",
    "            b=rn.readlines()\n",
    "            for i in b:\n",
    "                print(i)\n",
    "    else:\n",
    "        print(\"Inalid instructions\")\n",
    "        \n",
    "account_title()"
   ]
  },
  {
   "cell_type": "code",
   "execution_count": 13,
   "id": "ad0cbaee",
   "metadata": {},
   "outputs": [],
   "source": [
    "def ad_account():    \n",
    "    with open (\"acc.txt\",\"a\") as b:\n",
    "        z=input(\"enter acc ttile\")\n",
    "        b.write(f\"{z}\\n\")\n",
    "    with open (\"number.txt\",\"a\") as an:\n",
    "        k=int(input (\"ente  account number:\"))\n",
    "        an.writelines(f\"{k}\\n\") \n",
    "            \n",
    "def view_account():\n",
    "    with open(\"acc.txt\",\"r\")as c:\n",
    "        d=c.readlines()\n",
    "        for i in d:\n",
    "            print(i.strip())\n",
    "    with open(\"number.txt\",\"r\") as n:\n",
    "        cnt = n.readlines()\n",
    "        for j in cnt:\n",
    "            print(j.strip())\n"
   ]
  },
  {
   "cell_type": "code",
   "execution_count": 14,
   "id": "f9c2ebb7",
   "metadata": {},
   "outputs": [
    {
     "name": "stdout",
     "output_type": "stream",
     "text": [
      "enter \n",
      " 1: if you want to add account \n",
      " 2: if you want to view account2\n",
      "5\n",
      "zeeshan\n",
      "6\n",
      "19919191\n"
     ]
    }
   ],
   "source": [
    "choice=input(\"enter \\n 1: if you want to add account \\n 2: if you want to view account\")\n",
    "\n",
    "if choice == \"1\":\n",
    "    ad_account()\n",
    "elif choice == \"2\":\n",
    "    view_account()\n",
    "else:\n",
    "    print(\"invalid choice\")"
   ]
  },
  {
   "cell_type": "code",
   "execution_count": 15,
   "id": "6b998cac",
   "metadata": {},
   "outputs": [],
   "source": [
    "acc = [\"zeeshan\",\"usman\"]\n",
    "number = [1233,46477]"
   ]
  },
  {
   "cell_type": "code",
   "execution_count": 16,
   "id": "3769e12e",
   "metadata": {},
   "outputs": [],
   "source": [
    "acc_number = acc + number"
   ]
  },
  {
   "cell_type": "code",
   "execution_count": 17,
   "id": "3f894b23",
   "metadata": {},
   "outputs": [
    {
     "data": {
      "text/plain": [
       "['zeeshan', 'usman', 1233, 46477]"
      ]
     },
     "execution_count": 17,
     "metadata": {},
     "output_type": "execute_result"
    }
   ],
   "source": [
    "acc_number"
   ]
  },
  {
   "cell_type": "code",
   "execution_count": 22,
   "id": "a19aad62",
   "metadata": {},
   "outputs": [],
   "source": [
    "with open (\"acC_number.txt\",\"w\") as acn:\n",
    "    for i in acc_number:\n",
    "        acn.write(f\"{i}\\n\")"
   ]
  },
  {
   "cell_type": "code",
   "execution_count": 26,
   "id": "8540029b",
   "metadata": {},
   "outputs": [],
   "source": [
    "guests = [\"ahamd\",\"usman\",\"hanzala\",\"yasir\",1,2,3,4]    # mutable can be change"
   ]
  },
  {
   "cell_type": "code",
   "execution_count": 27,
   "id": "a5b7e2b9",
   "metadata": {},
   "outputs": [
    {
     "data": {
      "text/plain": [
       "['ahamd', 'usman', 'hanzala', 'yasir', 1, 2, 3, 4]"
      ]
     },
     "execution_count": 27,
     "metadata": {},
     "output_type": "execute_result"
    }
   ],
   "source": [
    "guests"
   ]
  },
  {
   "cell_type": "code",
   "execution_count": 28,
   "id": "5a4f599e",
   "metadata": {},
   "outputs": [],
   "source": [
    "guests = {1:\"ahamd\",2:\"usman\",3:\"yasir\",4:\"hanzala\"}"
   ]
  },
  {
   "cell_type": "code",
   "execution_count": 29,
   "id": "baa9f09d",
   "metadata": {},
   "outputs": [
    {
     "data": {
      "text/plain": [
       "{1: 'ahamd', 2: 'usman', 3: 'yasir', 4: 'hanzala'}"
      ]
     },
     "execution_count": 29,
     "metadata": {},
     "output_type": "execute_result"
    }
   ],
   "source": [
    "guests"
   ]
  },
  {
   "cell_type": "code",
   "execution_count": 35,
   "id": "eb5be796",
   "metadata": {},
   "outputs": [
    {
     "data": {
      "text/plain": [
       "dict_keys"
      ]
     },
     "execution_count": 35,
     "metadata": {},
     "output_type": "execute_result"
    }
   ],
   "source": [
    "key= guests.keys()\n",
    "\n",
    "type(key)\n"
   ]
  },
  {
   "cell_type": "code",
   "execution_count": 37,
   "id": "4b73edd5",
   "metadata": {},
   "outputs": [
    {
     "data": {
      "text/plain": [
       "dict_values"
      ]
     },
     "execution_count": 37,
     "metadata": {},
     "output_type": "execute_result"
    }
   ],
   "source": [
    "val=guests.values()\n",
    "type(val)"
   ]
  },
  {
   "cell_type": "code",
   "execution_count": 32,
   "id": "0311f635",
   "metadata": {},
   "outputs": [
    {
     "data": {
      "text/plain": [
       "dict_items([(1, 'ahamd'), (2, 'usman'), (3, 'yasir'), (4, 'hanzala')])"
      ]
     },
     "execution_count": 32,
     "metadata": {},
     "output_type": "execute_result"
    }
   ],
   "source": [
    "guests.items()"
   ]
  },
  {
   "cell_type": "code",
   "execution_count": 39,
   "id": "5a8a3515",
   "metadata": {},
   "outputs": [
    {
     "ename": "KeyError",
     "evalue": "0",
     "output_type": "error",
     "traceback": [
      "\u001b[1;31m---------------------------------------------------------------------------\u001b[0m",
      "\u001b[1;31mKeyError\u001b[0m                                  Traceback (most recent call last)",
      "Cell \u001b[1;32mIn[39], line 1\u001b[0m\n\u001b[1;32m----> 1\u001b[0m guests[\u001b[38;5;241m0\u001b[39m]\n",
      "\u001b[1;31mKeyError\u001b[0m: 0"
     ]
    }
   ],
   "source": [
    "guests[0]"
   ]
  },
  {
   "cell_type": "code",
   "execution_count": 40,
   "id": "4277077d",
   "metadata": {},
   "outputs": [],
   "source": [
    "guests[1]=\"usama\""
   ]
  },
  {
   "cell_type": "code",
   "execution_count": 41,
   "id": "a777154a",
   "metadata": {},
   "outputs": [
    {
     "data": {
      "text/plain": [
       "{1: 'usama', 2: 'usman', 3: 'yasir', 4: 'hanzala'}"
      ]
     },
     "execution_count": 41,
     "metadata": {},
     "output_type": "execute_result"
    }
   ],
   "source": [
    "guests"
   ]
  },
  {
   "cell_type": "code",
   "execution_count": 52,
   "id": "d9d2f4a7",
   "metadata": {},
   "outputs": [
    {
     "name": "stdout",
     "output_type": "stream",
     "text": [
      "the key is4\n"
     ]
    }
   ],
   "source": [
    "for k,v in guests.items():\n",
    "    #print(f\"{k},{v}\")\n",
    "    if v == \"hanzala\":\n",
    "        print(f\"the key is{k}\")\n",
    "        guests[k]=\"ramzan\""
   ]
  },
  {
   "cell_type": "code",
   "execution_count": 53,
   "id": "33eb4e73",
   "metadata": {},
   "outputs": [
    {
     "data": {
      "text/plain": [
       "{1: 'sohail', 2: 'usman', 3: 'zeeshan', 4: 'ramzan'}"
      ]
     },
     "execution_count": 53,
     "metadata": {},
     "output_type": "execute_result"
    }
   ],
   "source": [
    "guests"
   ]
  },
  {
   "cell_type": "code",
   "execution_count": 55,
   "id": "26a4cacd",
   "metadata": {},
   "outputs": [
    {
     "name": "stdout",
     "output_type": "stream",
     "text": [
      "enter your acc number:123\n",
      "enter your title:Zeeh\n",
      "enter your acc number:234\n",
      "enter your title:usman\n",
      "enter your acc number:35\n",
      "enter your title:ali \n",
      "enter your acc number:45\n",
      "enter your title:hasan\n"
     ]
    }
   ],
   "source": [
    "dic = {}\n",
    "for i in range(1,5):\n",
    "    n = int(input(\"enter your acc number:\"))\n",
    "    t = input(\"enter your title:\")\n",
    "    dic[n] = t"
   ]
  },
  {
   "cell_type": "code",
   "execution_count": 56,
   "id": "c875cdaf",
   "metadata": {},
   "outputs": [
    {
     "data": {
      "text/plain": [
       "{123: 'Zeeh', 234: 'usman', 35: 'ali ', 45: 'hasan'}"
      ]
     },
     "execution_count": 56,
     "metadata": {},
     "output_type": "execute_result"
    }
   ],
   "source": [
    "dic"
   ]
  },
  {
   "cell_type": "code",
   "execution_count": null,
   "id": "9fc86e70",
   "metadata": {},
   "outputs": [],
   "source": []
  }
 ],
 "metadata": {
  "kernelspec": {
   "display_name": "Python 3 (ipykernel)",
   "language": "python",
   "name": "python3"
  },
  "language_info": {
   "codemirror_mode": {
    "name": "ipython",
    "version": 3
   },
   "file_extension": ".py",
   "mimetype": "text/x-python",
   "name": "python",
   "nbconvert_exporter": "python",
   "pygments_lexer": "ipython3",
   "version": "3.11.5"
  }
 },
 "nbformat": 4,
 "nbformat_minor": 5
}
