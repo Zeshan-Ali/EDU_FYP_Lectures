{
 "cells": [
  {
   "cell_type": "code",
   "execution_count": 1,
   "id": "b8327445",
   "metadata": {},
   "outputs": [],
   "source": [
    "a=8\n",
    "b=19"
   ]
  },
  {
   "cell_type": "code",
   "execution_count": 2,
   "id": "0dc0e368",
   "metadata": {},
   "outputs": [
    {
     "data": {
      "text/plain": [
       "8"
      ]
     },
     "execution_count": 2,
     "metadata": {},
     "output_type": "execute_result"
    }
   ],
   "source": [
    "a"
   ]
  },
  {
   "cell_type": "code",
   "execution_count": 3,
   "id": "e0647b1e",
   "metadata": {},
   "outputs": [
    {
     "data": {
      "text/plain": [
       "19"
      ]
     },
     "execution_count": 3,
     "metadata": {},
     "output_type": "execute_result"
    }
   ],
   "source": [
    "b"
   ]
  },
  {
   "cell_type": "code",
   "execution_count": 37,
   "id": "a3ff03b1",
   "metadata": {},
   "outputs": [],
   "source": [
    "name = open(\"name.txt\",\"w\")\n",
    "name.write(\"nai\")\n",
    "name.write(\"yyyyy\")\n",
    "name.write('kkkkk')\n",
    "\n",
    "name.close()"
   ]
  },
  {
   "cell_type": "code",
   "execution_count": 44,
   "id": "cdf218e4",
   "metadata": {},
   "outputs": [],
   "source": [
    "students = open(\"students.csv\",\"a\")\n",
    "students.write(\"4,ukkasha,14\")\n",
    "students.close()"
   ]
  },
  {
   "cell_type": "code",
   "execution_count": 45,
   "id": "7cf8e540",
   "metadata": {},
   "outputs": [
    {
     "name": "stdout",
     "output_type": "stream",
     "text": [
      "rollNo,name,class\n",
      "\n",
      "1,ali,12\n",
      "\n",
      "2,ahmad,13\n",
      "\n",
      "3,usman,64,ukkasha,144,ukkasha,14\n"
     ]
    }
   ],
   "source": [
    "stu = open(\"students.csv\",\"r\")\n",
    "for i in stu:\n",
    "    print(i)\n",
    "stu.close()"
   ]
  },
  {
   "cell_type": "code",
   "execution_count": null,
   "id": "c3c8f2ff",
   "metadata": {},
   "outputs": [],
   "source": []
  }
 ],
 "metadata": {
  "kernelspec": {
   "display_name": "Python 3 (ipykernel)",
   "language": "python",
   "name": "python3"
  },
  "language_info": {
   "codemirror_mode": {
    "name": "ipython",
    "version": 3
   },
   "file_extension": ".py",
   "mimetype": "text/x-python",
   "name": "python",
   "nbconvert_exporter": "python",
   "pygments_lexer": "ipython3",
   "version": "3.11.5"
  }
 },
 "nbformat": 4,
 "nbformat_minor": 5
}
