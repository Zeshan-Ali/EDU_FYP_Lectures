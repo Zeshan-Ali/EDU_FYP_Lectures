{
 "cells": [
  {
   "cell_type": "code",
   "execution_count": 71,
   "id": "d62c2e5b",
   "metadata": {},
   "outputs": [],
   "source": [
    "class student:\n",
    "    def __init__(self,math,phy,chem,urdu,eng):\n",
    "        self.math=math\n",
    "        self.phy=phy\n",
    "        self.chem=chem\n",
    "        self.urdu=urdu\n",
    "        self.eng=eng\n",
    "\n",
    "    def calculate_total(self):\n",
    "        self.total= self.math + self.phy+self.chem+self.urdu+self.eng\n",
    "        return self.total\n",
    "    \n",
    "    def calculate_perc(self,total):\n",
    "        total_marks = 500\n",
    "        self.perce = (self.total/total_marks) * 100\n",
    "        return self.perce\n",
    "    def calculate_grade(self,perce):\n",
    "        self.g=''\n",
    "        if(self.perce > 80):\n",
    "            self.g='A'\n",
    "            #print(\"your grade is A\")\n",
    "        elif (self.perce > 70):\n",
    "            self.g='B'\n",
    "            #print(\"your grade is B\")\n",
    "        elif (self.perce > 60):\n",
    "            self.g='C'\n",
    "            #print(\"your grade is C\")\n",
    "        elif (perce > 50):\n",
    "            self.g='D'\n",
    "            #print(\"your grade is D\")\n",
    "        elif (self.perce > 40):\n",
    "            self.g='E'\n",
    "            #print(\"your grade is E\")\n",
    "        else:\n",
    "            self.g='F'\n",
    "            #print(\"your Grade is F\")\n",
    "        return self.g"
   ]
  },
  {
   "cell_type": "code",
   "execution_count": 75,
   "id": "5e38685e",
   "metadata": {},
   "outputs": [
    {
     "name": "stdout",
     "output_type": "stream",
     "text": [
      "your grade is: C\n"
     ]
    }
   ],
   "source": [
    "s1 = student(45,87,60,67,56)\n",
    "total = s1.calculate_total()\n",
    "p = s1.calculate_perc(total)\n",
    "g=s1.calculate_grade(p)\n",
    "print(\"your grade is:\",g)"
   ]
  },
  {
   "cell_type": "code",
   "execution_count": 76,
   "id": "3e4705a9",
   "metadata": {},
   "outputs": [
    {
     "name": "stdout",
     "output_type": "stream",
     "text": [
      "you total marks is : 388\n",
      "you percetnage is : 77.60000000000001\n",
      "your grade is: B\n"
     ]
    }
   ],
   "source": [
    "s2 = student(78,87,80,87,56)\n",
    "total = s2.calculate_total()\n",
    "print(\"you total marks is :\",total)\n",
    "p = s2.calculate_perc(total)\n",
    "print(\"you percetnage is :\",p)\n",
    "g=s2.calculate_grade(p)\n",
    "\n",
    "print(\"your grade is:\",g)"
   ]
  },
  {
   "cell_type": "code",
   "execution_count": 77,
   "id": "c1059dd3",
   "metadata": {},
   "outputs": [],
   "source": [
    "students = {\"phy\":67,\"chem\":68,\"math\":45,\"eng\":78,\"urdu\":78}"
   ]
  },
  {
   "cell_type": "code",
   "execution_count": 78,
   "id": "198381fc",
   "metadata": {},
   "outputs": [
    {
     "data": {
      "text/plain": [
       "dict_keys(['phy', 'chem', 'math', 'eng', 'urdu'])"
      ]
     },
     "execution_count": 78,
     "metadata": {},
     "output_type": "execute_result"
    }
   ],
   "source": [
    "students.keys()"
   ]
  },
  {
   "cell_type": "code",
   "execution_count": 79,
   "id": "8c854b26",
   "metadata": {},
   "outputs": [
    {
     "data": {
      "text/plain": [
       "dict_values([67, 68, 45, 78, 78])"
      ]
     },
     "execution_count": 79,
     "metadata": {},
     "output_type": "execute_result"
    }
   ],
   "source": [
    "students.values()"
   ]
  },
  {
   "cell_type": "code",
   "execution_count": 80,
   "id": "3b1e6baa",
   "metadata": {},
   "outputs": [
    {
     "data": {
      "text/plain": [
       "67"
      ]
     },
     "execution_count": 80,
     "metadata": {},
     "output_type": "execute_result"
    }
   ],
   "source": [
    "students[\"phy\"]"
   ]
  },
  {
   "cell_type": "code",
   "execution_count": null,
   "id": "eda902c0",
   "metadata": {},
   "outputs": [],
   "source": []
  },
  {
   "cell_type": "code",
   "execution_count": null,
   "id": "8c6e21e6",
   "metadata": {},
   "outputs": [],
   "source": []
  },
  {
   "cell_type": "code",
   "execution_count": 90,
   "id": "b63788c8",
   "metadata": {},
   "outputs": [],
   "source": [
    "class Students:\n",
    "    def __init__(self, marks):\n",
    "        self.math = marks[0]\n",
    "        self.phy = marks[1]\n",
    "        self.chem = marks[2]\n",
    "        self.urdu = marks[3]\n",
    "        self.eng = marks[4]\n",
    "\n",
    "    def calculate_total(self):\n",
    "        self.total = self.math + self.phy + self.chem + self.urdu + self.eng\n",
    "        return self.total\n",
    "\n",
    "    def calculate_perc(self):\n",
    "        total_marks = 500\n",
    "        self.perce = (self.total / total_marks) * 100\n",
    "        return self.perce\n",
    "\n",
    "    def calculate_grade(self):\n",
    "        self.g = ''\n",
    "        if self.perce > 80:\n",
    "            self.g = 'A'\n",
    "        elif self.perce > 70:\n",
    "            self.g = 'B'\n",
    "        elif self.perce > 60:\n",
    "            self.g = 'C'\n",
    "        elif self.perce > 50:\n",
    "            self.g = 'D'\n",
    "        elif self.perce > 40:\n",
    "            self.g = 'E'\n",
    "        else:\n",
    "            self.g = 'F'\n",
    "        return self.g\n"
   ]
  },
  {
   "cell_type": "code",
   "execution_count": 93,
   "id": "974f912f",
   "metadata": {},
   "outputs": [
    {
     "name": "stdout",
     "output_type": "stream",
     "text": [
      "Total: 416, Percentage: 83.2, Grade: A\n"
     ]
    }
   ],
   "source": [
    "marks = [85, 78, 90, 75, 88]\n",
    "student1 = Students(marks)\n",
    "total = student1.calculate_total()\n",
    "perc = student1.calculate_perc()\n",
    "grade = student1.calculate_grade()\n",
    "\n",
    "print(f\"Total: {total}, Percentage: {perc}, Grade: {grade}\")\n"
   ]
  },
  {
   "cell_type": "code",
   "execution_count": null,
   "id": "eacc24b2",
   "metadata": {},
   "outputs": [],
   "source": []
  },
  {
   "cell_type": "code",
   "execution_count": null,
   "id": "f262e3fe",
   "metadata": {},
   "outputs": [],
   "source": []
  }
 ],
 "metadata": {
  "kernelspec": {
   "display_name": "Python 3 (ipykernel)",
   "language": "python",
   "name": "python3"
  },
  "language_info": {
   "codemirror_mode": {
    "name": "ipython",
    "version": 3
   },
   "file_extension": ".py",
   "mimetype": "text/x-python",
   "name": "python",
   "nbconvert_exporter": "python",
   "pygments_lexer": "ipython3",
   "version": "3.11.5"
  }
 },
 "nbformat": 4,
 "nbformat_minor": 5
}
