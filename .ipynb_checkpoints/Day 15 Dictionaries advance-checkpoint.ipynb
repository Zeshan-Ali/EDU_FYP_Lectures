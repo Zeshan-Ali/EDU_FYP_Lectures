{
 "cells": [
  {
   "cell_type": "code",
   "execution_count": 59,
   "id": "1efee01a",
   "metadata": {},
   "outputs": [
    {
     "name": "stdout",
     "output_type": "stream",
     "text": [
      "enter 1 for add detail:\n",
      " , Enter 2 for see detail : 2\n",
      "{'ahmad': '282882', 'rizan': '45678', 'raja': '288292', 'addel': '282982', 'raheel': '299292', 'hamid': '287282', 'ahsana': '2892892', 'akasha': '29292', 'ahamd': '3983983', 'anas': '93839839', 'kamran': '93839839', 'hashir': '91898'}\n"
     ]
    }
   ],
   "source": [
    "def add_acc():\n",
    "    title = input(\"Enter account tilte:\")\n",
    "    with open(\"account_title3.txt\", \"a\") as at:\n",
    "        at.writelines(f\"{title}\\n\")\n",
    "    acc_number = int(input(\"Emter Account number\"))\n",
    "    with open(\"account_number3.txt\",\"a\") as an:\n",
    "        an.writelines(f\"{acc_number}\\n\")\n",
    "def merging():   \n",
    "    with open(\"account_title3.txt\", \"r\") as ad:\n",
    "        tt=ad.readlines()\n",
    "        tt = [x.strip() for x in tt]\n",
    "    with open(\"account_number3.txt\",\"r\") as af:\n",
    "        nn=af.readlines()\n",
    "        nn = [x.strip() for x in nn]\n",
    "    a=len(tt)\n",
    "    b=len(nn)\n",
    "\n",
    "    merged ={}\n",
    "    if a == b:\n",
    "        for i in range(0,a):\n",
    "            merged[tt[i]] = nn[i]\n",
    "        \n",
    "    else:\n",
    "        if a>b:\n",
    "            with open(\"account_number3.txt\",\"a\") as an:\n",
    "                an.writelines(f\"{acc_number}\\n\")\n",
    "        else:\n",
    "            with open(\"account_title3.txt\", \"a\") as at:\n",
    "                at.writelines(f\"{title}\\n\")\n",
    "\n",
    "    print(merged)\n",
    "    \n",
    "choice= input(\"enter 1 for add detail:\\n , Enter 2 for see detail : \")\n",
    "if choice == \"1\":\n",
    "    add_acc()\n",
    "elif choice == \"2\":\n",
    "    merging()\n",
    "else:\n",
    "    print(\"invalid choice\")\n"
   ]
  },
  {
   "cell_type": "code",
   "execution_count": null,
   "id": "e03762fb",
   "metadata": {},
   "outputs": [],
   "source": []
  },
  {
   "cell_type": "code",
   "execution_count": 34,
   "id": "a7e6e4f7",
   "metadata": {},
   "outputs": [
    {
     "data": {
      "text/plain": [
       "{'zeesha\\n': '288228\\n',\n",
       " 'zeeshan\\n': '878728\\n',\n",
       " 'yasir\\n': '3773837\\n',\n",
       " 'ahmad\\n': '878728\\n',\n",
       " 'ahhah\\n': '27272\\n',\n",
       " 'hamza\\n': '28928928\\n',\n",
       " 'ramzan\\n': '373873873\\n',\n",
       " 'sohail': '2772272'}"
      ]
     },
     "execution_count": 34,
     "metadata": {},
     "output_type": "execute_result"
    }
   ],
   "source": [
    "merged"
   ]
  },
  {
   "cell_type": "code",
   "execution_count": 26,
   "id": "b987f1b3",
   "metadata": {},
   "outputs": [],
   "source": [
    "student_data = {\"roll_Num\":1,\"First_name\":\"zeshan Ali\",\"address\":\"fsd\"}"
   ]
  },
  {
   "cell_type": "code",
   "execution_count": 4,
   "id": "06e42f5f",
   "metadata": {},
   "outputs": [
    {
     "data": {
      "text/plain": [
       "{'roll_Num': 1, 'First_name': 'zeshan Ali', 'address': 'fsd'}"
      ]
     },
     "execution_count": 4,
     "metadata": {},
     "output_type": "execute_result"
    }
   ],
   "source": [
    "student_data"
   ]
  },
  {
   "cell_type": "code",
   "execution_count": 5,
   "id": "a794f3cd",
   "metadata": {},
   "outputs": [
    {
     "data": {
      "text/plain": [
       "dict_values([1, 'zeshan Ali', 'fsd'])"
      ]
     },
     "execution_count": 5,
     "metadata": {},
     "output_type": "execute_result"
    }
   ],
   "source": [
    "student_data.values()"
   ]
  },
  {
   "cell_type": "code",
   "execution_count": 7,
   "id": "fc405478",
   "metadata": {},
   "outputs": [
    {
     "data": {
      "text/plain": [
       "dict_keys(['roll_Num', 'First_name', 'address'])"
      ]
     },
     "execution_count": 7,
     "metadata": {},
     "output_type": "execute_result"
    }
   ],
   "source": [
    "student_data.keys()"
   ]
  },
  {
   "cell_type": "code",
   "execution_count": 8,
   "id": "2666f839",
   "metadata": {},
   "outputs": [
    {
     "data": {
      "text/plain": [
       "dict_items([('roll_Num', 1), ('First_name', 'zeshan Ali'), ('address', 'fsd')])"
      ]
     },
     "execution_count": 8,
     "metadata": {},
     "output_type": "execute_result"
    }
   ],
   "source": [
    "student_data.items()"
   ]
  },
  {
   "cell_type": "code",
   "execution_count": 15,
   "id": "ad98ff07",
   "metadata": {},
   "outputs": [
    {
     "name": "stdout",
     "output_type": "stream",
     "text": [
      "1\n",
      "roll_Num\n",
      "zeshan Ali\n",
      "First_name\n",
      "fsd\n",
      "address\n"
     ]
    }
   ],
   "source": [
    "for v,k in student_data.items():\n",
    "    print(k)\n",
    "    print(v)"
   ]
  },
  {
   "cell_type": "code",
   "execution_count": 11,
   "id": "0d8f608b",
   "metadata": {},
   "outputs": [
    {
     "name": "stdout",
     "output_type": "stream",
     "text": [
      "1\n",
      "zeshan Ali\n",
      "fsd\n"
     ]
    }
   ],
   "source": [
    "for k,v in student_data.items():\n",
    "    print(v)"
   ]
  },
  {
   "cell_type": "code",
   "execution_count": 12,
   "id": "3bf7c418",
   "metadata": {},
   "outputs": [
    {
     "name": "stdout",
     "output_type": "stream",
     "text": [
      "roll_Num\n",
      "First_name\n",
      "address\n"
     ]
    }
   ],
   "source": [
    "for k in student_data.keys():\n",
    "    print(k)"
   ]
  },
  {
   "cell_type": "code",
   "execution_count": 13,
   "id": "d4c042bd",
   "metadata": {},
   "outputs": [
    {
     "name": "stdout",
     "output_type": "stream",
     "text": [
      "1\n",
      "zeshan Ali\n",
      "fsd\n"
     ]
    }
   ],
   "source": [
    "for v in student_data.values():\n",
    "    print(v)"
   ]
  },
  {
   "cell_type": "code",
   "execution_count": 17,
   "id": "262e296d",
   "metadata": {},
   "outputs": [
    {
     "data": {
      "text/plain": [
       "9"
      ]
     },
     "execution_count": 17,
     "metadata": {},
     "output_type": "execute_result"
    }
   ],
   "source": [
    "len(\"title3.xt\")"
   ]
  },
  {
   "cell_type": "code",
   "execution_count": 18,
   "id": "fb26bdf7",
   "metadata": {},
   "outputs": [
    {
     "data": {
      "text/plain": [
       "7"
      ]
     },
     "execution_count": 18,
     "metadata": {},
     "output_type": "execute_result"
    }
   ],
   "source": [
    "len(\"zeeshan\")"
   ]
  },
  {
   "cell_type": "code",
   "execution_count": 19,
   "id": "8f42be2f",
   "metadata": {},
   "outputs": [
    {
     "data": {
      "text/plain": [
       "11"
      ]
     },
     "execution_count": 19,
     "metadata": {},
     "output_type": "execute_result"
    }
   ],
   "source": [
    "len(\"zzeshan.txt\")"
   ]
  },
  {
   "cell_type": "code",
   "execution_count": 20,
   "id": "5250b832",
   "metadata": {},
   "outputs": [],
   "source": [
    "add_file=\"account_title3.txt\"+\"account_number3.txt\""
   ]
  },
  {
   "cell_type": "code",
   "execution_count": 21,
   "id": "3ef53835",
   "metadata": {},
   "outputs": [
    {
     "data": {
      "text/plain": [
       "'account_title3.txtaccount_number3.txt'"
      ]
     },
     "execution_count": 21,
     "metadata": {},
     "output_type": "execute_result"
    }
   ],
   "source": [
    "add_file"
   ]
  },
  {
   "cell_type": "code",
   "execution_count": null,
   "id": "eb2b46ed",
   "metadata": {},
   "outputs": [],
   "source": []
  }
 ],
 "metadata": {
  "kernelspec": {
   "display_name": "Python 3 (ipykernel)",
   "language": "python",
   "name": "python3"
  },
  "language_info": {
   "codemirror_mode": {
    "name": "ipython",
    "version": 3
   },
   "file_extension": ".py",
   "mimetype": "text/x-python",
   "name": "python",
   "nbconvert_exporter": "python",
   "pygments_lexer": "ipython3",
   "version": "3.11.5"
  }
 },
 "nbformat": 4,
 "nbformat_minor": 5
}
