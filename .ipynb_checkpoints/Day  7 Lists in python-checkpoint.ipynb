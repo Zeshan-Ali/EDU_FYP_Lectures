{
 "cells": [
  {
   "cell_type": "markdown",
   "id": "5f2eb9cc",
   "metadata": {},
   "source": [
    "# Data Structures in Python \n",
    "Data structues are memeory structures that stores data in different ways and are helpful in Data manipulation in different Problems\n",
    "> in python we have four data structurres mainly\n",
    "1. Lists \n",
    "2. Tuple\n",
    "3. Dictionary\n",
    "4. Set\n",
    "> the can be devided in to mutable and un mutable "
   ]
  },
  {
   "cell_type": "markdown",
   "id": "7b635461",
   "metadata": {},
   "source": [
    "# Lists  []\n",
    "its just like adn array, all the elements of lists are changaeble, and they are accesssed by their indexes, index start from 0 from left side."
   ]
  },
  {
   "cell_type": "code",
   "execution_count": 4,
   "id": "c0e0f8d3",
   "metadata": {},
   "outputs": [],
   "source": [
    "fruits = ['magoes','bananas','guava',34,7,8.9]"
   ]
  },
  {
   "cell_type": "code",
   "execution_count": 5,
   "id": "20aa7e00",
   "metadata": {},
   "outputs": [
    {
     "data": {
      "text/plain": [
       "['magoes', 'bananas', 'guava', 34, 7, 8.9]"
      ]
     },
     "execution_count": 5,
     "metadata": {},
     "output_type": "execute_result"
    }
   ],
   "source": [
    "fruits"
   ]
  },
  {
   "cell_type": "code",
   "execution_count": 3,
   "id": "9d7dd2ee",
   "metadata": {},
   "outputs": [
    {
     "data": {
      "text/plain": [
       "list"
      ]
     },
     "execution_count": 3,
     "metadata": {},
     "output_type": "execute_result"
    }
   ],
   "source": [
    "type(fruits)"
   ]
  },
  {
   "cell_type": "code",
   "execution_count": 6,
   "id": "662594ec",
   "metadata": {},
   "outputs": [],
   "source": [
    "guests = []"
   ]
  },
  {
   "cell_type": "code",
   "execution_count": 7,
   "id": "791b6b02",
   "metadata": {},
   "outputs": [
    {
     "data": {
      "text/plain": [
       "[]"
      ]
     },
     "execution_count": 7,
     "metadata": {},
     "output_type": "execute_result"
    }
   ],
   "source": [
    "guests"
   ]
  },
  {
   "cell_type": "code",
   "execution_count": 8,
   "id": "85115a22",
   "metadata": {},
   "outputs": [],
   "source": [
    "scores = [12,23,45,7,78]"
   ]
  },
  {
   "cell_type": "code",
   "execution_count": 12,
   "id": "ed36c331",
   "metadata": {},
   "outputs": [
    {
     "name": "stdout",
     "output_type": "stream",
     "text": [
      "45\n"
     ]
    }
   ],
   "source": [
    "print(scores[2])"
   ]
  },
  {
   "cell_type": "code",
   "execution_count": 16,
   "id": "9abbc2a6",
   "metadata": {},
   "outputs": [
    {
     "name": "stdout",
     "output_type": "stream",
     "text": [
      "12\n",
      "78\n"
     ]
    }
   ],
   "source": [
    "for i in scores:\n",
    "    if i%2==0:\n",
    "        print(i)"
   ]
  },
  {
   "cell_type": "code",
   "execution_count": 15,
   "id": "d2b75781",
   "metadata": {},
   "outputs": [
    {
     "data": {
      "text/plain": [
       "[12, 23, 45, 7, 78]"
      ]
     },
     "execution_count": 15,
     "metadata": {},
     "output_type": "execute_result"
    }
   ],
   "source": [
    "scores"
   ]
  },
  {
   "cell_type": "code",
   "execution_count": 17,
   "id": "be6cc974",
   "metadata": {},
   "outputs": [
    {
     "data": {
      "text/plain": [
       "5"
      ]
     },
     "execution_count": 17,
     "metadata": {},
     "output_type": "execute_result"
    }
   ],
   "source": [
    "len(scores)"
   ]
  },
  {
   "cell_type": "code",
   "execution_count": 18,
   "id": "43057f81",
   "metadata": {},
   "outputs": [
    {
     "data": {
      "text/plain": [
       "23"
      ]
     },
     "execution_count": 18,
     "metadata": {},
     "output_type": "execute_result"
    }
   ],
   "source": [
    "scores[1]"
   ]
  },
  {
   "cell_type": "code",
   "execution_count": 20,
   "id": "fdf1e9f5",
   "metadata": {},
   "outputs": [
    {
     "data": {
      "text/plain": [
       "7"
      ]
     },
     "execution_count": 20,
     "metadata": {},
     "output_type": "execute_result"
    }
   ],
   "source": [
    "scores[-2]"
   ]
  },
  {
   "cell_type": "code",
   "execution_count": 21,
   "id": "2005ecd2",
   "metadata": {},
   "outputs": [],
   "source": [
    "scores[0]='new value'  #updating current element of list"
   ]
  },
  {
   "cell_type": "code",
   "execution_count": 22,
   "id": "2cd19c11",
   "metadata": {},
   "outputs": [
    {
     "data": {
      "text/plain": [
       "['new value', 23, 45, 7, 78]"
      ]
     },
     "execution_count": 22,
     "metadata": {},
     "output_type": "execute_result"
    }
   ],
   "source": [
    "scores"
   ]
  },
  {
   "cell_type": "code",
   "execution_count": 26,
   "id": "4b439eeb",
   "metadata": {},
   "outputs": [],
   "source": [
    "scores.append(67)  # adding new element , append function always put added element at last of list"
   ]
  },
  {
   "cell_type": "code",
   "execution_count": null,
   "id": "dba530cd",
   "metadata": {},
   "outputs": [],
   "source": []
  },
  {
   "cell_type": "code",
   "execution_count": 27,
   "id": "a589f138",
   "metadata": {},
   "outputs": [
    {
     "data": {
      "text/plain": [
       "['new value', 23, 45, 7, 78, 67, 67]"
      ]
     },
     "execution_count": 27,
     "metadata": {},
     "output_type": "execute_result"
    }
   ],
   "source": [
    "scores"
   ]
  },
  {
   "cell_type": "code",
   "execution_count": 30,
   "id": "53044eb0",
   "metadata": {},
   "outputs": [],
   "source": [
    "scores.remove(67) # removing element from list"
   ]
  },
  {
   "cell_type": "code",
   "execution_count": 31,
   "id": "1c3e2427",
   "metadata": {},
   "outputs": [
    {
     "data": {
      "text/plain": [
       "['new value', 23, 45, 7, 78]"
      ]
     },
     "execution_count": 31,
     "metadata": {},
     "output_type": "execute_result"
    }
   ],
   "source": [
    "scores"
   ]
  },
  {
   "cell_type": "code",
   "execution_count": 32,
   "id": "432e835d",
   "metadata": {},
   "outputs": [],
   "source": [
    "del scores[0]"
   ]
  },
  {
   "cell_type": "code",
   "execution_count": 33,
   "id": "455f4312",
   "metadata": {},
   "outputs": [
    {
     "data": {
      "text/plain": [
       "[23, 45, 7, 78]"
      ]
     },
     "execution_count": 33,
     "metadata": {},
     "output_type": "execute_result"
    }
   ],
   "source": [
    "scores"
   ]
  },
  {
   "cell_type": "code",
   "execution_count": 34,
   "id": "a526f70b",
   "metadata": {},
   "outputs": [],
   "source": [
    "scores[0]=24"
   ]
  },
  {
   "cell_type": "code",
   "execution_count": 35,
   "id": "0021a908",
   "metadata": {},
   "outputs": [
    {
     "data": {
      "text/plain": [
       "[24, 45, 7, 78]"
      ]
     },
     "execution_count": 35,
     "metadata": {},
     "output_type": "execute_result"
    }
   ],
   "source": [
    "scores"
   ]
  },
  {
   "cell_type": "code",
   "execution_count": null,
   "id": "884139d6",
   "metadata": {},
   "outputs": [],
   "source": []
  }
 ],
 "metadata": {
  "kernelspec": {
   "display_name": "Python 3 (ipykernel)",
   "language": "python",
   "name": "python3"
  },
  "language_info": {
   "codemirror_mode": {
    "name": "ipython",
    "version": 3
   },
   "file_extension": ".py",
   "mimetype": "text/x-python",
   "name": "python",
   "nbconvert_exporter": "python",
   "pygments_lexer": "ipython3",
   "version": "3.11.5"
  }
 },
 "nbformat": 4,
 "nbformat_minor": 5
}
