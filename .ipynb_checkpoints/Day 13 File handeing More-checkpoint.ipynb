{
 "cells": [
  {
   "cell_type": "code",
   "execution_count": 48,
   "id": "4f343b9c",
   "metadata": {},
   "outputs": [
    {
     "name": "stdout",
     "output_type": "stream",
     "text": [
      "enter \n",
      " 1:for add task \n",
      " 2:for view task \n",
      " 3:for delete task \n",
      " 4:Exit \n",
      "2\n",
      "there is no file first you should add some tasks for viewing\n",
      "enter \n",
      " 1:for add task \n",
      " 2:for view task \n",
      " 3:for delete task \n",
      " 4:Exit \n",
      "1\n",
      "enter your task:helo\n",
      "enter \n",
      " 1:for add task \n",
      " 2:for view task \n",
      " 3:for delete task \n",
      " 4:Exit \n",
      "2\n",
      "helo\n",
      "enter \n",
      " 1:for add task \n",
      " 2:for view task \n",
      " 3:for delete task \n",
      " 4:Exit \n",
      "4\n"
     ]
    }
   ],
   "source": [
    "def add_task():\n",
    "    with open(\"tasks.txt\",\"a\") as at:\n",
    "        t = input(\"enter your task:\")\n",
    "        at.write(f\"{t}\\n\")\n",
    "    #second fil\n",
    "def read_task():\n",
    "    try:\n",
    "        with open(\"tasks.txt\",\"r\") as rf:\n",
    "            contents = rf.readlines()\n",
    "            for i in contents:\n",
    "                print(i.strip())\n",
    "    except:\n",
    "        print(\"there is no file first you should add some tasks for viewing\")\n",
    "def del_task():\n",
    "    with open(\"tasks.txt\",\"r\") as dt:\n",
    "        tn= int(input(\"enter the task number that you want to delete:\"))\n",
    "        cnt = dt.readlines()\n",
    "        cnt.pop(tn-1)\n",
    "    with open(\"tasks.txt\",\"w\") as f:\n",
    "        f.writelines(cnt)\n",
    "\n",
    "while True:\n",
    "    choice = input(\"enter \\n 1:for add task \\n 2:for view task \\n 3:for delete task \\n 4:Exit \\n\")\n",
    "    if choice == \"1\":\n",
    "        add_task()\n",
    "    elif choice == \"2\":\n",
    "        read_task()\n",
    "    elif choice == \"3\":\n",
    "        del_task()\n",
    "    elif choice == \"4\":\n",
    "        break\n",
    "    else:\n",
    "        print(\"invalid choice\")"
   ]
  },
  {
   "cell_type": "code",
   "execution_count": 13,
   "id": "4689972f",
   "metadata": {},
   "outputs": [
    {
     "name": "stdout",
     "output_type": "stream",
     "text": [
      "enter your task:3rd task\n"
     ]
    }
   ],
   "source": [
    "add_task()"
   ]
  },
  {
   "cell_type": "code",
   "execution_count": 23,
   "id": "b7e6c74b",
   "metadata": {},
   "outputs": [],
   "source": []
  },
  {
   "cell_type": "code",
   "execution_count": 24,
   "id": "f82b39c6",
   "metadata": {},
   "outputs": [
    {
     "name": "stdout",
     "output_type": "stream",
     "text": [
      "helo\n",
      "2nd task\n",
      "3rd task\n"
     ]
    }
   ],
   "source": [
    "read_task()"
   ]
  },
  {
   "cell_type": "code",
   "execution_count": 33,
   "id": "95855651",
   "metadata": {},
   "outputs": [],
   "source": []
  },
  {
   "cell_type": "code",
   "execution_count": 34,
   "id": "e4206dac",
   "metadata": {},
   "outputs": [
    {
     "name": "stdout",
     "output_type": "stream",
     "text": [
      "enter the task number that you want to delete:1\n"
     ]
    }
   ],
   "source": [
    "del_task()"
   ]
  },
  {
   "cell_type": "code",
   "execution_count": null,
   "id": "26aa6a4d",
   "metadata": {},
   "outputs": [],
   "source": [
    "while "
   ]
  },
  {
   "cell_type": "code",
   "execution_count": null,
   "id": "1603a465",
   "metadata": {},
   "outputs": [],
   "source": []
  },
  {
   "cell_type": "code",
   "execution_count": null,
   "id": "cfe42f76",
   "metadata": {},
   "outputs": [],
   "source": []
  },
  {
   "cell_type": "code",
   "execution_count": null,
   "id": "31818ca0",
   "metadata": {},
   "outputs": [],
   "source": []
  },
  {
   "cell_type": "code",
   "execution_count": null,
   "id": "0129dc90",
   "metadata": {},
   "outputs": [],
   "source": []
  },
  {
   "cell_type": "code",
   "execution_count": null,
   "id": "19bc00c0",
   "metadata": {},
   "outputs": [],
   "source": []
  },
  {
   "cell_type": "code",
   "execution_count": null,
   "id": "db81240c",
   "metadata": {},
   "outputs": [],
   "source": []
  },
  {
   "cell_type": "code",
   "execution_count": 28,
   "id": "72ac4782",
   "metadata": {},
   "outputs": [
    {
     "data": {
      "text/plain": [
       "'helo\\n'"
      ]
     },
     "execution_count": 28,
     "metadata": {},
     "output_type": "execute_result"
    }
   ],
   "source": [
    "cont[0]"
   ]
  },
  {
   "cell_type": "code",
   "execution_count": 30,
   "id": "81f35261",
   "metadata": {},
   "outputs": [
    {
     "data": {
      "text/plain": [
       "['helo\\n', '2nd task\\n']"
      ]
     },
     "execution_count": 30,
     "metadata": {},
     "output_type": "execute_result"
    }
   ],
   "source": [
    "cont"
   ]
  },
  {
   "cell_type": "code",
   "execution_count": 29,
   "id": "ed655ea5",
   "metadata": {},
   "outputs": [
    {
     "data": {
      "text/plain": [
       "'3rd task\\n'"
      ]
     },
     "execution_count": 29,
     "metadata": {},
     "output_type": "execute_result"
    }
   ],
   "source": [
    "cont.pop(2)"
   ]
  },
  {
   "cell_type": "code",
   "execution_count": null,
   "id": "94de7981",
   "metadata": {},
   "outputs": [],
   "source": []
  },
  {
   "cell_type": "code",
   "execution_count": 25,
   "id": "06ec63c4",
   "metadata": {},
   "outputs": [],
   "source": [
    "with open(\"tasks.txt\",\"r\") as demo:\n",
    "    cont = demo.readlines()"
   ]
  },
  {
   "cell_type": "code",
   "execution_count": null,
   "id": "67320363",
   "metadata": {},
   "outputs": [],
   "source": []
  },
  {
   "cell_type": "code",
   "execution_count": null,
   "id": "9dfe1dc2",
   "metadata": {},
   "outputs": [],
   "source": []
  },
  {
   "cell_type": "code",
   "execution_count": null,
   "id": "6440ffaf",
   "metadata": {},
   "outputs": [],
   "source": []
  },
  {
   "cell_type": "code",
   "execution_count": 2,
   "id": "28b15241",
   "metadata": {},
   "outputs": [
    {
     "name": "stdout",
     "output_type": "stream",
     "text": [
      "my age is: 7 and my class is: 12\n"
     ]
    }
   ],
   "source": [
    "age=7\n",
    "clas =12 \n",
    "print(\"my age is:\",age,\"and my class is:\",clas)"
   ]
  },
  {
   "cell_type": "code",
   "execution_count": 4,
   "id": "16f9d915",
   "metadata": {},
   "outputs": [
    {
     "name": "stdout",
     "output_type": "stream",
     "text": [
      "my age is 7 and my class is 12\n"
     ]
    }
   ],
   "source": [
    "print(f\"my age is {age} and my class is {clas}\")"
   ]
  },
  {
   "cell_type": "code",
   "execution_count": null,
   "id": "c89373e9",
   "metadata": {},
   "outputs": [],
   "source": []
  }
 ],
 "metadata": {
  "kernelspec": {
   "display_name": "Python 3 (ipykernel)",
   "language": "python",
   "name": "python3"
  },
  "language_info": {
   "codemirror_mode": {
    "name": "ipython",
    "version": 3
   },
   "file_extension": ".py",
   "mimetype": "text/x-python",
   "name": "python",
   "nbconvert_exporter": "python",
   "pygments_lexer": "ipython3",
   "version": "3.11.5"
  }
 },
 "nbformat": 4,
 "nbformat_minor": 5
}
