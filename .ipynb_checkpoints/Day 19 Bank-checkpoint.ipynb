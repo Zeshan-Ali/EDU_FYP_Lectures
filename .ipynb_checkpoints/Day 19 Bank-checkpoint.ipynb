{
 "cells": [
  {
   "cell_type": "code",
   "execution_count": null,
   "id": "74b58129",
   "metadata": {},
   "outputs": [],
   "source": [
    "class bank:\n",
    "    def __init__(self,initial_balance,file_name):\n",
    "        self.balance=initial_balance\n",
    "        self.file_name = file_name+\".txt\"\n",
    "        \n",
    "        with open(file_name,\"w\") as file:\n",
    "            file.write(f\"The initial balance is:{self.balance}\\n\")\n",
    "    \n",
    "    def credit(self,amount):\n",
    "     \n",
    "        self.balance += amount\n",
    "        with open(file_name\",\"a\") as fi:\n",
    "            fi.write(f\"The amount after credit is:{amount}\\n\")\n",
    "            fi.write(f\"Balance after credit: {self.balance}\\n\")\n",
    "        return self.balance\n",
    "    def debit(self,amount):\n",
    "        if amount > self.balance:\n",
    "            print(\"Insufficient balance!\")\n",
    "            with open(file_name, \"a\") as fl:\n",
    "                fl.write(\"Debit attempt failed due to insufficient balance.\\n\")\n",
    "        else:\n",
    "            self.balance -= amount\n",
    "            with open(file_name, \"a\") as fe:\n",
    "                fe.write(f\"Debited: {amount}\\n\")\n",
    "                fe.write(f\"Balance after debit: {self.balance}\\n\")\n",
    "        return self.balance\n",
    "    def view_transactions(self):\n",
    "        print(\"Transaction History:\")\n",
    "        with open(file_name, \"r\") as file:\n",
    "            trans = file.readlines()\n",
    "        for i  in trans:\n",
    "            print(i.strip())\n"
   ]
  },
  {
   "cell_type": "code",
   "execution_count": null,
   "id": "69f2c9b7",
   "metadata": {},
   "outputs": [],
   "source": [
    "\n"
   ]
  },
  {
   "cell_type": "code",
   "execution_count": 44,
   "id": "72a36a81",
   "metadata": {},
   "outputs": [
    {
     "name": "stdout",
     "output_type": "stream",
     "text": [
      "1 Account Creation \n",
      "                2.View Current balanace\n",
      "                3.Credit  \n",
      "                4.Debit \n",
      "                5.Exit : 1\n",
      "Enter you name:ramzan\n",
      "Enter you initial balance:3233000\n",
      "ramzan\n",
      "1 Account Creation \n",
      "                2.View Current balanace\n",
      "                3.Credit  \n",
      "                4.Debit \n",
      "                5.Exit : 2\n",
      "Transaction History:\n"
     ]
    },
    {
     "ename": "FileNotFoundError",
     "evalue": "[Errno 2] No such file or directory: 'ramzan'",
     "output_type": "error",
     "traceback": [
      "\u001b[1;31m---------------------------------------------------------------------------\u001b[0m",
      "\u001b[1;31mFileNotFoundError\u001b[0m                         Traceback (most recent call last)",
      "Cell \u001b[1;32mIn[44], line 14\u001b[0m\n\u001b[0;32m     12\u001b[0m     acc \u001b[38;5;241m=\u001b[39m bank(ini_bal,f_name)\n\u001b[0;32m     13\u001b[0m \u001b[38;5;28;01melif\u001b[39;00m choice \u001b[38;5;241m==\u001b[39m \u001b[38;5;241m2\u001b[39m:\n\u001b[1;32m---> 14\u001b[0m     acc\u001b[38;5;241m.\u001b[39mview_transactions()\n\u001b[0;32m     15\u001b[0m \u001b[38;5;28;01melif\u001b[39;00m choice \u001b[38;5;241m==\u001b[39m \u001b[38;5;241m3\u001b[39m:\n\u001b[0;32m     16\u001b[0m     cr_am \u001b[38;5;241m=\u001b[39m \u001b[38;5;28mint\u001b[39m(\u001b[38;5;28minput\u001b[39m(\u001b[38;5;124m\"\u001b[39m\u001b[38;5;124menter a amount for credit:\u001b[39m\u001b[38;5;124m\"\u001b[39m))\n",
      "Cell \u001b[1;32mIn[40], line 29\u001b[0m, in \u001b[0;36mbank.view_transactions\u001b[1;34m(self)\u001b[0m\n\u001b[0;32m     27\u001b[0m \u001b[38;5;28;01mdef\u001b[39;00m \u001b[38;5;21mview_transactions\u001b[39m(\u001b[38;5;28mself\u001b[39m):\n\u001b[0;32m     28\u001b[0m     \u001b[38;5;28mprint\u001b[39m(\u001b[38;5;124m\"\u001b[39m\u001b[38;5;124mTransaction History:\u001b[39m\u001b[38;5;124m\"\u001b[39m)\n\u001b[1;32m---> 29\u001b[0m     \u001b[38;5;28;01mwith\u001b[39;00m \u001b[38;5;28mopen\u001b[39m(\u001b[38;5;28mself\u001b[39m\u001b[38;5;241m.\u001b[39mfile_name, \u001b[38;5;124m\"\u001b[39m\u001b[38;5;124mr\u001b[39m\u001b[38;5;124m\"\u001b[39m) \u001b[38;5;28;01mas\u001b[39;00m file:\n\u001b[0;32m     30\u001b[0m         trans \u001b[38;5;241m=\u001b[39m file\u001b[38;5;241m.\u001b[39mreadlines()\n\u001b[0;32m     31\u001b[0m     \u001b[38;5;28;01mfor\u001b[39;00m i  \u001b[38;5;129;01min\u001b[39;00m trans:\n",
      "File \u001b[1;32m~\\anaconda3\\Lib\\site-packages\\IPython\\core\\interactiveshell.py:286\u001b[0m, in \u001b[0;36m_modified_open\u001b[1;34m(file, *args, **kwargs)\u001b[0m\n\u001b[0;32m    279\u001b[0m \u001b[38;5;28;01mif\u001b[39;00m file \u001b[38;5;129;01min\u001b[39;00m {\u001b[38;5;241m0\u001b[39m, \u001b[38;5;241m1\u001b[39m, \u001b[38;5;241m2\u001b[39m}:\n\u001b[0;32m    280\u001b[0m     \u001b[38;5;28;01mraise\u001b[39;00m \u001b[38;5;167;01mValueError\u001b[39;00m(\n\u001b[0;32m    281\u001b[0m         \u001b[38;5;124mf\u001b[39m\u001b[38;5;124m\"\u001b[39m\u001b[38;5;124mIPython won\u001b[39m\u001b[38;5;124m'\u001b[39m\u001b[38;5;124mt let you open fd=\u001b[39m\u001b[38;5;132;01m{\u001b[39;00mfile\u001b[38;5;132;01m}\u001b[39;00m\u001b[38;5;124m by default \u001b[39m\u001b[38;5;124m\"\u001b[39m\n\u001b[0;32m    282\u001b[0m         \u001b[38;5;124m\"\u001b[39m\u001b[38;5;124mas it is likely to crash IPython. If you know what you are doing, \u001b[39m\u001b[38;5;124m\"\u001b[39m\n\u001b[0;32m    283\u001b[0m         \u001b[38;5;124m\"\u001b[39m\u001b[38;5;124myou can use builtins\u001b[39m\u001b[38;5;124m'\u001b[39m\u001b[38;5;124m open.\u001b[39m\u001b[38;5;124m\"\u001b[39m\n\u001b[0;32m    284\u001b[0m     )\n\u001b[1;32m--> 286\u001b[0m \u001b[38;5;28;01mreturn\u001b[39;00m io_open(file, \u001b[38;5;241m*\u001b[39margs, \u001b[38;5;241m*\u001b[39m\u001b[38;5;241m*\u001b[39mkwargs)\n",
      "\u001b[1;31mFileNotFoundError\u001b[0m: [Errno 2] No such file or directory: 'ramzan'"
     ]
    }
   ],
   "source": [
    "while True:\n",
    "    choice = int(input(\"\"\"1 Account Creation \n",
    "                2.View Current balanace\n",
    "                3.Credit  \n",
    "                4.Debit \n",
    "                5.Exit : \"\"\"))\n",
    "    if choice == 1:\n",
    "        name = input(\"Enter you name:\")\n",
    "        ini_bal = int(input(\"Enter you initial balance:\"))\n",
    "        f_name =name\n",
    "        #print(f_name)\n",
    "        acc = bank(ini_bal,f_name)\n",
    "    elif choice == 2:\n",
    "        acc.view_transactions()\n",
    "    elif choice == 3:\n",
    "        cr_am = int(input(\"enter a amount for credit:\"))\n",
    "        cr=acc.credit(cr_am)\n",
    "        print(\"the balance is:\",cr)\n",
    "    elif choice ==4:\n",
    "        dr_am = int(input(\"enter a amount for debit:\"))\n",
    "        dr=acc.debit(dr_am)\n",
    "        print(\"the balance is:\",dr)\n",
    "    elif choice == 5:\n",
    "        break\n",
    "    else:\n",
    "        print(\"invalid choice\")\n",
    "            "
   ]
  },
  {
   "cell_type": "code",
   "execution_count": null,
   "id": "a115e4ee",
   "metadata": {},
   "outputs": [],
   "source": []
  }
 ],
 "metadata": {
  "kernelspec": {
   "display_name": "Python 3 (ipykernel)",
   "language": "python",
   "name": "python3"
  },
  "language_info": {
   "codemirror_mode": {
    "name": "ipython",
    "version": 3
   },
   "file_extension": ".py",
   "mimetype": "text/x-python",
   "name": "python",
   "nbconvert_exporter": "python",
   "pygments_lexer": "ipython3",
   "version": "3.11.5"
  }
 },
 "nbformat": 4,
 "nbformat_minor": 5
}
