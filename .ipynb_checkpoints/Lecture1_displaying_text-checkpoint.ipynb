{
 "cells": [
  {
   "cell_type": "code",
   "execution_count": null,
   "id": "342a8eac",
   "metadata": {},
   "outputs": [],
   "source": [
    "  print(\"helo bacho ksy ho \\n ky seekha\")  "
   ]
  },
  {
   "cell_type": "code",
   "execution_count": null,
   "id": "97961e9e",
   "metadata": {},
   "outputs": [],
   "source": [
    "     print(\"helo bacho ksy ho\")"
   ]
  },
  {
   "cell_type": "code",
   "execution_count": null,
   "id": "f1712cc7",
   "metadata": {},
   "outputs": [],
   "source": [
    "print('''helo bacho ksy ho \n",
    "kya seekha             \n",
    "                    hshshs\n",
    "                                  hshshs\n",
    "                                  \n",
    "                                              hshshssh''')"
   ]
  },
  {
   "cell_type": "code",
   "execution_count": null,
   "id": "8f699577",
   "metadata": {},
   "outputs": [],
   "source": [
    "print(\"\"\"helo bacho ksy ho \n",
    "kya seekha             \n",
    "                    hshshs\n",
    "                                  hshshs\n",
    "                                  \n",
    "                                              hshshssh\"\"\")"
   ]
  },
  {
   "cell_type": "code",
   "execution_count": null,
   "id": "edbe3285",
   "metadata": {},
   "outputs": [],
   "source": [
    "print(\"it's very beautiful day out there\")"
   ]
  },
  {
   "cell_type": "code",
   "execution_count": null,
   "id": "01afce6e",
   "metadata": {},
   "outputs": [],
   "source": [
    "print(\"my country name is\",\"Pakistan\")"
   ]
  },
  {
   "cell_type": "code",
   "execution_count": null,
   "id": "39acdc4d",
   "metadata": {},
   "outputs": [],
   "source": [
    "a  = 12"
   ]
  },
  {
   "cell_type": "code",
   "execution_count": null,
   "id": "5e190505",
   "metadata": {},
   "outputs": [],
   "source": [
    "type(a)     "
   ]
  },
  {
   "cell_type": "code",
   "execution_count": null,
   "id": "df4e1fa2",
   "metadata": {},
   "outputs": [],
   "source": [
    "print(a)"
   ]
  },
  {
   "cell_type": "code",
   "execution_count": null,
   "id": "dc4edc16",
   "metadata": {},
   "outputs": [],
   "source": [
    "print(\"halleo \\n \",'ksy ho \\n jj ', \"\"\"jnab \n",
    "jj\"\"\")"
   ]
  },
  {
   "cell_type": "code",
   "execution_count": null,
   "id": "abaa6379",
   "metadata": {},
   "outputs": [],
   "source": [
    "msg = "
   ]
  },
  {
   "cell_type": "code",
   "execution_count": 2,
   "id": "a0fae44a",
   "metadata": {},
   "outputs": [
    {
     "name": "stdout",
     "output_type": "stream",
     "text": [
      "msg\n"
     ]
    }
   ],
   "source": [
    "print('msg')"
   ]
  },
  {
   "cell_type": "code",
   "execution_count": 14,
   "id": "58d34c1e",
   "metadata": {},
   "outputs": [],
   "source": [
    "age =12\n",
    "age_plus_2= age*2"
   ]
  },
  {
   "cell_type": "code",
   "execution_count": 15,
   "id": "2036a8af",
   "metadata": {},
   "outputs": [
    {
     "name": "stdout",
     "output_type": "stream",
     "text": [
      "the age is : 12 years old the doubel age is: 24\n"
     ]
    }
   ],
   "source": [
    "print(\"the age is :\", age,\"years old\",\"the doubel age is:\",age_plus_2)"
   ]
  },
  {
   "cell_type": "code",
   "execution_count": null,
   "id": "edff46cd",
   "metadata": {},
   "outputs": [],
   "source": []
  }
 ],
 "metadata": {
  "kernelspec": {
   "display_name": "Python 3 (ipykernel)",
   "language": "python",
   "name": "python3"
  },
  "language_info": {
   "codemirror_mode": {
    "name": "ipython",
    "version": 3
   },
   "file_extension": ".py",
   "mimetype": "text/x-python",
   "name": "python",
   "nbconvert_exporter": "python",
   "pygments_lexer": "ipython3",
   "version": "3.11.5"
  }
 },
 "nbformat": 4,
 "nbformat_minor": 5
}
