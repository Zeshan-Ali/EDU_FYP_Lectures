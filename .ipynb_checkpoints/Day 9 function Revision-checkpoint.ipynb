{
 "cells": [
  {
   "cell_type": "code",
   "execution_count": null,
   "id": "41b18a79",
   "metadata": {},
   "outputs": [],
   "source": [
    "def square(number):\n",
    "    \n",
    "    sq = number * number\n",
    "    return sq\n"
   ]
  },
  {
   "cell_type": "code",
   "execution_count": null,
   "id": "f21d1631",
   "metadata": {},
   "outputs": [],
   "source": [
    "n = int(input(\"entetr a number:\"))\n",
    "sq_of_three = square(n)\n",
    "print(sq_of_three)"
   ]
  },
  {
   "cell_type": "code",
   "execution_count": null,
   "id": "0a0ca7e9",
   "metadata": {},
   "outputs": [],
   "source": [
    "def square_2(number):\n",
    "    sq = number * number\n",
    "    print(sq)"
   ]
  },
  {
   "cell_type": "code",
   "execution_count": null,
   "id": "70b605bb",
   "metadata": {},
   "outputs": [],
   "source": [
    "square_2(3)"
   ]
  },
  {
   "cell_type": "code",
   "execution_count": null,
   "id": "13d6adc3",
   "metadata": {},
   "outputs": [],
   "source": [
    "def square_3():\n",
    "    num = int(input(\"Enter a number:\"))\n",
    "    s = num*num\n",
    "    print(\"the square is:\",s)"
   ]
  },
  {
   "cell_type": "code",
   "execution_count": null,
   "id": "8d5060b4",
   "metadata": {},
   "outputs": [],
   "source": [
    "square_3()"
   ]
  },
  {
   "cell_type": "code",
   "execution_count": null,
   "id": "bba0f048",
   "metadata": {},
   "outputs": [],
   "source": [
    "prices = [12,3,6]"
   ]
  },
  {
   "cell_type": "code",
   "execution_count": null,
   "id": "ca737c8f",
   "metadata": {},
   "outputs": [],
   "source": [
    "ages = list()"
   ]
  },
  {
   "cell_type": "code",
   "execution_count": null,
   "id": "ad8b8f87",
   "metadata": {},
   "outputs": [],
   "source": [
    "type(ages)"
   ]
  },
  {
   "cell_type": "code",
   "execution_count": null,
   "id": "e514d721",
   "metadata": {},
   "outputs": [],
   "source": [
    "type(prices)"
   ]
  },
  {
   "cell_type": "code",
   "execution_count": null,
   "id": "507b61bf",
   "metadata": {},
   "outputs": [],
   "source": [
    "marks = []"
   ]
  },
  {
   "cell_type": "code",
   "execution_count": null,
   "id": "dc029e39",
   "metadata": {},
   "outputs": [],
   "source": [
    "type(marks)"
   ]
  },
  {
   "cell_type": "code",
   "execution_count": null,
   "id": "89a77e52",
   "metadata": {},
   "outputs": [],
   "source": [
    "prices = [300,700,800,900]\n",
    "\n",
    "def list_sum():\n",
    "    sum = 0\n",
    "    for i in prices:\n",
    "        sum = sum+ i\n",
    "    return sum\n",
    "\n",
    "        "
   ]
  },
  {
   "cell_type": "code",
   "execution_count": null,
   "id": "052d5ceb",
   "metadata": {},
   "outputs": [],
   "source": [
    "s = list_sum()"
   ]
  },
  {
   "cell_type": "code",
   "execution_count": null,
   "id": "8f6525b5",
   "metadata": {},
   "outputs": [],
   "source": [
    "s"
   ]
  },
  {
   "cell_type": "markdown",
   "id": "c1caa614",
   "metadata": {},
   "source": [
    "# Error Handeling"
   ]
  },
  {
   "cell_type": "code",
   "execution_count": 21,
   "id": "a5cce602",
   "metadata": {},
   "outputs": [
    {
     "name": "stdout",
     "output_type": "stream",
     "text": [
      "enter a number:3\n",
      "Enter a number: 3\n",
      "name 'pint' is not defined\n"
     ]
    }
   ],
   "source": [
    "import sys\n",
    "n1 = float(input(\"enter a number:\"))\n",
    "n2 = float(input(\"Enter a number: \"))\n",
    "try:\n",
    "    div= n1/n2\n",
    "    pint(div)\n",
    "except:\n",
    "    error = sys.exc_info()[1]\n",
    "    print(error)\n"
   ]
  },
  {
   "cell_type": "code",
   "execution_count": 18,
   "id": "53a985c9",
   "metadata": {},
   "outputs": [
    {
     "ename": "IndexError",
     "evalue": "tuple index out of range",
     "output_type": "error",
     "traceback": [
      "\u001b[1;31m---------------------------------------------------------------------------\u001b[0m",
      "\u001b[1;31mNameError\u001b[0m                                 Traceback (most recent call last)",
      "Cell \u001b[1;32mIn[18], line 2\u001b[0m\n\u001b[0;32m      1\u001b[0m \u001b[38;5;28;01mtry\u001b[39;00m:\n\u001b[1;32m----> 2\u001b[0m     prnt(\u001b[38;5;124m\"\u001b[39m\u001b[38;5;124mhello\u001b[39m\u001b[38;5;124m\"\u001b[39m)\n\u001b[0;32m      3\u001b[0m \u001b[38;5;28;01mexcept\u001b[39;00m:\n",
      "\u001b[1;31mNameError\u001b[0m: name 'prnt' is not defined",
      "\nDuring handling of the above exception, another exception occurred:\n",
      "\u001b[1;31mIndexError\u001b[0m                                Traceback (most recent call last)",
      "Cell \u001b[1;32mIn[18], line 4\u001b[0m\n\u001b[0;32m      2\u001b[0m     prnt(\u001b[38;5;124m\"\u001b[39m\u001b[38;5;124mhello\u001b[39m\u001b[38;5;124m\"\u001b[39m)\n\u001b[0;32m      3\u001b[0m \u001b[38;5;28;01mexcept\u001b[39;00m:\n\u001b[1;32m----> 4\u001b[0m     e \u001b[38;5;241m=\u001b[39m sys\u001b[38;5;241m.\u001b[39mexc_info()[\u001b[38;5;241m3\u001b[39m]\n\u001b[0;32m      5\u001b[0m     \u001b[38;5;28mprint\u001b[39m(e)\n",
      "\u001b[1;31mIndexError\u001b[0m: tuple index out of range"
     ]
    }
   ],
   "source": [
    "try:\n",
    "    prnt(\"hello\")\n",
    "except:\n",
    "    e = sys.exc_info()[3]\n",
    "    print(e)"
   ]
  },
  {
   "cell_type": "code",
   "execution_count": 14,
   "id": "252e1e34",
   "metadata": {},
   "outputs": [
    {
     "ename": "ZeroDivisionError",
     "evalue": "division by zero",
     "output_type": "error",
     "traceback": [
      "\u001b[1;31m---------------------------------------------------------------------------\u001b[0m",
      "\u001b[1;31mZeroDivisionError\u001b[0m                         Traceback (most recent call last)",
      "Cell \u001b[1;32mIn[14], line 1\u001b[0m\n\u001b[1;32m----> 1\u001b[0m \u001b[38;5;241m5\u001b[39m\u001b[38;5;241m/\u001b[39m\u001b[38;5;241m0\u001b[39m\n",
      "\u001b[1;31mZeroDivisionError\u001b[0m: division by zero"
     ]
    }
   ],
   "source": [
    "5/0"
   ]
  },
  {
   "cell_type": "code",
   "execution_count": null,
   "id": "eb202507",
   "metadata": {},
   "outputs": [],
   "source": []
  }
 ],
 "metadata": {
  "kernelspec": {
   "display_name": "Python 3 (ipykernel)",
   "language": "python",
   "name": "python3"
  },
  "language_info": {
   "codemirror_mode": {
    "name": "ipython",
    "version": 3
   },
   "file_extension": ".py",
   "mimetype": "text/x-python",
   "name": "python",
   "nbconvert_exporter": "python",
   "pygments_lexer": "ipython3",
   "version": "3.11.5"
  }
 },
 "nbformat": 4,
 "nbformat_minor": 5
}
