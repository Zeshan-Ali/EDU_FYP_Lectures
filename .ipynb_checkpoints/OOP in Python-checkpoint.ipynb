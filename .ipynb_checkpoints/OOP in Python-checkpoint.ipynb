{
 "cells": [
  {
   "cell_type": "code",
   "execution_count": 71,
   "id": "a326bfd9",
   "metadata": {},
   "outputs": [],
   "source": [
    "class student:\n",
    "    def __init__(self,math,phy,chem,urdu,eng):\n",
    "        self.math=math\n",
    "        self.phy=phy\n",
    "        self.chem=chem\n",
    "        self.urdu=urdu\n",
    "        self.eng=eng\n",
    "\n",
    "    def calculate_total(self):\n",
    "        self.total= self.math + self.phy+self.chem+self.urdu+self.eng\n",
    "        return self.total\n",
    "    \n",
    "    def calculate_perc(self,total):\n",
    "        total_marks = 500\n",
    "        self.perce = (self.total/total_marks) * 100\n",
    "        return self.perce\n",
    "    def calculate_grade(self,perce):\n",
    "        self.g=''\n",
    "        if(self.perce > 80):\n",
    "            self.g='A'\n",
    "            #print(\"your grade is A\")\n",
    "        elif (self.perce > 70):\n",
    "            self.g='B'\n",
    "            #print(\"your grade is B\")\n",
    "        elif (self.perce > 60):\n",
    "            self.g='C'\n",
    "            #print(\"your grade is C\")\n",
    "        elif (perce > 50):\n",
    "            self.g='D'\n",
    "            #print(\"your grade is D\")\n",
    "        elif (self.perce > 40):\n",
    "            self.g='E'\n",
    "            #print(\"your grade is E\")\n",
    "        else:\n",
    "            self.g='F'\n",
    "            #print(\"your Grade is F\")\n",
    "        return self.g"
   ]
  },
  {
   "cell_type": "code",
   "execution_count": 75,
   "id": "cd22030c",
   "metadata": {},
   "outputs": [
    {
     "name": "stdout",
     "output_type": "stream",
     "text": [
      "your grade is: C\n"
     ]
    }
   ],
   "source": [
    "s1 = student(45,87,60,67,56)\n",
    "total = s1.calculate_total()\n",
    "p = s1.calculate_perc(total)\n",
    "g=s1.calculate_grade(p)\n",
    "print(\"your grade is:\",g)"
   ]
  },
  {
   "cell_type": "code",
   "execution_count": 76,
   "id": "75ebcbd3",
   "metadata": {},
   "outputs": [
    {
     "name": "stdout",
     "output_type": "stream",
     "text": [
      "you total marks is : 388\n",
      "you percetnage is : 77.60000000000001\n",
      "your grade is: B\n"
     ]
    }
   ],
   "source": [
    "s2 = student(78,87,80,87,56)\n",
    "total = s2.calculate_total()\n",
    "print(\"you total marks is :\",total)\n",
    "p = s2.calculate_perc(total)\n",
    "print(\"you percetnage is :\",p)\n",
    "g=s2.calculate_grade(p)\n",
    "\n",
    "print(\"your grade is:\",g)"
   ]
  },
  {
   "cell_type": "code",
   "execution_count": 77,
   "id": "71d03add",
   "metadata": {},
   "outputs": [],
   "source": [
    "students = {\"phy\":67,\"chem\":68,\"math\":45,\"eng\":78,\"urdu\":78}"
   ]
  },
  {
   "cell_type": "code",
   "execution_count": null,
   "id": "abbaff07",
   "metadata": {},
   "outputs": [],
   "source": []
  },
  {
   "cell_type": "code",
   "execution_count": null,
   "id": "d8965182",
   "metadata": {},
   "outputs": [],
   "source": []
  },
  {
   "cell_type": "code",
   "execution_count": null,
   "id": "2469b1e3",
   "metadata": {},
   "outputs": [],
   "source": []
  },
  {
   "cell_type": "code",
   "execution_count": null,
   "id": "0a454134",
   "metadata": {},
   "outputs": [],
   "source": []
  },
  {
   "cell_type": "code",
   "execution_count": null,
   "id": "c6a2bc95",
   "metadata": {},
   "outputs": [],
   "source": []
  },
  {
   "cell_type": "code",
   "execution_count": null,
   "id": "f1e84e41",
   "metadata": {},
   "outputs": [],
   "source": []
  }
 ],
 "metadata": {
  "kernelspec": {
   "display_name": "Python 3 (ipykernel)",
   "language": "python",
   "name": "python3"
  },
  "language_info": {
   "codemirror_mode": {
    "name": "ipython",
    "version": 3
   },
   "file_extension": ".py",
   "mimetype": "text/x-python",
   "name": "python",
   "nbconvert_exporter": "python",
   "pygments_lexer": "ipython3",
   "version": "3.11.5"
  }
 },
 "nbformat": 4,
 "nbformat_minor": 5
}
