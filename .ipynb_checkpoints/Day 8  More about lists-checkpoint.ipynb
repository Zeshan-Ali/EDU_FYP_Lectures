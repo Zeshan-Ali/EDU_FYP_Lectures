{
 "cells": [
  {
   "cell_type": "markdown",
   "id": "e98e2d7b",
   "metadata": {},
   "source": [
    "# more lists \n",
    "## slicing in list"
   ]
  },
  {
   "cell_type": "code",
   "execution_count": 15,
   "id": "7737c17e",
   "metadata": {},
   "outputs": [],
   "source": [
    "name = ['ahmad','ali','usman','khalil',1,1]"
   ]
  },
  {
   "cell_type": "code",
   "execution_count": 16,
   "id": "5767d32a",
   "metadata": {},
   "outputs": [],
   "source": [
    "without_first=name[1:-1]"
   ]
  },
  {
   "cell_type": "code",
   "execution_count": 17,
   "id": "49d3c1a6",
   "metadata": {},
   "outputs": [
    {
     "data": {
      "text/plain": [
       "['ali', 'usman', 'khalil', 1]"
      ]
     },
     "execution_count": 17,
     "metadata": {},
     "output_type": "execute_result"
    }
   ],
   "source": [
    "without_first"
   ]
  },
  {
   "cell_type": "code",
   "execution_count": 50,
   "id": "a567639e",
   "metadata": {},
   "outputs": [
    {
     "data": {
      "text/plain": [
       "[67, 'zeeshan', 'ali', 'ali', 'khalil', 1]"
      ]
     },
     "execution_count": 50,
     "metadata": {},
     "output_type": "execute_result"
    }
   ],
   "source": [
    "name[:-1]"
   ]
  },
  {
   "cell_type": "markdown",
   "id": "cac5ed1d",
   "metadata": {},
   "source": [
    "name[1:]"
   ]
  },
  {
   "cell_type": "code",
   "execution_count": 20,
   "id": "2935686c",
   "metadata": {},
   "outputs": [],
   "source": [
    "name[0]='zeeshan'   update"
   ]
  },
  {
   "cell_type": "code",
   "execution_count": 21,
   "id": "f1805e01",
   "metadata": {},
   "outputs": [
    {
     "data": {
      "text/plain": [
       "['zeeshan', 'ali', 'usman', 'khalil', 1, 1]"
      ]
     },
     "execution_count": 21,
     "metadata": {},
     "output_type": "execute_result"
    }
   ],
   "source": [
    "name"
   ]
  },
  {
   "cell_type": "code",
   "execution_count": 23,
   "id": "d38ca359",
   "metadata": {},
   "outputs": [],
   "source": [
    "del name[2]"
   ]
  },
  {
   "cell_type": "code",
   "execution_count": 24,
   "id": "17038e71",
   "metadata": {},
   "outputs": [
    {
     "data": {
      "text/plain": [
       "['zeeshan', 'ali', 'khalil', 1, 1]"
      ]
     },
     "execution_count": 24,
     "metadata": {},
     "output_type": "execute_result"
    }
   ],
   "source": [
    "name"
   ]
  },
  {
   "cell_type": "code",
   "execution_count": 25,
   "id": "bc227eea",
   "metadata": {},
   "outputs": [],
   "source": [
    "name.remove(1)"
   ]
  },
  {
   "cell_type": "code",
   "execution_count": 26,
   "id": "01b06d22",
   "metadata": {},
   "outputs": [
    {
     "data": {
      "text/plain": [
       "['zeeshan', 'ali', 'khalil', 1]"
      ]
     },
     "execution_count": 26,
     "metadata": {},
     "output_type": "execute_result"
    }
   ],
   "source": [
    "name"
   ]
  },
  {
   "cell_type": "code",
   "execution_count": 27,
   "id": "5968214f",
   "metadata": {},
   "outputs": [],
   "source": [
    "name.append(3)"
   ]
  },
  {
   "cell_type": "code",
   "execution_count": 28,
   "id": "d34cbf97",
   "metadata": {},
   "outputs": [
    {
     "data": {
      "text/plain": [
       "['zeeshan', 'ali', 'khalil', 1, 3]"
      ]
     },
     "execution_count": 28,
     "metadata": {},
     "output_type": "execute_result"
    }
   ],
   "source": [
    "name"
   ]
  },
  {
   "cell_type": "code",
   "execution_count": 30,
   "id": "534eca93",
   "metadata": {},
   "outputs": [],
   "source": [
    "name.insert(1,'ali')"
   ]
  },
  {
   "cell_type": "code",
   "execution_count": 31,
   "id": "84fedc51",
   "metadata": {},
   "outputs": [
    {
     "data": {
      "text/plain": [
       "['zeeshan', 'ali', 'ali', 'khalil', 1, 3]"
      ]
     },
     "execution_count": 31,
     "metadata": {},
     "output_type": "execute_result"
    }
   ],
   "source": [
    "name"
   ]
  },
  {
   "cell_type": "code",
   "execution_count": 32,
   "id": "8d5b1c8b",
   "metadata": {},
   "outputs": [],
   "source": [
    "name.insert(0,67)"
   ]
  },
  {
   "cell_type": "code",
   "execution_count": 33,
   "id": "e494480b",
   "metadata": {},
   "outputs": [
    {
     "data": {
      "text/plain": [
       "[67, 'zeeshan', 'ali', 'ali', 'khalil', 1, 3]"
      ]
     },
     "execution_count": 33,
     "metadata": {},
     "output_type": "execute_result"
    }
   ],
   "source": [
    "name"
   ]
  },
  {
   "cell_type": "code",
   "execution_count": 34,
   "id": "86b021b1",
   "metadata": {},
   "outputs": [
    {
     "name": "stdout",
     "output_type": "stream",
     "text": [
      "7\n"
     ]
    }
   ],
   "source": [
    "s=0\n",
    "for n in name:\n",
    "    s=s+1\n",
    "\n",
    "print(s)"
   ]
  },
  {
   "cell_type": "code",
   "execution_count": 35,
   "id": "df417c60",
   "metadata": {},
   "outputs": [
    {
     "data": {
      "text/plain": [
       "7"
      ]
     },
     "execution_count": 35,
     "metadata": {},
     "output_type": "execute_result"
    }
   ],
   "source": [
    "len(name "
   ]
  },
  {
   "cell_type": "code",
   "execution_count": 36,
   "id": "0877a70a",
   "metadata": {},
   "outputs": [
    {
     "data": {
      "text/plain": [
       "[67,\n",
       " 'zeeshan',\n",
       " 'ali',\n",
       " 'ali',\n",
       " 'khalil',\n",
       " 1,\n",
       " 3,\n",
       " 67,\n",
       " 'zeeshan',\n",
       " 'ali',\n",
       " 'ali',\n",
       " 'khalil',\n",
       " 1,\n",
       " 3,\n",
       " 67,\n",
       " 'zeeshan',\n",
       " 'ali',\n",
       " 'ali',\n",
       " 'khalil',\n",
       " 1,\n",
       " 3,\n",
       " 67,\n",
       " 'zeeshan',\n",
       " 'ali',\n",
       " 'ali',\n",
       " 'khalil',\n",
       " 1,\n",
       " 3]"
      ]
     },
     "execution_count": 36,
     "metadata": {},
     "output_type": "execute_result"
    }
   ],
   "source": [
    "name *4"
   ]
  },
  {
   "cell_type": "code",
   "execution_count": 37,
   "id": "70d9ba37",
   "metadata": {},
   "outputs": [],
   "source": [
    "age = [1,2,3,4,5]"
   ]
  },
  {
   "cell_type": "code",
   "execution_count": 45,
   "id": "46afd5fe",
   "metadata": {},
   "outputs": [],
   "source": [
    "age_2=age*2"
   ]
  },
  {
   "cell_type": "code",
   "execution_count": 39,
   "id": "f67cfe66",
   "metadata": {},
   "outputs": [
    {
     "data": {
      "text/plain": [
       "True"
      ]
     },
     "execution_count": 39,
     "metadata": {},
     "output_type": "execute_result"
    }
   ],
   "source": [
    "3 in age"
   ]
  },
  {
   "cell_type": "code",
   "execution_count": 40,
   "id": "f8879915",
   "metadata": {},
   "outputs": [
    {
     "data": {
      "text/plain": [
       "False"
      ]
     },
     "execution_count": 40,
     "metadata": {},
     "output_type": "execute_result"
    }
   ],
   "source": [
    "6 in age"
   ]
  },
  {
   "cell_type": "code",
   "execution_count": 41,
   "id": "f9e98643",
   "metadata": {},
   "outputs": [
    {
     "data": {
      "text/plain": [
       "1"
      ]
     },
     "execution_count": 41,
     "metadata": {},
     "output_type": "execute_result"
    }
   ],
   "source": [
    "name.count(3)"
   ]
  },
  {
   "cell_type": "code",
   "execution_count": 47,
   "id": "f47c0a7e",
   "metadata": {},
   "outputs": [
    {
     "data": {
      "text/plain": [
       "2"
      ]
     },
     "execution_count": 47,
     "metadata": {},
     "output_type": "execute_result"
    }
   ],
   "source": [
    "age_2.count(4)"
   ]
  },
  {
   "cell_type": "code",
   "execution_count": 49,
   "id": "52382de1",
   "metadata": {},
   "outputs": [
    {
     "name": "stdout",
     "output_type": "stream",
     "text": [
      "1\n",
      "2\n",
      "3\n",
      "4\n",
      "5\n"
     ]
    }
   ],
   "source": [
    "for a in age:\n",
    "    print(a)"
   ]
  },
  {
   "cell_type": "code",
   "execution_count": 51,
   "id": "e4c55861",
   "metadata": {},
   "outputs": [
    {
     "data": {
      "text/plain": [
       "[67, 'zeeshan', 'ali', 'ali', 'khalil', 1, 3]"
      ]
     },
     "execution_count": 51,
     "metadata": {},
     "output_type": "execute_result"
    }
   ],
   "source": [
    "name"
   ]
  },
  {
   "cell_type": "code",
   "execution_count": 52,
   "id": "2871945a",
   "metadata": {},
   "outputs": [
    {
     "data": {
      "text/plain": [
       "'zeeshan'"
      ]
     },
     "execution_count": 52,
     "metadata": {},
     "output_type": "execute_result"
    }
   ],
   "source": [
    "name[1]"
   ]
  },
  {
   "cell_type": "code",
   "execution_count": 53,
   "id": "7cd7dbb3",
   "metadata": {},
   "outputs": [
    {
     "data": {
      "text/plain": [
       "['zeeshan', 'ali', 'ali', 'khalil', 1, 3]"
      ]
     },
     "execution_count": 53,
     "metadata": {},
     "output_type": "execute_result"
    }
   ],
   "source": [
    "name[1:]"
   ]
  },
  {
   "cell_type": "code",
   "execution_count": 54,
   "id": "73bf7e6a",
   "metadata": {},
   "outputs": [
    {
     "data": {
      "text/plain": [
       "3"
      ]
     },
     "execution_count": 54,
     "metadata": {},
     "output_type": "execute_result"
    }
   ],
   "source": [
    "name[-1]"
   ]
  },
  {
   "cell_type": "code",
   "execution_count": 56,
   "id": "050c7482",
   "metadata": {},
   "outputs": [
    {
     "data": {
      "text/plain": [
       "[67]"
      ]
     },
     "execution_count": 56,
     "metadata": {},
     "output_type": "execute_result"
    }
   ],
   "source": [
    "name[:1]"
   ]
  },
  {
   "cell_type": "code",
   "execution_count": 57,
   "id": "5ad0e22f",
   "metadata": {},
   "outputs": [
    {
     "data": {
      "text/plain": [
       "['zeeshan', 'ali', 'ali', 'khalil']"
      ]
     },
     "execution_count": 57,
     "metadata": {},
     "output_type": "execute_result"
    }
   ],
   "source": [
    "name[1:5]"
   ]
  },
  {
   "cell_type": "code",
   "execution_count": 62,
   "id": "2f78aea2",
   "metadata": {},
   "outputs": [
    {
     "data": {
      "text/plain": [
       "[]"
      ]
     },
     "execution_count": 62,
     "metadata": {},
     "output_type": "execute_result"
    }
   ],
   "source": [
    "name[-1:2]"
   ]
  },
  {
   "cell_type": "markdown",
   "id": "de31a174",
   "metadata": {},
   "source": []
  },
  {
   "cell_type": "code",
   "execution_count": 63,
   "id": "efc1e6f6",
   "metadata": {},
   "outputs": [
    {
     "ename": "NameError",
     "evalue": "name 'cmp' is not defined",
     "output_type": "error",
     "traceback": [
      "\u001b[1;31m---------------------------------------------------------------------------\u001b[0m",
      "\u001b[1;31mNameError\u001b[0m                                 Traceback (most recent call last)",
      "Cell \u001b[1;32mIn[63], line 1\u001b[0m\n\u001b[1;32m----> 1\u001b[0m cmp(age,age_2)\n",
      "\u001b[1;31mNameError\u001b[0m: name 'cmp' is not defined"
     ]
    }
   ],
   "source": [
    "cmp(age,age_2)"
   ]
  },
  {
   "cell_type": "code",
   "execution_count": 64,
   "id": "6cc7befd",
   "metadata": {},
   "outputs": [
    {
     "data": {
      "text/plain": [
       "5"
      ]
     },
     "execution_count": 64,
     "metadata": {},
     "output_type": "execute_result"
    }
   ],
   "source": [
    "max(age)"
   ]
  },
  {
   "cell_type": "code",
   "execution_count": 67,
   "id": "217f0b3f",
   "metadata": {},
   "outputs": [
    {
     "data": {
      "text/plain": [
       "1"
      ]
     },
     "execution_count": 67,
     "metadata": {},
     "output_type": "execute_result"
    }
   ],
   "source": [
    "min(age_2)"
   ]
  },
  {
   "cell_type": "code",
   "execution_count": 69,
   "id": "228c0ad0",
   "metadata": {},
   "outputs": [
    {
     "data": {
      "text/plain": [
       "5"
      ]
     },
     "execution_count": 69,
     "metadata": {},
     "output_type": "execute_result"
    }
   ],
   "source": [
    "age.pop(4)"
   ]
  },
  {
   "cell_type": "code",
   "execution_count": null,
   "id": "b8078c96",
   "metadata": {},
   "outputs": [],
   "source": []
  }
 ],
 "metadata": {
  "kernelspec": {
   "display_name": "Python 3 (ipykernel)",
   "language": "python",
   "name": "python3"
  },
  "language_info": {
   "codemirror_mode": {
    "name": "ipython",
    "version": 3
   },
   "file_extension": ".py",
   "mimetype": "text/x-python",
   "name": "python",
   "nbconvert_exporter": "python",
   "pygments_lexer": "ipython3",
   "version": "3.11.5"
  }
 },
 "nbformat": 4,
 "nbformat_minor": 5
}
