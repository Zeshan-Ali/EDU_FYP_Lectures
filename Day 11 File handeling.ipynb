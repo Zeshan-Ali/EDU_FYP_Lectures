{
 "cells": [
  {
   "cell_type": "code",
   "execution_count": 1,
   "id": "c866e003",
   "metadata": {},
   "outputs": [],
   "source": [
    "a=8\n",
    "b=19"
   ]
  },
  {
   "cell_type": "code",
   "execution_count": 2,
   "id": "bfacdc52",
   "metadata": {},
   "outputs": [
    {
     "data": {
      "text/plain": [
       "8"
      ]
     },
     "execution_count": 2,
     "metadata": {},
     "output_type": "execute_result"
    }
   ],
   "source": [
    "a"
   ]
  },
  {
   "cell_type": "code",
   "execution_count": 3,
   "id": "844da54a",
   "metadata": {},
   "outputs": [
    {
     "data": {
      "text/plain": [
       "19"
      ]
     },
     "execution_count": 3,
     "metadata": {},
     "output_type": "execute_result"
    }
   ],
   "source": [
    "b"
   ]
  },
  {
   "cell_type": "code",
   "execution_count": 37,
   "id": "55b3abf6",
   "metadata": {},
   "outputs": [],
   "source": [
    "name = open(\"name.txt\",\"w\")\n",
    "name.write(\"nai\")\n",
    "name.write(\"yyyyy\")\n",
    "name.write('kkkkk')\n",
    "\n",
    "name.close()"
   ]
  },
  {
   "cell_type": "code",
   "execution_count": 44,
   "id": "968c4a36",
   "metadata": {},
   "outputs": [],
   "source": [
    "students = open(\"students.csv\",\"a\")\n",
    "students.write(\"4,ukkasha,14\")\n",
    "students.close()"
   ]
  },
  {
   "cell_type": "code",
   "execution_count": 56,
   "id": "831aeb32",
   "metadata": {},
   "outputs": [],
   "source": [
    "stu = open(\"students.csv\",\"r\")\n",
    "for i in stu:\n",
    "    print(i)\n",
    "#stu.close()"
   ]
  },
  {
   "cell_type": "code",
   "execution_count": 54,
   "id": "9bf27c99",
   "metadata": {},
   "outputs": [
    {
     "data": {
      "text/plain": [
       "5"
      ]
     },
     "execution_count": 54,
     "metadata": {},
     "output_type": "execute_result"
    }
   ],
   "source": [
    "stu2 = open(\"students.csv\",\"w\")\n",
    "stu2.write(\"hello\")"
   ]
  },
  {
   "cell_type": "code",
   "execution_count": 48,
   "id": "2c671792",
   "metadata": {},
   "outputs": [],
   "source": [
    "stu2.close()"
   ]
  },
  {
   "cell_type": "code",
   "execution_count": 57,
   "id": "83cc1916",
   "metadata": {},
   "outputs": [
    {
     "ename": "ValueError",
     "evalue": "I/O operation on closed file.",
     "output_type": "error",
     "traceback": [
      "\u001b[1;31m---------------------------------------------------------------------------\u001b[0m",
      "\u001b[1;31mValueError\u001b[0m                                Traceback (most recent call last)",
      "Cell \u001b[1;32mIn[57], line 1\u001b[0m\n\u001b[1;32m----> 1\u001b[0m \u001b[38;5;28mprint\u001b[39m(students\u001b[38;5;241m.\u001b[39mreadlines())\n",
      "\u001b[1;31mValueError\u001b[0m: I/O operation on closed file."
     ]
    }
   ],
   "source": [
    "print(students.readlines())\n"
   ]
  },
  {
   "cell_type": "code",
   "execution_count": 58,
   "id": "454849e2",
   "metadata": {},
   "outputs": [],
   "source": [
    "with open(\"students.csv\",\"a\") as stu3:\n",
    "    stu3.write(\"hello\")\n",
    "    "
   ]
  },
  {
   "cell_type": "code",
   "execution_count": 61,
   "id": "f49e44da",
   "metadata": {},
   "outputs": [
    {
     "name": "stdout",
     "output_type": "stream",
     "text": [
      "hello\n"
     ]
    }
   ],
   "source": [
    "with open(\"students.csv\",\"r\") as stu3:\n",
    "    for i in stu3:\n",
    "        print(i)"
   ]
  },
  {
   "cell_type": "code",
   "execution_count": 64,
   "id": "fb0cd5f7",
   "metadata": {},
   "outputs": [
    {
     "name": "stdout",
     "output_type": "stream",
     "text": [
      "enter your name:ali\n",
      "enter your name:ahamd\n",
      "enter your name:usama\n",
      "enter your name:usmana\n",
      "enter your name:boota\n"
     ]
    }
   ],
   "source": [
    "for i in range(1,6):\n",
    "    name = input(\"enter your name:\")\n",
    "    \n",
    "\n",
    "    with open(\"guests.txt\",\"a\")as g:\n",
    "        g.write(name)\n",
    "        g.write(\"\\n\")"
   ]
  },
  {
   "cell_type": "code",
   "execution_count": null,
   "id": "cbb00798",
   "metadata": {},
   "outputs": [],
   "source": []
  }
 ],
 "metadata": {
  "kernelspec": {
   "display_name": "Python 3 (ipykernel)",
   "language": "python",
   "name": "python3"
  },
  "language_info": {
   "codemirror_mode": {
    "name": "ipython",
    "version": 3
   },
   "file_extension": ".py",
   "mimetype": "text/x-python",
   "name": "python",
   "nbconvert_exporter": "python",
   "pygments_lexer": "ipython3",
   "version": "3.11.5"
  }
 },
 "nbformat": 4,
 "nbformat_minor": 5
}
