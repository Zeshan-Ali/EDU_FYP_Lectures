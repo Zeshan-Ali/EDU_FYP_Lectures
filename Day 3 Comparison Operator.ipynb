{
 "cells": [
  {
   "cell_type": "code",
   "execution_count": 2,
   "id": "c15344d7",
   "metadata": {},
   "outputs": [
    {
     "name": "stdout",
     "output_type": "stream",
     "text": [
      "Helo\n"
     ]
    }
   ],
   "source": [
    "print(\"Helo\")"
   ]
  },
  {
   "cell_type": "code",
   "execution_count": 28,
   "id": "dee9c1a2",
   "metadata": {},
   "outputs": [
    {
     "name": "stdout",
     "output_type": "stream",
     "text": [
      "what is your nameSHAN\n",
      "welcome to the game\n"
     ]
    }
   ],
   "source": [
    "name = input(\"what is your name\")\n",
    "if name.lower() == \"shan\":\n",
    "    print(\"welcome to the game\")\n",
    "else:\n",
    "    print(\"please select y for playing\")"
   ]
  },
  {
   "cell_type": "code",
   "execution_count": 13,
   "id": "9c2ae180",
   "metadata": {},
   "outputs": [
    {
     "name": "stdout",
     "output_type": "stream",
     "text": [
      "Please enter your percentage: 45\n",
      "E\n"
     ]
    }
   ],
   "source": [
    "marks_perc = float(input(\" Please enter your percentage: \"))\n",
    "\n",
    "if(marks_perc >= 80):\n",
    "    print(\"A\")\n",
    "elif (marks_perc >= 70):\n",
    "    print(\"B\")\n",
    "elif (marks_perc >= 60):\n",
    "    print(\"C\")\n",
    "elif (marks_perc >= 50):\n",
    "    print(\"D\")\n",
    "elif (marks_perc >= 40):\n",
    "    print(\"E\")\n",
    "else:\n",
    "    print(\"you failed \")\n",
    "    "
   ]
  },
  {
   "cell_type": "code",
   "execution_count": 20,
   "id": "dd46af5b",
   "metadata": {},
   "outputs": [],
   "source": [
    "a = \"helo\""
   ]
  },
  {
   "cell_type": "code",
   "execution_count": 21,
   "id": "38888ccb",
   "metadata": {},
   "outputs": [
    {
     "data": {
      "text/plain": [
       "'HELO'"
      ]
     },
     "execution_count": 21,
     "metadata": {},
     "output_type": "execute_result"
    }
   ],
   "source": [
    "a.upper()"
   ]
  },
  {
   "cell_type": "code",
   "execution_count": 22,
   "id": "f5d52605",
   "metadata": {},
   "outputs": [],
   "source": [
    "b = \"HELO\""
   ]
  },
  {
   "cell_type": "code",
   "execution_count": 23,
   "id": "4d861d43",
   "metadata": {},
   "outputs": [
    {
     "data": {
      "text/plain": [
       "'helo'"
      ]
     },
     "execution_count": 23,
     "metadata": {},
     "output_type": "execute_result"
    }
   ],
   "source": [
    "b.lower()"
   ]
  },
  {
   "cell_type": "code",
   "execution_count": null,
   "id": "118f82d2",
   "metadata": {},
   "outputs": [],
   "source": []
  }
 ],
 "metadata": {
  "kernelspec": {
   "display_name": "Python 3 (ipykernel)",
   "language": "python",
   "name": "python3"
  },
  "language_info": {
   "codemirror_mode": {
    "name": "ipython",
    "version": 3
   },
   "file_extension": ".py",
   "mimetype": "text/x-python",
   "name": "python",
   "nbconvert_exporter": "python",
   "pygments_lexer": "ipython3",
   "version": "3.11.5"
  }
 },
 "nbformat": 4,
 "nbformat_minor": 5
}
